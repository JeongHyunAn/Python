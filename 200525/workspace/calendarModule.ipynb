{
 "cells": [
  {
   "cell_type": "markdown",
   "metadata": {},
   "source": [
    "달력출력에 필요한 함수"
   ]
  },
  {
   "cell_type": "code",
   "execution_count": 27,
   "metadata": {},
   "outputs": [],
   "source": [
    "# 연도를 인수로 넘겨받아 윤년, 평년을 판단하는 함수\n",
    "\n",
    "def isLeapYear(year):\n",
    "    return year % 4 == 0 and year % 100 != 0 or year % 400 == 0"
   ]
  },
  {
   "cell_type": "code",
   "execution_count": 28,
   "metadata": {},
   "outputs": [],
   "source": [
    "# 연, 월을 인수로 받아 그 달의 마지막 날짜를 리턴\n",
    "# 12달의 마지막 날짜를 기억하는 리스트를 만든다.\n",
    "# 윤년, 평년에 따른 2월의 마지막 날짜\n",
    "# 마지막 날짜를 리턴\n",
    "\n",
    "def lastDay(year, month):\n",
    "    last = [31, 28, 31, 30, 31, 30, 31, 31, 30, 31, 30, 31]\n",
    "    last[1] = 29 if month == 2 and isLeapYear(year) else 28\n",
    "    return last[month - 1]"
   ]
  },
  {
   "cell_type": "code",
   "execution_count": 37,
   "metadata": {},
   "outputs": [],
   "source": [
    "# 연, 월, 일을 인수로 받아 1년 1월 1일 부터 지나온 날짜의 함계를 리턴하는 함수\n",
    "'''\n",
    "def totalDay(year, month, day):\n",
    "    days = [31, 28, 31, 30, 31, 30, 31, 31, 30, 31, 30, 31]\n",
    "    total = 365 * (year - 1) + day\n",
    "    \n",
    "    for i in range(1, year, 1):\n",
    "        if i % 4 == 0 and year % 100 != 0 or year % 400 == 0:\n",
    "            total += 1\n",
    "    \n",
    "    for i in range(month - 1):\n",
    "        total += days[i]\n",
    "    \n",
    "    return total\n",
    "'''"
   ]
  },
  {
   "cell_type": "code",
   "execution_count": 42,
   "metadata": {},
   "outputs": [],
   "source": [
    "# 연, 월, 일을 인수로 받아 1년 1월 1일 부터 지나온 날짜의 함계를 리턴하는 함수\n",
    "# 선생님 버전\n",
    "\n",
    "def totalDay(year, month, day):\n",
    "    total = 365 * (year - 1) + (year - 1) // 4 - (year - 1) // 100 + (year - 1) // 400 # 윤년 더하기\n",
    "        \n",
    "    # 전년도 12월 31일 까지 지난 날짜에 전달 까지 지난 날짜를 더하기\n",
    "    for i in range(1, month):\n",
    "        total += lastDay(year, i)\n",
    "    \n",
    "    return total + day"
   ]
  },
  {
   "cell_type": "code",
   "execution_count": 49,
   "metadata": {},
   "outputs": [],
   "source": [
    "# 연, 월, 일을 인수로 넘겨받아 요일을 숫자로 리턴하는 함수\n",
    "# 일요일(0), 월요일(1), ... ,토요일(6)\n",
    "\n",
    "def weekDay(year, month, day):\n",
    "    day = totalDay(year, month, day) % 7\n",
    "    \n",
    "    return day"
   ]
  },
  {
   "cell_type": "code",
   "execution_count": 52,
   "metadata": {},
   "outputs": [
    {
     "name": "stdout",
     "output_type": "stream",
     "text": [
      "True\n",
      "29\n",
      "737591\n",
      "1\n"
     ]
    }
   ],
   "source": [
    "if __name__ == \"__main__\":\n",
    "    print(isLeapYear(2000))\n",
    "    print(lastDay(2000, 2))\n",
    "    print(totalDay(2020, 6, 15))\n",
    "    print(weekDay(2020, 6, 15))"
   ]
  }
 ],
 "metadata": {
  "kernelspec": {
   "display_name": "Python 3",
   "language": "python",
   "name": "python3"
  },
  "language_info": {
   "codemirror_mode": {
    "name": "ipython",
    "version": 3
   },
   "file_extension": ".py",
   "mimetype": "text/x-python",
   "name": "python",
   "nbconvert_exporter": "python",
   "pygments_lexer": "ipython3",
   "version": "3.7.6"
  }
 },
 "nbformat": 4,
 "nbformat_minor": 4
}
