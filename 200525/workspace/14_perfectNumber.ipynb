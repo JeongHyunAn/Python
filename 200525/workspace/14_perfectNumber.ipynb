{
 "cells": [
  {
   "cell_type": "markdown",
   "metadata": {},
   "source": [
    "완전수는 자기 자신을 제외한 양의 약수를 더했을 때 자기 자신이 되는 양의 정수  \n",
    "최초 네 개의 완전수는 6, 28, 496, 8128"
   ]
  },
  {
   "cell_type": "code",
   "execution_count": 15,
   "metadata": {
    "scrolled": false
   },
   "outputs": [
    {
     "name": "stdout",
     "output_type": "stream",
     "text": [
      "완전수 : 6\n",
      "완전수 : 28\n",
      "완전수 : 496\n",
      "완전수 갯수 : 3\n"
     ]
    }
   ],
   "source": [
    "# 4 ~ 1000 사이의 완전수와 완전수의 개수를 출력하는 프로그램\n",
    "count = 0\n",
    "perfect = []\n",
    "\n",
    "for i in range(4, 501, 1):\n",
    "    value = 0\n",
    "    k = i // 2\n",
    "    for j in range(1, k + 1):\n",
    "        if i % j == 0:\n",
    "            value += j\n",
    "    \n",
    "    if i == value:\n",
    "        perfect.append(i)\n",
    "        count += 1\n",
    "        \n",
    "for i in range(0, count):\n",
    "    print(f'완전수 : {perfect[i]}')\n",
    "\n",
    "print(f'완전수 갯수 : {count}')"
   ]
  },
  {
   "cell_type": "code",
   "execution_count": 3,
   "metadata": {},
   "outputs": [
    {
     "name": "stdout",
     "output_type": "stream",
     "text": [
      "1번째 완전수는 6입니다.\n",
      "2번째 완전수는 28입니다.\n",
      "3번째 완전수는 496입니다.\n",
      "4~1000 사이의 완전수의 갯수는 3개 입니다.\n"
     ]
    }
   ],
   "source": [
    "# 선생님 버전\n",
    "count = 0\n",
    "for i in range(4, 1001):\n",
    "    k = i // 2\n",
    "    total = 0\n",
    "    for j in range(1, k+1):\n",
    "        if i % j == 0:\n",
    "            total += j\n",
    "    \n",
    "    if i == total:\n",
    "        count += 1\n",
    "        print(\"{}번째 완전수는 {}입니다.\".format(count, i))\n",
    "\n",
    "print(\"4~1000 사이의 완전수의 갯수는 {}개 입니다.\".format(count))"
   ]
  }
 ],
 "metadata": {
  "kernelspec": {
   "display_name": "Python 3",
   "language": "python",
   "name": "python3"
  },
  "language_info": {
   "codemirror_mode": {
    "name": "ipython",
    "version": 3
   },
   "file_extension": ".py",
   "mimetype": "text/x-python",
   "name": "python",
   "nbconvert_exporter": "python",
   "pygments_lexer": "ipython3",
   "version": "3.7.6"
  }
 },
 "nbformat": 4,
 "nbformat_minor": 4
}
