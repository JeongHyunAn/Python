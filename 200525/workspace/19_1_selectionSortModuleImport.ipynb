{
 "cells": [
  {
   "cell_type": "code",
   "execution_count": 13,
   "metadata": {},
   "outputs": [
    {
     "ename": "SyntaxError",
     "evalue": "unexpected character after line continuation character (<ipython-input-13-20053dcba07f>, line 4)",
     "output_type": "error",
     "traceback": [
      "\u001b[1;36m  File \u001b[1;32m\"<ipython-input-13-20053dcba07f>\"\u001b[1;36m, line \u001b[1;32m4\u001b[0m\n\u001b[1;33m    import libs\\sortModule\u001b[0m\n\u001b[1;37m                          ^\u001b[0m\n\u001b[1;31mSyntaxError\u001b[0m\u001b[1;31m:\u001b[0m unexpected character after line continuation character\n"
     ]
    }
   ],
   "source": [
    "# 모듈은 import 시켜서 사용하며 문자로 시작해야 하며, 현재 작업중인 파일과 이름이 달라야 한다.\n",
    "# 사용자가 만든 Python파일(*.py)도 import 시켜서 사용할 수 있다.\n",
    "import libs.sortModule # 모듈은 통상 libs(라이브러리)폴더로 별도로 관리한다. / 현재는 같은 폴더 안에 있어서 실행\n",
    "\n",
    "data = [12, 45, 78, 23, 56, 89]\n",
    "sortModule.selectionSortAsc(data)\n",
    "print(data)"
   ]
  }
 ],
 "metadata": {
  "kernelspec": {
   "display_name": "Python 3",
   "language": "python",
   "name": "python3"
  },
  "language_info": {
   "codemirror_mode": {
    "name": "ipython",
    "version": 3
   },
   "file_extension": ".py",
   "mimetype": "text/x-python",
   "name": "python",
   "nbconvert_exporter": "python",
   "pygments_lexer": "ipython3",
   "version": "3.7.6"
  }
 },
 "nbformat": 4,
 "nbformat_minor": 4
}
