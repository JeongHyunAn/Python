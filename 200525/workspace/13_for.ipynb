{
 "cells": [
  {
   "cell_type": "markdown",
   "metadata": {},
   "source": [
    "for 명령은 반복 횟수가 몇번인지 알 경우 활용  \n",
    "숫자 리스트를 만들어주는 함수인 range()함수와 같이 사용하는 for  \n",
    "for 변수 in range(초기치, 최종치, 증가치) / 초기치와 증가치는 생략 가능, 생략시 초기치 = , 증가치 = 1  \n",
    "반복할 문장  \n",
    "...  \n",
    "range(0, 10, 1)와 range(10)은 의미가 같음  "
   ]
  },
  {
   "cell_type": "markdown",
   "metadata": {},
   "source": [
    "range([초기치,] 최종치[, 증가치])\n",
    "초기치 부터 최종치 -1 까지 증가치 만큼씩 증가하는 숫자 리스트를 만듬  최종치가 0으로 설정되면 1부터 시작"
   ]
  },
  {
   "cell_type": "code",
   "execution_count": null,
   "metadata": {},
   "outputs": [],
   "source": [
    "for i in range(0, 10, 1):\n",
    "    print(i, end = \" \")"
   ]
  },
  {
   "cell_type": "code",
   "execution_count": null,
   "metadata": {},
   "outputs": [],
   "source": [
    "for i in range(10):\n",
    "    print(i, end = \" \")"
   ]
  },
  {
   "cell_type": "code",
   "execution_count": null,
   "metadata": {},
   "outputs": [],
   "source": [
    "for i in range(1, 10, 2):\n",
    "    print(i, end = \" \")"
   ]
  },
  {
   "cell_type": "code",
   "execution_count": null,
   "metadata": {},
   "outputs": [],
   "source": [
    "for i in range(10, 0, -1):\n",
    "    print(i, end = \" \")"
   ]
  },
  {
   "cell_type": "code",
   "execution_count": null,
   "metadata": {},
   "outputs": [],
   "source": [
    "total = 0\n",
    "for i in range(1, 101, 1):\n",
    "    total += i\n",
    "print(\"1~100의 합계 : {}.\".format(total))"
   ]
  },
  {
   "cell_type": "markdown",
   "metadata": {},
   "source": [
    "주사위를 10번 굴려을 때 발생되는 각각의 눈의 개수를 계산 - 변수사용"
   ]
  },
  {
   "cell_type": "code",
   "execution_count": null,
   "metadata": {},
   "outputs": [],
   "source": [
    "# 모듈을 import 할 때 별명을 지정해서 프로그램에서 별명으로 작업\n",
    "import random as r  # import numpy as np 등 / as를 사용해서 모듈에 별명 지정\n",
    "a = 0; b = 0; c = 0; d = 0; e = 0; f = 0; \n",
    "\n",
    "for i in range(10):\n",
    "    j = r.randrange(1, 7)\n",
    "    if j == 1:\n",
    "        a += 1\n",
    "    elif j == 2:\n",
    "        b += 1\n",
    "    elif j == 3:\n",
    "        c += 1\n",
    "    elif j == 4:\n",
    "        d += 1\n",
    "    elif j == 5:\n",
    "        e += 1\n",
    "    else:\n",
    "        f += 1\n",
    "    \n",
    "    print(\"{0:2d}번째 주사위 숫자 : {1}\".format(i+1, j))\n",
    "\n",
    "print(\"'1' 출현빈도 : {}\\n'2' 출현빈도 : {}\\n'3' 출현빈도 : {}\\n'4' 출현빈도 : {}\\n'5' 출현빈도 : {}\\n'6' 출현빈도 {}\".format(a, b, c, d, e, f))"
   ]
  },
  {
   "cell_type": "code",
   "execution_count": 600,
   "metadata": {},
   "outputs": [
    {
     "name": "stdout",
     "output_type": "stream",
     "text": [
      "'1' 출현빈도 : 1\n",
      "'2' 출현빈도 : 3\n",
      "'3' 출현빈도 : 1\n",
      "'4' 출현빈도 : 2\n",
      "'5' 출현빈도 : 0\n",
      "'6' 출현빈도 : 3\n"
     ]
    }
   ],
   "source": [
    "# list를 활용한 주사위 카운트\n",
    "import random as r\n",
    "# 빈 list에 인자를 넣어주는 방법\n",
    "# 1. 초기화해서 넣어주기\n",
    "# count = [0, 0, 0, 0, 0, 0]\n",
    "# 2. for문으로 계속 생성\n",
    "# count = []\n",
    "# for i in range(6):\n",
    "#     count.append(0)\n",
    "# 3. for문을 count안에 입력\n",
    "count = [0 for i in range(6)]\n",
    "\n",
    "for i in range(10):\n",
    "    j = r.randrange(1, 7)\n",
    "    count[j-1] += 1\n",
    "\n",
    "    # print(\"{0:2d}번째 주사위 숫자 : {1}\".format(i+1, j))\n",
    "\n",
    "for i in range(6):\n",
    "    print(\"'{}' 출현빈도 : {}\".format(i+1, count[i]))"
   ]
  },
  {
   "cell_type": "markdown",
   "metadata": {},
   "source": [
    "리스트, 튜플, 딕셔너리, set과 같이 사용하는 for의 형태  \n",
    "for 변수 in 리스트 또는 튜플 또는 딕셔너리 또는 set:  \n",
    "반복할 문장  \n",
    "...  \n",
    "위 for문은\n",
    "리스트, 튜플, 딕셔너리, set의 0번째 위치에 저장된 값을 변수에 저장한 후 반복을 시작하고 한번 반복한 후 다음 위치의 값을 변수에 저장시키며 반복  \n",
    "마지막 위치의 값을 변수에 저장한 후 반복한 다음 반복문을 종료"
   ]
  },
  {
   "cell_type": "code",
   "execution_count": 609,
   "metadata": {},
   "outputs": [
    {
     "name": "stdout",
     "output_type": "stream",
     "text": [
      "Life\n",
      "is\n",
      "too\n",
      "good\n",
      "to\n",
      "be\n",
      "true\n",
      "========================================\n",
      "is\n",
      "too\n"
     ]
    }
   ],
   "source": [
    "# 리스트와 for\n",
    "l = [\"Life\", \"is\", \"too\", \"good\", \"to\", \"be\", \"true\"]\n",
    "# 데이터를 하나씩 출력하던 기존 방법\n",
    "#for i in range(len(l)):\n",
    "#    print(l[i])\n",
    "\n",
    "# 새로운 방법\n",
    "# 리스트에 저장된 전체 데이터를 가지고 작업할 경우 주로 사용\n",
    "for i in l:\n",
    "    print(i)\n",
    "# 일부분을 출력할 때는 리스트의 슬라이싱 기능을 사용하면 가능\n",
    "print('=' * 40)\n",
    "for i in l[1:3]:\n",
    "    print(i)"
   ]
  },
  {
   "cell_type": "code",
   "execution_count": 615,
   "metadata": {},
   "outputs": [
    {
     "name": "stdout",
     "output_type": "stream",
     "text": [
      "총점 :  366\n"
     ]
    }
   ],
   "source": [
    "scores = [90, 25, 67, 45, 80, 59]\n",
    "sumScores = 0\n",
    "\n",
    "for i in scores:\n",
    "    sumScores += i\n",
    "\n",
    "print('총점 : ', sumScores)"
   ]
  }
 ],
 "metadata": {
  "kernelspec": {
   "display_name": "Python 3",
   "language": "python",
   "name": "python3"
  },
  "language_info": {
   "codemirror_mode": {
    "name": "ipython",
    "version": 3
   },
   "file_extension": ".py",
   "mimetype": "text/x-python",
   "name": "python",
   "nbconvert_exporter": "python",
   "pygments_lexer": "ipython3",
   "version": "3.7.6"
  }
 },
 "nbformat": 4,
 "nbformat_minor": 4
}
