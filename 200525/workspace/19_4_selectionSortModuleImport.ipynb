{
 "cells": [
  {
   "cell_type": "code",
   "execution_count": 11,
   "metadata": {},
   "outputs": [],
   "source": [
    "# import할 모듈이 특정 폴더에 있는 경우 sys 라이브러리를 import하고 import할 모듈이 위치한 경로를 append() 메소드로 추가하면 된다.\n",
    "# 소스 파일과 라이브러리가 같은 드라이브에 있으면 드라이브 이름을 생략할 수 있다.\n",
    "import sys\n",
    "sys.path.append(\"d:/libs\")"
   ]
  },
  {
   "cell_type": "code",
   "execution_count": 12,
   "metadata": {},
   "outputs": [
    {
     "name": "stdout",
     "output_type": "stream",
     "text": [
      "[12, 23, 45, 56, 78, 89]\n"
     ]
    }
   ],
   "source": [
    "import sortModule as sm\n",
    "\n",
    "data = [12, 45, 78, 23, 56, 89]\n",
    "sm.selectionSortAsc(data)\n",
    "print(data)"
   ]
  }
 ],
 "metadata": {
  "kernelspec": {
   "display_name": "Python 3",
   "language": "python",
   "name": "python3"
  },
  "language_info": {
   "codemirror_mode": {
    "name": "ipython",
    "version": 3
   },
   "file_extension": ".py",
   "mimetype": "text/x-python",
   "name": "python",
   "nbconvert_exporter": "python",
   "pygments_lexer": "ipython3",
   "version": "3.7.6"
  }
 },
 "nbformat": 4,
 "nbformat_minor": 4
}
