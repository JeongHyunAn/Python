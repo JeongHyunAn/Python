{
 "cells": [
  {
   "cell_type": "markdown",
   "metadata": {},
   "source": [
    "네이버 연령대별 실시간 검색어 순위"
   ]
  },
  {
   "cell_type": "code",
   "execution_count": 1,
   "metadata": {},
   "outputs": [],
   "source": [
    "import requests\n",
    "from bs4 import BeautifulSoup"
   ]
  },
  {
   "cell_type": "code",
   "execution_count": 21,
   "metadata": {},
   "outputs": [
    {
     "name": "stdout",
     "output_type": "stream",
     "text": [
      "https://datalab.naver.com/keyword/realtimeList.naver?age=all&entertainment=-2&groupingLevel=0&marketing=-2&news=-2&sports=-2&where=main\n",
      "https://datalab.naver.com/keyword/realtimeList.naver?age=10s&entertainment=-2&groupingLevel=0&marketing=-2&news=-2&sports=-2&where=main\n",
      "https://datalab.naver.com/keyword/realtimeList.naver?age=20s&entertainment=-2&groupingLevel=0&marketing=-2&news=-2&sports=-2&where=main\n",
      "https://datalab.naver.com/keyword/realtimeList.naver?age=30s&entertainment=-2&groupingLevel=0&marketing=-2&news=-2&sports=-2&where=main\n",
      "https://datalab.naver.com/keyword/realtimeList.naver?age=40s&entertainment=-2&groupingLevel=0&marketing=-2&news=-2&sports=-2&where=main\n",
      "https://datalab.naver.com/keyword/realtimeList.naver?age=50s&entertainment=-2&groupingLevel=0&marketing=-2&news=-2&sports=-2&where=main\n"
     ]
    }
   ],
   "source": [
    "# https://datalab.naver.com/keyword/realtimeList.naver\n",
    "#     ?age=10s&entertainment=-2&groupingLevel=0&marketing=-2&news=-2&sports=-2&where=main # 10대\n",
    "# https://datalab.naver.com/keyword/realtimeList.naver\n",
    "#     ?age=20s&entertainment=-2&groupingLevel=0&marketing=-2&news=-2&sports=-2&where=main # 20대\n",
    "# https://datalab.naver.com/keyword/realtimeList.naver\n",
    "#     ?age=30s&entertainment=-2&groupingLevel=0&marketing=-2&news=-2&sports=-2&where=main # 30대\n",
    "# https://datalab.naver.com/keyword/realtimeList.naver\n",
    "#     ?age=40s&entertainment=-2&groupingLevel=0&marketing=-2&news=-2&sports=-2&where=main # 40대\n",
    "# https://datalab.naver.com/keyword/realtimeList.naver\n",
    "#     ?age=50s&entertainment=-2&groupingLevel=0&marketing=-2&news=-2&sports=-2&where=main # 50대\n",
    "# https://datalab.naver.com/keyword/realtimeList.naver\n",
    "#     ?age=all&entertainment=-2&groupingLevel=0&marketing=-2&news=-2&sports=-2&where=main # 60대\n",
    "ageList = {\"0\": \"all\", \"1\": \"10s\", \"2\": \"20s\", \"3\": \"30s\", \"4\": \"40s\", \"5\": \"50s\"}\n",
    "\n",
    "url1 = \"https://datalab.naver.com/keyword/realtimeList.naver?age=\"; # 공통 부분1\n",
    "url2 = \"&entertainment=-2&groupingLevel=0&marketing=-2&news=-2&sports=-2&where=main\" # 공통 부분2\n",
    "for key in ageList:\n",
    "    targetSite = '{}{}{}'.format(url1, ageList.get(key), url2)\n",
    "    print(targetSite)"
   ]
  },
  {
   "cell_type": "code",
   "execution_count": 40,
   "metadata": {
    "scrolled": false
   },
   "outputs": [
    {
     "name": "stdout",
     "output_type": "stream",
     "text": [
      "연령대를 선택하세요(0 => 전체, 1 => 10대, 2 => 20대, 3 => 30대, 4 => 40대, 5 => 50대) : 0\n",
      " 1위 => 최유라\n",
      " 2위 => 신동빈\n",
      " 3위 => 홍정환\n",
      " 4위 => 보광그룹\n",
      " 5위 => 이스타항공\n",
      " 6위 => 엉덩이 걷기\n",
      " 7위 => 신동주\n",
      " 8위 => 홈앤쇼핑\n",
      " 9위 => sk바이오팜 경쟁률\n",
      "10위 => 아모레 서민정\n",
      "11위 => 아미리\n",
      "12위 => 용화산 자연휴양림\n",
      "13위 => 이상직 의원\n",
      "14위 => 랩지노믹스\n",
      "15위 => 용화산\n",
      "16위 => 의왕시청\n",
      "17위 => 보광 홍정환\n",
      "18위 => 관찰카메라 24시간\n",
      "19위 => 대한외국인\n",
      "20위 => 보광\n"
     ]
    }
   ],
   "source": [
    "age = input(\"연령대를 선택하세요(0 => 전체, 1 => 10대, 2 => 20대, 3 => 30대, 4 => 40대, 5 => 50대) : \")\n",
    "targetSite = '{}{}{}'.format(url1, ageList.get(age), url2)\n",
    "# print(targetSite)\n",
    "\n",
    "header = \\\n",
    "{\"User-Agent\": \"Mozilla/5.0 (compatible, MSIE 11, Windows NT 6.3; Trident/7.0; rv:11.0) like Gecko\"}\n",
    "request = requests.get(targetSite, headers = header)\n",
    "# print(request)\n",
    "html = request.text\n",
    "# print(html)\n",
    "soup = BeautifulSoup(html, \"html.parser\")\n",
    "# print(soup)\n",
    "\n",
    "words = soup.findAll(\"span\", {\"class\": \"item_title\"})\n",
    "# print(words)\n",
    "for i in range(len(words)):\n",
    "    print(\"{0:2d}위 => {1}\".format(i + 1, words[i].text))"
   ]
  },
  {
   "cell_type": "code",
   "execution_count": null,
   "metadata": {},
   "outputs": [],
   "source": []
  },
  {
   "cell_type": "code",
   "execution_count": null,
   "metadata": {},
   "outputs": [],
   "source": []
  },
  {
   "cell_type": "code",
   "execution_count": null,
   "metadata": {},
   "outputs": [],
   "source": []
  },
  {
   "cell_type": "code",
   "execution_count": null,
   "metadata": {},
   "outputs": [],
   "source": []
  }
 ],
 "metadata": {
  "kernelspec": {
   "display_name": "Python 3",
   "language": "python",
   "name": "python3"
  },
  "language_info": {
   "codemirror_mode": {
    "name": "ipython",
    "version": 3
   },
   "file_extension": ".py",
   "mimetype": "text/x-python",
   "name": "python",
   "nbconvert_exporter": "python",
   "pygments_lexer": "ipython3",
   "version": "3.6.8"
  }
 },
 "nbformat": 4,
 "nbformat_minor": 4
}
