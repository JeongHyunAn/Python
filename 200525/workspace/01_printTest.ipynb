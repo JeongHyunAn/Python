{
 "cells": [
  {
   "cell_type": "markdown",
   "metadata": {},
   "source": [
    "'#'으로 시작하는 문장은 번역기가 번역하지 않는다.  \n",
    "주석은 프로그램을 실행하는데 아무런 영향을 미치지 않는다.  \n",
    "주석만 있는 cell은 위 도구모음의 code를 markdown으로 바꾸면 된다. 단, 줄바꿈을 하고 싶으면 space를 두번 치면 된다."
   ]
  },
  {
   "cell_type": "code",
   "execution_count": 14,
   "metadata": {},
   "outputs": [
    {
     "name": "stdout",
     "output_type": "stream",
     "text": [
      "Hello World\n",
      "안녕 파이썬\n",
      "그가 말했다. \"오늘 하루 즐거웠습니다.\"\n",
      "그러고선 그녀가 말했다. '조심히 들어가세요.'\n",
      "그가 물었다. \"다음에 다시 볼 수 있을까요?\"\n",
      "그녀가 답했다. '좋아요!'\n",
      "======================================================================\n"
     ]
    }
   ],
   "source": [
    "# jupyter notebook에서 cell 위에 추가하는 건 (cell의 좌측을 클릭 후) a(Above), 아래에 추가하는 건 b(below)를 누르면 되고, 지우려면 dd를 누름\n",
    "# print 한번 써보자 / print() 함수는 인수로 지정된 데이터를 출력하고 줄을 바꾼다.\n",
    "# python은 문자''와 문자열\"\"을 따로 구분하지 않고 전부 문자열로 구분한다.\n",
    "print(\"Hello World\")\n",
    "print('안녕 파이썬')\n",
    "# 따옴표를 쓰고싶을때는 \"\"와 ''를 구분하여야 한다.\n",
    "print('그가 말했다. \"오늘 하루 즐거웠습니다.\"')\n",
    "print(\"그러고선 그녀가 말했다. '조심히 들어가세요.'\")\n",
    "print(\"그가 물었다. \\\"다음에 다시 볼 수 있을까요?\\\"\")\n",
    "print('그녀가 답했다. \\'좋아요!\\'')\n",
    "# 절취선 찍기\n",
    "# 문자열을 출력할 때 '*' 연산자를 사용하면 문자열이 지정된 숫자만큼 반복된다.\n",
    "print(\"=\" * 70)"
   ]
  },
  {
   "cell_type": "code",
   "execution_count": 11,
   "metadata": {},
   "outputs": [
    {
     "name": "stdout",
     "output_type": "stream",
     "text": [
      "Hello World\n",
      "HelloWorld\n"
     ]
    }
   ],
   "source": [
    "# print()함수로 2개 이상의 데이터를 출력하려면 ',' 또는 '+'로 구분해서 출력한다.\n",
    "print(\"Hello\", \"World\") # ','는 한칸 공백추가\n",
    "print(\"Hello\" + \"World\") # '+'는 공백없이 이어서 출력(데이터가 연결되서 출력)"
   ]
  },
  {
   "cell_type": "code",
   "execution_count": 30,
   "metadata": {},
   "outputs": [
    {
     "name": "stdout",
     "output_type": "stream",
     "text": [
      "Hello World안녕 \n",
      "파이썬\n",
      "Hi\n",
      "Python\n",
      "Hello World 그리고 안녕 파이썬\n"
     ]
    }
   ],
   "source": [
    "# print() 함수 뒤에 end값을 지정하지 않으면 defalt값으로 개행문자를 출력한다.\n",
    "# 개행문자\"\\n\"를 쓰고싶지 않다면 뒤에(, end = \"\")를 쓴다.\n",
    "# 문자열 중간에 개행을 하고 싶다면 \\n을 집어넣어주거나, print() 함수를 나누어 쓰면 가능하다.\n",
    "print(\"Hello World\", end = \"\")\n",
    "print('안녕 \\n파이썬')\n",
    "print('Hi')\n",
    "print('Python')\n",
    "# print() 함수에 end 옵션을 이용하면 print() 함수가 실행된 후 출력할 내용을 지정할 수 있다.\n",
    "print(\"Hello World\", end = \" 그리고 \")\n",
    "print('안녕 파이썬')"
   ]
  },
  {
   "cell_type": "code",
   "execution_count": 33,
   "metadata": {},
   "outputs": [
    {
     "name": "stdout",
     "output_type": "stream",
     "text": [
      "hey! what's up?\n",
      "not much. you?\n",
      "\n",
      "hey! what's up?\n",
      "\n",
      "not much. you?\n"
     ]
    }
   ],
   "source": [
    "# 줄바꿈을 하고 싶을 때 \\n을 추가하여 쓰거나 print()함수를 중간에 데이터를 넣지 말고 쓰면 가능하다.\n",
    "print('hey! what\\'s up?\\n' + 'not much. you?')\n",
    "print('\\nhey! what\\'s up?')\n",
    "print()\n",
    "print('not much. you?')"
   ]
  },
  {
   "cell_type": "code",
   "execution_count": 62,
   "metadata": {},
   "outputs": [
    {
     "name": "stdout",
     "output_type": "stream",
     "text": [
      "  100\n",
      "    1\n",
      "1    \n",
      "00001\n",
      "10000\n"
     ]
    }
   ],
   "source": [
    "# 서식을 지정해 출력하기 / 서식문자(%d = 정수, %f = 실수, %s = 문자열)\n",
    "# 출력 서식을 제외한 나머지 문자는 입력한 그대로 출력된다.\n",
    "# 기본 포멧 print('출력 서식' % 출력할 데이터)\n",
    "# 출력 서식의 형식 → %[-][0][n][.m] 서식문자 / [] 안의 옵션은 필요한 경우 사용한다.\n",
    "# [-] = 전체 자리수가 지정된 경우 왼쪽에 맞춰 출력\n",
    "# [0] = 전체 자리수가 지정된 경우 왼쪽의 남는 자리에 '0'을 채워 출력 / 숫자에만 쓸 수 있다.\n",
    "# [n] = 전체 자리수\n",
    "# [.m] = 소수점 아래 자리수, 잘리는 자리에서 반올림해서 보여준다.\n",
    "\n",
    "print('%5d' % 100) # 5자리만 출력(남는자리에는 공백이 출력)\n",
    "print('%5d' % 1)\n",
    "print('%-5d' % 1)\n",
    "print('%05d' % 1)\n",
    "print('%5d' % 10000)"
   ]
  },
  {
   "cell_type": "code",
   "execution_count": 67,
   "metadata": {},
   "outputs": [
    {
     "name": "stdout",
     "output_type": "stream",
     "text": [
      "  abc\n",
      "    a\n",
      "a    \n",
      "    a\n",
      "abcde\n"
     ]
    }
   ],
   "source": [
    "print('%5s' % 'abc')\n",
    "print('%5s' % 'a')\n",
    "print('%-5s' % 'a')\n",
    "print('%05s' % 'a') # 0을 출력하는 걸 무시\n",
    "print('%5s' % 'abcde')"
   ]
  },
  {
   "cell_type": "code",
   "execution_count": 76,
   "metadata": {},
   "outputs": [
    {
     "name": "stdout",
     "output_type": "stream",
     "text": [
      "123.45\n",
      "123.46\n",
      "123.40\n",
      "  60\n",
      "  60\n"
     ]
    }
   ],
   "source": [
    "print('%6.2f' % 123.45) # .도 하나의 자리 수 로 카운드가 된다.\n",
    "print('%6.2f' % 123.456) # 자리수를 넘어가는 건 반올림하여 표시가 되지만, 실제 값은 변하지 않는다.\n",
    "print('%6.2f' % 123.4)\n",
    "print('%4.0f' % 60.4) # 반올림되다보니 1정도 차이가 나는 것도 이와 같은 오류가 난다.\n",
    "print('%4.0f' % 59.5)"
   ]
  },
  {
   "cell_type": "code",
   "execution_count": 110,
   "metadata": {},
   "outputs": [
    {
     "name": "stdout",
     "output_type": "stream",
     "text": [
      "5 + 3 = 8\n",
      "5 + 3 = 8\n",
      "5 + 3 = 8\n",
      "5 - 3 = 2\n",
      "5 * 3 = 15\n",
      "5 / 3 = 1.666667\n",
      "5 // 3 = 1.000000\n",
      "5 % 3 = 2\n",
      "2의 10승은 1024\n"
     ]
    }
   ],
   "source": [
    "# print('출력 서식' % 출력할 데이터) → 출력할 데이터가 2개 이상일 경우 ()로 묶음처리\n",
    "print('%d + %d = %d' % (5, 3, 8))\n",
    "print('%d + %d = %d' % (5, 3, 5 + 3))\n",
    "print('%d + %d = %s' % (5, 3, '8'))\n",
    "print('%d - %d = %d' % (5, 3, 5 - 3))\n",
    "print('%d * %d = %d' % (5, 3, 5 * 3))\n",
    "print('%d / %d = %f' % (5, 3, 5 / 3))\n",
    "print('%d // %d = %f' % (5, 3, 5 // 3)) # //를 쓰면 소수점 이하 절삭\n",
    "# 나머지를 계산하려면 '%'연산자를 사용\n",
    "print('%d %% %d = %d' % (5, 3, 5 % 3)) # %를 출력하고 싶다면 %%를 두개로 작성\n",
    "print('%d의 %d승은 %d' % (2, 10, 2**10)) # 거듭제곱"
   ]
  },
  {
   "cell_type": "code",
   "execution_count": 121,
   "metadata": {},
   "outputs": [
    {
     "name": "stdout",
     "output_type": "stream",
     "text": [
      "홍길동 5.123\n",
      "5.123 홍길동\n",
      "홍길동 5.123\n",
      "Hello 홍길동\n"
     ]
    }
   ],
   "source": [
    "# format() 메소드와 index를 사용하여 출력하기 / 단, index 주소는 0부터 시작\n",
    "# 참고! 메소드는 .을 찍고 사용하는 반면, 함수는 .을 찍지 않고 사용된다.\n",
    "print('{} {}'.format('홍길동', 5.123))\n",
    "print('{1} {0}'.format('홍길동', 5.123))\n",
    "print('{} {}'.format('홍길동', 5.123, 'Hello')) # 여분의 데이터는 무시되나, 없는 index를 참조하면 에러가 난다.\n",
    "print('{2} {0}'.format('홍길동', 5.123, 'Hello'))"
   ]
  },
  {
   "cell_type": "code",
   "execution_count": 130,
   "metadata": {},
   "outputs": [
    {
     "name": "stdout",
     "output_type": "stream",
     "text": [
      "안정현님은 31살 입니다.\n",
      "안정현님은 31살 입니다.\n",
      "안정현님은 00031살 입니다.\n",
      "안정현님은  1231살 입니다.\n"
     ]
    }
   ],
   "source": [
    "# format() 메소드와 index를 사용해 서식을 지정해서 출력하기\n",
    "# index 번호를 쓰고(생략 가능) index 번호 뒤에 ':'을 찍고 서식 지정 / 단, '%'는 사용하지 않는다.\n",
    "print('{0:s}님은 {1:d}살 입니다.'.format('안정현', 31))\n",
    "print('{:s}님은 {:d}살 입니다.'.format('안정현', 31)) # 기본적으로 index는 앞에서부터 채워지지만 이왕이면 숫자를 써주는게 좋다.\n",
    "print('{:s}님은 {:05d}살 입니다.'.format('안정현', 31))\n",
    "print('{:s}님은 {:5d}살 입니다.'.format('안정현', 1231))"
   ]
  },
  {
   "cell_type": "code",
   "execution_count": 145,
   "metadata": {},
   "outputs": [
    {
     "name": "stdout",
     "output_type": "stream",
     "text": [
      "hi        왼쪽정렬\n",
      "hi        왼쪽정렬\n",
      "        hi오른쪽정렬\n",
      "    hi    가운데정렬\n",
      "ㅎㅎㅎㅎhiㅎㅎㅎㅎ가운데정렬\n"
     ]
    }
   ],
   "source": [
    "# 문자열 정렬\n",
    "print('{0:10s}왼쪽정렬'.format('hi')) # default방식이 왼쪽정렬이다\n",
    "print('{0:<10s}왼쪽정렬'.format('hi')) # 왼쪽정렬을 적용하는 것은 <을 사용\n",
    "print('{0:>10s}오른쪽정렬'.format('hi')) # 오른쪽정렬을 적용하는 것은 >을 사용\n",
    "print('{0:^10s}가운데정렬'.format('hi')) # 가운데정렬을 적용하는 것은 ^을 사용\n",
    "# 공백을 채우고 싶으면 <, >, ^의 앞에 채우고 싶은 문자 적기\n",
    "print('{0:ㅎ^10s}가운데정렬'.format('hi')) # 가운데정렬을 적용하는 것은 ^을 사용"
   ]
  },
  {
   "cell_type": "code",
   "execution_count": 165,
   "metadata": {},
   "outputs": [
    {
     "name": "stdout",
     "output_type": "stream",
     "text": [
      "안정현님은 31살 입니다.\n"
     ]
    }
   ],
   "source": [
    "# f접두어를 사용하는 출력\n",
    "name = '안정현'\n",
    "age = 31\n",
    "print(f'{name}님은 {age}살 입니다.') # 파이썬 3.4 ~ 3.5에 나온 기법으로 f접두어를 활용해서 앞에 정의된 변수의 데이터를 끌어온다."
   ]
  },
  {
   "cell_type": "code",
   "execution_count": null,
   "metadata": {},
   "outputs": [],
   "source": []
  }
 ],
 "metadata": {
  "kernelspec": {
   "display_name": "Python 3",
   "language": "python",
   "name": "python3"
  },
  "language_info": {
   "codemirror_mode": {
    "name": "ipython",
    "version": 3
   },
   "file_extension": ".py",
   "mimetype": "text/x-python",
   "name": "python",
   "nbconvert_exporter": "python",
   "pygments_lexer": "ipython3",
   "version": "3.7.6"
  }
 },
 "nbformat": 4,
 "nbformat_minor": 4
}
