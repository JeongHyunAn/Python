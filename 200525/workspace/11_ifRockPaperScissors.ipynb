{
 "cells": [
  {
   "cell_type": "markdown",
   "metadata": {},
   "source": [
    "컴퓨터의 가위, 바위, 보를 얻어내기 위해 난수를 발생시키는 randrange()메소드를 사용하기 위해 해당 메소드를 포함하고 있는 random module을 추가  \n",
    "randrange(a, b) : a 부터 b-1 사이의 난수를 발생"
   ]
  },
  {
   "cell_type": "code",
   "execution_count": 30,
   "metadata": {},
   "outputs": [
    {
     "name": "stdout",
     "output_type": "stream",
     "text": [
      "'가위', '바위', '보'중 하나를 입력하세요 :바위\n",
      "컴퓨터는 바위을(를) 냈습니다.\n",
      "사용자는 바위을(를) 냈습니다.\n",
      "비겼습니다.\n",
      "'가위', '바위', '보'중 하나를 입력하세요 :바위\n",
      "컴퓨터는 가위을(를) 냈습니다.\n",
      "사용자는 바위을(를) 냈습니다.\n",
      "승리했습니다.\n"
     ]
    }
   ],
   "source": [
    "import random\n",
    "\n",
    "option = ['가위', '바위', '보']\n",
    "\n",
    "while True:\n",
    "    while True:\n",
    "        user = input(\"'가위', '바위', '보'중 하나를 입력하세요 :\")\n",
    "        if user in option:\n",
    "            break\n",
    "        else:\n",
    "            print('다시 입력하세요.')\n",
    "\n",
    "    com = random.choice(option)\n",
    "    print('컴퓨터는 ' + com + '을(를) 냈습니다.')\n",
    "    print('사용자는 ' + user + '을(를) 냈습니다.')\n",
    "\n",
    "    if com == user:\n",
    "        print('비겼습니다.')\n",
    "    elif com == option[option.index(user) - 1]:\n",
    "        print('승리했습니다.')\n",
    "        break\n",
    "    else:\n",
    "        print('패배했습니다.')\n",
    "        break"
   ]
  },
  {
   "cell_type": "code",
   "execution_count": 34,
   "metadata": {},
   "outputs": [
    {
     "name": "stdout",
     "output_type": "stream",
     "text": [
      "'가위(1)', '바위(2)', '보(3)'중 하나를 입력하세요 :1\n",
      "컴퓨터 : 1\n",
      "플레이어 : 1\n",
      "비겼습니다.\n",
      "'가위(1)', '바위(2)', '보(3)'중 하나를 입력하세요 :1\n",
      "컴퓨터 : 1\n",
      "플레이어 : 1\n",
      "비겼습니다.\n",
      "'가위(1)', '바위(2)', '보(3)'중 하나를 입력하세요 :1\n",
      "컴퓨터 : 2\n",
      "플레이어 : 1\n",
      "패배했습니다.\n"
     ]
    }
   ],
   "source": [
    "import random\n",
    "\n",
    "while True:\n",
    "    while True:\n",
    "        user = int(input(\"'가위(1)', '바위(2)', '보(3)'중 하나를 입력하세요 :\"))\n",
    "        if 1 <= user <= 3:\n",
    "            break\n",
    "        else:\n",
    "            print('다시 입력하세요.')\n",
    "\n",
    "    com = random.randrange(1, 4)\n",
    "\n",
    "    print('컴퓨터 : {}'.format(com))\n",
    "    print('플레이어 : {}'.format(user))\n",
    "\n",
    "    if com == user:\n",
    "        print('비겼습니다.')\n",
    "    elif com == 3 and user == 1:\n",
    "        print('승리했습니다.')\n",
    "        break\n",
    "    elif com == user - 1:\n",
    "        print('승리했습니다.')\n",
    "        break\n",
    "    else:\n",
    "        print('패배했습니다.')\n",
    "        break"
   ]
  }
 ],
 "metadata": {
  "kernelspec": {
   "display_name": "Python 3",
   "language": "python",
   "name": "python3"
  },
  "language_info": {
   "codemirror_mode": {
    "name": "ipython",
    "version": 3
   },
   "file_extension": ".py",
   "mimetype": "text/x-python",
   "name": "python",
   "nbconvert_exporter": "python",
   "pygments_lexer": "ipython3",
   "version": "3.7.6"
  }
 },
 "nbformat": 4,
 "nbformat_minor": 4
}
