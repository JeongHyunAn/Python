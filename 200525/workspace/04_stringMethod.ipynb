{
 "cells": [
  {
   "cell_type": "code",
   "execution_count": 2,
   "metadata": {},
   "outputs": [
    {
     "name": "stdout",
     "output_type": "stream",
     "text": [
      "Mama! Just killed a man. Put a gun against his head. Pulled my triger, now he's dead.\n"
     ]
    }
   ],
   "source": [
    "string = \"Mama! Just killed a man. Put a gun against his head. Pulled my triger, now he's dead.\"\n",
    "print(string)"
   ]
  },
  {
   "cell_type": "code",
   "execution_count": 2,
   "metadata": {},
   "outputs": [
    {
     "name": "stdout",
     "output_type": "stream",
     "text": [
      "85\n"
     ]
    }
   ],
   "source": [
    "# len() → 길이를 가져오는 함수\n",
    "print(len(string))"
   ]
  },
  {
   "cell_type": "code",
   "execution_count": 8,
   "metadata": {},
   "outputs": [
    {
     "name": "stdout",
     "output_type": "stream",
     "text": [
      ".\n",
      ".\n",
      ".\n"
     ]
    }
   ],
   "source": [
    "print(string[84])\n",
    "print(string[-1])\n",
    "print(string[len(string)-1])"
   ]
  },
  {
   "cell_type": "code",
   "execution_count": 26,
   "metadata": {},
   "outputs": [
    {
     "name": "stdout",
     "output_type": "stream",
     "text": [
      "9\n",
      "-1\n",
      "31\n",
      "gun \n",
      "31\n"
     ]
    }
   ],
   "source": [
    "# count() → 출연 횟수를 얻어오는 메소드\n",
    "# find() → 인수로 지정된 문자열이 처음 나타나는 위치를 가져오는 메소드, 찾는 문자열이 없으면 -1을 리턴\n",
    "# count() 메소드 실행결과가 1이상이라면 해당 인자를 포함하고 있는 것으로, find()메소드와 유사하게 활용 가능\n",
    "print(string.count('a'))\n",
    "print(string.find('gom'))\n",
    "print(string.find('gun'))\n",
    "print(string[string.find('gun'):string.find('gun') + 4])\n",
    "# index() → 인수로 지정된 문자열이 처음 나타나는 위치를 가져오는 메소드이지만 find와 다르게 찾는 문자열이 없으면 에러를 리턴\n",
    "print(string.index('gun'))\n",
    "# print(string.index('gom')) # 오류발생"
   ]
  },
  {
   "cell_type": "code",
   "execution_count": 3,
   "metadata": {},
   "outputs": [
    {
     "name": "stdout",
     "output_type": "stream",
     "text": [
      "Mama! Just killed a man. Put a gun against his head. Pulled my triger, now he's dead.\n",
      "MAMA! JUST KILLED A MAN. PUT A GUN AGAINST HIS HEAD. PULLED MY TRIGER, NOW HE'S DEAD.\n",
      "mama! just killed a man. put a gun against his head. pulled my triger, now he's dead.\n"
     ]
    }
   ],
   "source": [
    "# upper(), lower() 메소드는 대문자 ↔ 소문자를 치환해주는 기능\n",
    "print(string)\n",
    "print(string.upper())\n",
    "print(string.lower())"
   ]
  },
  {
   "cell_type": "code",
   "execution_count": 4,
   "metadata": {},
   "outputs": [
    {
     "name": "stdout",
     "output_type": "stream",
     "text": [
      "M/a/m/a/!/ /J/u/s/t/ /k/i/l/l/e/d/ /a/ /m/a/n/./ /P/u/t/ /a/ /g/u/n/ /a/g/a/i/n/s/t/ /h/i/s/ /h/e/a/d/./ /P/u/l/l/e/d/ /m/y/ /t/r/i/g/e/r/,/ /n/o/w/ /h/e/'/s/ /d/e/a/d/.\n",
      "M^^;a^^;m^^;a^^;!^^; ^^;J^^;u^^;s^^;t^^; ^^;k^^;i^^;l^^;l^^;e^^;d^^; ^^;a^^; ^^;m^^;a^^;n^^;.^^; ^^;P^^;u^^;t^^; ^^;a^^; ^^;g^^;u^^;n^^; ^^;a^^;g^^;a^^;i^^;n^^;s^^;t^^; ^^;h^^;i^^;s^^; ^^;h^^;e^^;a^^;d^^;.^^; ^^;P^^;u^^;l^^;l^^;e^^;d^^; ^^;m^^;y^^; ^^;t^^;r^^;i^^;g^^;e^^;r^^;,^^; ^^;n^^;o^^;w^^; ^^;h^^;e^^;'^^;s^^; ^^;d^^;e^^;a^^;d^^;.\n"
     ]
    }
   ],
   "source": [
    "# join() : 인수로 지정된 문자열의 사이에 '' 안의 문자열을 삽입한다.\n",
    "print('/'.join(string))\n",
    "print('^^;'.join(string))"
   ]
  },
  {
   "cell_type": "code",
   "execution_count": 5,
   "metadata": {},
   "outputs": [
    {
     "name": "stdout",
     "output_type": "stream",
     "text": [
      "14\n",
      "    python    \n",
      "python    \n",
      "    python\n",
      "10\n",
      "python\n",
      "6\n"
     ]
    }
   ],
   "source": [
    "string = '    python    '\n",
    "print(len(string))\n",
    "print(string)\n",
    "# lstrip() : 문자열 왼쪽의 불필요한 공백을 제거한다.\n",
    "print(string.lstrip())\n",
    "# rstrip() : 문자열 오른쪽의 불필요한 공백을 제거한다.\n",
    "print(string.rstrip())\n",
    "print(len(string.rstrip()))\n",
    "# strip() : 문자열 앞뒤의 불필요한 공백을 제거한다.\n",
    "print(string.strip())\n",
    "print(len(string.strip()))"
   ]
  },
  {
   "cell_type": "code",
   "execution_count": 6,
   "metadata": {},
   "outputs": [
    {
     "name": "stdout",
     "output_type": "stream",
     "text": [
      "We are the champions, Your friend!\n"
     ]
    }
   ],
   "source": [
    "string = 'We are the champions, My friend!'\n",
    "# replace(old, new) : 모든 old 문자열을 new 문자열로 치환하는 메소드\n",
    "print(string.replace('My', 'Your'))"
   ]
  },
  {
   "cell_type": "code",
   "execution_count": 7,
   "metadata": {},
   "outputs": [
    {
     "name": "stdout",
     "output_type": "stream",
     "text": [
      "['We', 'are', 'the', 'champions,', 'My', 'friend!']\n",
      "<class 'list'>\n"
     ]
    }
   ],
   "source": [
    "# split(구분자) : 문자열을 구분자를 경계로 나누는 메소드 => 나눈 결과는 list 타입으로 반환된다.\n",
    "print(string.split())\n",
    "print(type(string.split()))"
   ]
  },
  {
   "cell_type": "code",
   "execution_count": 8,
   "metadata": {},
   "outputs": [
    {
     "name": "stdout",
     "output_type": "stream",
     "text": [
      "www.example.com\n",
      ".example.com\n",
      "example\n"
     ]
    }
   ],
   "source": [
    "# strip() 메소드의 재발견\n",
    "# strip() 메소드는 문자열 양쪽의 불필요한 공백을 제거하는 목적으로 주로 사용하지만 꼭 공백만을\n",
    "# 제거하는 것은 아니다. \n",
    "# strip() 메소드는 인수로 지정된 구분자가 문자열의 양 끝에 있으면 문자열에서 제거한다.\n",
    "print('www.example.com')\n",
    "print('www.example.com'.strip('w'))\n",
    "print('www.example.com'.strip('w.com'))"
   ]
  },
  {
   "cell_type": "code",
   "execution_count": 9,
   "metadata": {},
   "outputs": [
    {
     "name": "stdout",
     "output_type": "stream",
     "text": [
      "Hello   World\n",
      "HelloWorld\n"
     ]
    }
   ],
   "source": [
    "# replace() 메소드의 재발견\n",
    "# 문자열의 모든 공백 제거\n",
    "print('   Hello   World   '.strip())\n",
    "print('   Hello   World   '.replace(' ', ''))"
   ]
  },
  {
   "cell_type": "code",
   "execution_count": 11,
   "metadata": {},
   "outputs": [
    {
     "name": "stdout",
     "output_type": "stream",
     "text": [
      "['Hello', 'World']\n",
      "Hello World\n"
     ]
    }
   ],
   "source": [
    "# join() 메소드와 split() 메소드를 이용해서 앞뒤의 공백은 제거하고 문자열 사이에 공백 문자가 2개\n",
    "# 이상인 경우 공백의 개수에 상관없이 공백 문자를 1개만 나오게 한다.\n",
    "print('   Hello   World   '.split()) # .split()으로 모든 공백 제거하며 리스트로 전환\n",
    "print(' '.join('   Hello                                             World   '.split()))\n",
    "# 리스트로 전환시 모든 공백이 제거되어 .join()으로 공백 추가"
   ]
  }
 ],
 "metadata": {
  "kernelspec": {
   "display_name": "Python 3",
   "language": "python",
   "name": "python3"
  },
  "language_info": {
   "codemirror_mode": {
    "name": "ipython",
    "version": 3
   },
   "file_extension": ".py",
   "mimetype": "text/x-python",
   "name": "python",
   "nbconvert_exporter": "python",
   "pygments_lexer": "ipython3",
   "version": "3.7.6"
  }
 },
 "nbformat": 4,
 "nbformat_minor": 4
}
