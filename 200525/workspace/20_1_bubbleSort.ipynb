{
 "cells": [
  {
   "cell_type": "markdown",
   "metadata": {},
   "source": [
    "인접한 2개의 데이터를 비교  \n",
    "선택정렬의 바깥 반복이 회전수와 정렬을 하기 위해 선택하는 데이터의 위치를 의미하지만 버블정렬에서 바깥쪽 반복은 회전수 제어만 함  \n",
    "선택정렬의 안쪽 반복이 선택된 데이터(i번째 데이터)와 비교하는 대상을 가리키지만 버블정렬에선 정렬하기 위해서 비교하는 데이터의 위치를 의미"
   ]
  },
  {
   "cell_type": "code",
   "execution_count": 7,
   "metadata": {},
   "outputs": [
    {
     "name": "stdout",
     "output_type": "stream",
     "text": [
      "1 번째 정렬 결과 :  [3, 4, 8, 1, 9]\n",
      "2 번째 정렬 결과 :  [3, 4, 1, 8, 9]\n",
      "3 번째 정렬 결과 :  [3, 1, 4, 8, 9]\n",
      "4 번째 정렬 결과 :  [1, 3, 4, 8, 9]\n",
      "[1, 3, 4, 8, 9]\n"
     ]
    }
   ],
   "source": [
    "data = [8, 3, 4, 9, 1]\n",
    "\n",
    "for i in range(4):\n",
    "    for j in range(4-i):\n",
    "        if data[j] > data[j+1]:\n",
    "            data[j], data[j+1] = data[j+1], data[j]\n",
    "            \n",
    "    print(i+1,\"번째 정렬 결과 : \", data)\n",
    "    \n",
    "print(data)\n",
    "        "
   ]
  },
  {
   "cell_type": "code",
   "execution_count": 9,
   "metadata": {},
   "outputs": [
    {
     "name": "stdout",
     "output_type": "stream",
     "text": [
      "1 번째 정렬 결과 :  [3, 4, 8, 1, 9]\n",
      "2 번째 정렬 결과 :  [3, 4, 1, 8, 9]\n",
      "3 번째 정렬 결과 :  [3, 1, 4, 8, 9]\n",
      "4 번째 정렬 결과 :  [1, 3, 4, 8, 9]\n",
      "[1, 3, 4, 8, 9]\n",
      "1 번째 정렬 결과 :  [8, 4, 9, 3, 1]\n",
      "2 번째 정렬 결과 :  [8, 9, 4, 3, 1]\n",
      "3 번째 정렬 결과 :  [9, 8, 4, 3, 1]\n",
      "4 번째 정렬 결과 :  [9, 8, 4, 3, 1]\n",
      "[9, 8, 4, 3, 1]\n"
     ]
    }
   ],
   "source": [
    "data = [8, 3, 4, 9, 1]\n",
    "\n",
    "for i in range(len(data) -1):\n",
    "    for j in range(len(data)-1-i):\n",
    "        if data[j] > data[j+1]:\n",
    "            data[j], data[j+1] = data[j+1], data[j]\n",
    "            \n",
    "    print(i+1,\"번째 정렬 결과 : \", data)\n",
    "    \n",
    "print(data)\n",
    "\n",
    "data = [8, 3, 4, 9, 1]\n",
    "\n",
    "for i in range(len(data) -1):\n",
    "    for j in range(len(data)-1-i):\n",
    "        if data[j] < data[j+1]:\n",
    "            data[j], data[j+1] = data[j+1], data[j]\n",
    "            \n",
    "    print(i+1,\"번째 정렬 결과 : \", data)\n",
    "    \n",
    "print(data)\n",
    "        "
   ]
  }
 ],
 "metadata": {
  "kernelspec": {
   "display_name": "Python 3",
   "language": "python",
   "name": "python3"
  },
  "language_info": {
   "codemirror_mode": {
    "name": "ipython",
    "version": 3
   },
   "file_extension": ".py",
   "mimetype": "text/x-python",
   "name": "python",
   "nbconvert_exporter": "python",
   "pygments_lexer": "ipython3",
   "version": "3.7.6"
  }
 },
 "nbformat": 4,
 "nbformat_minor": 4
}
