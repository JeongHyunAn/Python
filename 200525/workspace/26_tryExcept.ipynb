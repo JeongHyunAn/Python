{
 "cells": [
  {
   "cell_type": "code",
   "execution_count": null,
   "metadata": {},
   "outputs": [],
   "source": [
    "# 예외(에러) 처리\n",
    "# try ~ except을 사용하면 에러가 발생되면 별도의 처리를 하거나 에러를 무시하고 프로그램을 실행\n",
    "# try 블록에는 에러가 발생될 것으로 예상되는 문장을 코딩하고 except 블록에 처리할 문장을 코딩\n",
    "# try 블록의 코드를 실행하다가 에러가 발생되면 더 이상 남아있는 try 블록의 코드를 실행하지 않고 해당 except 블록의 코드를 실행\n",
    "\n",
    "# except문을 사용시 에러 이름을 추가하는 순서는 상관 없지만 except:는 모든 예외를 처리함으로 except:는 맨 마지막에 사용\n",
    "# except 에러 이름 as 변수: 사용시 변수 안에 애당 에러 이름을 저장하여 출력할 수 있다. 단, 해당 except문에서만 활용 가능\n",
    "\n",
    "# 형식\n",
    "# try:\n",
    "#     에러가 발생될 것으로 예상되는 문장들\n",
    "# except [에러 이름 [as 변수]]: / []안의 내용은 선택사항으로 작성시 []빼고 사용\n",
    "#     에러가 발생되면 실행할 문장\n",
    "#     pass → 아무것도 안하고 에러를 무시하고 싶을 시 사용\n",
    "# finally: 선택사항\n",
    "#     에러 발생 여부와 관계없이 실행할 문장"
   ]
  },
  {
   "cell_type": "code",
   "execution_count": 19,
   "metadata": {},
   "outputs": [
    {
     "name": "stdout",
     "output_type": "stream",
     "text": [
      "0으로 나눌 수 없습니다.\n",
      "예외처리 종료.\n"
     ]
    }
   ],
   "source": [
    "try:\n",
    "    print(4/0)\n",
    "except:\n",
    "    print(\"0으로 나눌 수 없습니다.\")\n",
    "finally:\n",
    "    print(\"예외처리 종료.\")"
   ]
  },
  {
   "cell_type": "code",
   "execution_count": 31,
   "metadata": {},
   "outputs": [
    {
     "name": "stdout",
     "output_type": "stream",
     "text": [
      "3\n",
      "리스트의 주소가 범위 밖입니다.\n"
     ]
    }
   ],
   "source": [
    "try:\n",
    "    data = [1, 2, 3]\n",
    "    print(data[2])\n",
    "    print(data[3])\n",
    "except:\n",
    "    print(\"리스트의 주소가 범위 밖입니다.\")"
   ]
  },
  {
   "cell_type": "code",
   "execution_count": 25,
   "metadata": {},
   "outputs": [
    {
     "ename": "TypeError",
     "evalue": "unsupported operand type(s) for +: 'int' and 'str'",
     "output_type": "error",
     "traceback": [
      "\u001b[1;31m---------------------------------------------------------------------------\u001b[0m",
      "\u001b[1;31mTypeError\u001b[0m                                 Traceback (most recent call last)",
      "\u001b[1;32m<ipython-input-25-71f8cbeb93b7>\u001b[0m in \u001b[0;36m<module>\u001b[1;34m\u001b[0m\n\u001b[1;32m----> 1\u001b[1;33m \u001b[0mprint\u001b[0m\u001b[1;33m(\u001b[0m\u001b[1;36m2\u001b[0m \u001b[1;33m+\u001b[0m \u001b[1;34m\"100\"\u001b[0m\u001b[1;33m)\u001b[0m\u001b[1;33m\u001b[0m\u001b[1;33m\u001b[0m\u001b[0m\n\u001b[0m",
      "\u001b[1;31mTypeError\u001b[0m: unsupported operand type(s) for +: 'int' and 'str'"
     ]
    }
   ],
   "source": [
    "print(2 + \"100\")"
   ]
  },
  {
   "cell_type": "code",
   "execution_count": 30,
   "metadata": {},
   "outputs": [
    {
     "name": "stdout",
     "output_type": "stream",
     "text": [
      "0으로 나눌 수 없습니다.\n"
     ]
    }
   ],
   "source": [
    "try:\n",
    "    print(4/0)\n",
    "    data = [1, 2, 3]\n",
    "    print(data[2] + \"100\")\n",
    "    print(data[3])\n",
    "\n",
    "except ZeroDivisionError:\n",
    "    print(\"0으로 나눌 수 없습니다.\")\n",
    "except IndexError:\n",
    "    print(\"리스트의 주소가 범위 밖입니다.\")\n",
    "except TypeError:\n",
    "    print(\"연산할 변수의 종류가 다릅니다.\")"
   ]
  },
  {
   "cell_type": "code",
   "execution_count": 39,
   "metadata": {},
   "outputs": [
    {
     "name": "stdout",
     "output_type": "stream",
     "text": [
      "ZeroDivisionError, IndexError, TypeError 외의 오류입니다.\n"
     ]
    }
   ],
   "source": [
    "try:\n",
    "    #print(4/0)\n",
    "    data = [1, 2, 3]\n",
    "    #print(data[2] + \"100\")\n",
    "    #print(data[3])\n",
    "    print(에러발생)\n",
    "\n",
    "except ZeroDivisionError as zero:\n",
    "    print(zero, \": 0으로 나눌 수 없습니다.\")\n",
    "except IndexError as index:\n",
    "    print(index, \": 리스트의 주소가 범위 밖입니다.\")\n",
    "except TypeError as e:\n",
    "    print(e, \": 연산할 변수의 종류가 다릅니다.\")\n",
    "except:\n",
    "    print(\"ZeroDivisionError, IndexError, TypeError 외의 오류입니다.\")"
   ]
  }
 ],
 "metadata": {
  "kernelspec": {
   "display_name": "Python 3",
   "language": "python",
   "name": "python3"
  },
  "language_info": {
   "codemirror_mode": {
    "name": "ipython",
    "version": 3
   },
   "file_extension": ".py",
   "mimetype": "text/x-python",
   "name": "python",
   "nbconvert_exporter": "python",
   "pygments_lexer": "ipython3",
   "version": "3.7.6"
  }
 },
 "nbformat": 4,
 "nbformat_minor": 4
}
