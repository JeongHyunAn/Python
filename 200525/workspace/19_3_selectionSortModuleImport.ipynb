{
 "cells": [
  {
   "cell_type": "code",
   "execution_count": 3,
   "metadata": {},
   "outputs": [
    {
     "name": "stdout",
     "output_type": "stream",
     "text": [
      "[12, 23, 45, 56, 78, 89]\n"
     ]
    }
   ],
   "source": [
    "# 모듈은 import 시켜서 사용하며 문자로 시작해야 하며, 현재 작업중인 파일과 이름이 달라야 한다.\n",
    "# 사용자가 만든 Python파일(*.py)도 import 시켜서 사용할 수 있다.\n",
    "# 모듈 작성시 테스트 코드는 if __name__ == \"__main__\":을 작성 / 해당 문구가 들어간 코드는 import시 실행하지 말라는 의미\n",
    "# 모듈은 통상 libs(라이브러리)폴더로 별도로 관리한다. / 현재는 같은 폴더 안에 있어서 실행\n",
    "import libs.sortModule as sm # import할 모듈이 현재 폴더 아래의 폴더에 위치한 경우 폴더 이름과 모듈이름 사이에 \".\"을 찍어사용\n",
    "\n",
    "data = [12, 45, 78, 23, 56, 89]\n",
    "sm.selectionSortAsc(data)\n",
    "print(data)"
   ]
  }
 ],
 "metadata": {
  "kernelspec": {
   "display_name": "Python 3",
   "language": "python",
   "name": "python3"
  },
  "language_info": {
   "codemirror_mode": {
    "name": "ipython",
    "version": 3
   },
   "file_extension": ".py",
   "mimetype": "text/x-python",
   "name": "python",
   "nbconvert_exporter": "python",
   "pygments_lexer": "ipython3",
   "version": "3.7.6"
  }
 },
 "nbformat": 4,
 "nbformat_minor": 4
}
