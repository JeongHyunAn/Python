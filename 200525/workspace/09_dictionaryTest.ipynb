{
 "cells": [
  {
   "cell_type": "markdown",
   "metadata": {},
   "source": [
    "딕셔너리 만들기  \n",
    "대응 관계를 나타내는 자료형으로 key와 key에 할당되는 데이터(value)가 한상이 되는 자료형  \n",
    "{key: value, key: value, ...}와 같은 형태를 가지는 자료형  \n",
    "key는 일반적으로 string 형태로 사용하고 value에는 딕셔너리에 저장할 데이터를 지정"
   ]
  },
  {
   "cell_type": "code",
   "execution_count": 38,
   "metadata": {},
   "outputs": [
    {
     "name": "stdout",
     "output_type": "stream",
     "text": [
      "<class 'dict'>\n",
      "{'name': '안정현', 'age': '31', 'address': 'Seoul'}\n",
      "dict_keys(['name', 'age', 'address'])\n",
      "\n",
      "안정현\n",
      "32\n",
      "{'name': '안정현', 'age': '32', 'address': 'Seoul', 'gender': 'male'}\n",
      "\n",
      "{'name': '안정현', 'age': '32', 'address': 'Seoul'}\n",
      "{'name': '안태현', 'age': '32', 'address': 'Edmonton'}\n"
     ]
    }
   ],
   "source": [
    "# 빈 딕셔너리 만들기\n",
    "a = {} # 또는 a = dict()\n",
    "print(type(a))\n",
    "\n",
    "# dict이름[key] = value\n",
    "a = {'name': '안정현', 'age': '31', 'address': 'Seoul'}\n",
    "print(a)\n",
    "\n",
    "# 딕셔너리에 저장된 데이터 얻어오기  \n",
    "# 딕셔너리이름[key] 또는 딕셔너리이름.get(key)\n",
    "\n",
    "print(a['name'])\n",
    "a['age'] = '32' # 수정\n",
    "print(a.get('age')) # .get 활용\n",
    "a['gender'] = 'male' # 추가\n",
    "print(a, end='\\n\\n')\n",
    "del a['gender']\n",
    "\n",
    "b = {'name': '안태현', 'age': '32', 'address': 'Edmonton'}\n",
    "lista = [a, b]\n",
    "print(a)\n",
    "print(b)"
   ]
  },
  {
   "cell_type": "markdown",
   "metadata": {},
   "source": [
    "딕셔너리에서 전용으로 사용되는 메소드"
   ]
  },
  {
   "cell_type": "code",
   "execution_count": 39,
   "metadata": {},
   "outputs": [
    {
     "name": "stdout",
     "output_type": "stream",
     "text": [
      "dict_keys(['name', 'age', 'address'])\n",
      "\n",
      "dict_values(['안정현', '32', 'Seoul'])\n",
      "\n",
      "dict_items([('name', '안정현'), ('age', '32'), ('address', 'Seoul')])\n",
      "\n"
     ]
    }
   ],
   "source": [
    "# keys()는 key의 목록만 얻어옴\n",
    "# values()는 value만\n",
    "# items()는 key와 value를 쌍으로 묶은 튜플을 얻어옴\n",
    "print(a.keys(), end='\\n\\n')\n",
    "print(a.values(), end='\\n\\n')\n",
    "print(a.items(), end='\\n\\n')"
   ]
  },
  {
   "cell_type": "code",
   "execution_count": 42,
   "metadata": {},
   "outputs": [
    {
     "name": "stdout",
     "output_type": "stream",
     "text": [
      "True\n",
      "False\n",
      "True\n"
     ]
    }
   ],
   "source": [
    "# 딕셔너리 안에 데이터가 있는지 없는지를 확인하는 연산자 in, not in\n",
    "print('age' in a)\n",
    "print('married' in a)\n",
    "print('married' not in a)"
   ]
  },
  {
   "cell_type": "markdown",
   "metadata": {},
   "source": [
    "데이터 및 딕셔너리 삭제"
   ]
  },
  {
   "cell_type": "code",
   "execution_count": 47,
   "metadata": {},
   "outputs": [
    {
     "name": "stdout",
     "output_type": "stream",
     "text": [
      "{}\n"
     ]
    }
   ],
   "source": [
    "a = {'name': '안정현', 'age': '31', 'address': 'Seoul'}\n",
    "a.clear()\n",
    "print(a)\n",
    "# del a\n",
    "# print(a) # a가 사라져서 출력 안됨"
   ]
  }
 ],
 "metadata": {
  "kernelspec": {
   "display_name": "Python 3",
   "language": "python",
   "name": "python3"
  },
  "language_info": {
   "codemirror_mode": {
    "name": "ipython",
    "version": 3
   },
   "file_extension": ".py",
   "mimetype": "text/x-python",
   "name": "python",
   "nbconvert_exporter": "python",
   "pygments_lexer": "ipython3",
   "version": "3.7.6"
  }
 },
 "nbformat": 4,
 "nbformat_minor": 4
}
