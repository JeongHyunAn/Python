{
 "cells": [
  {
   "cell_type": "code",
   "execution_count": 3,
   "metadata": {},
   "outputs": [],
   "source": [
    "# class는 데이터와 데이터를 처리하는 함수를 가지고 있는 자료형 → 사용자 정의 자료형이라고 부르기도 함\n",
    "# 형식\n",
    "# class 클래스이름: # 클래스의 첫 글자는 대문자로 하는것이 관례\n",
    "    # 생성자란 클래스의 객체(변수)가 생성될 때 자동으로 실행\n",
    "    # 생성자를 만들어 사용하는 이유는 클래스 멤버 변수를 초기화 시킬 목적으로 사용\n",
    "    # class 내부에서 정의하는 모든 함수(메소드)의 첫 번째 인수는 무조건 class 자신의 정보를 저장하는 변수를 써야 한다. → 그게 __init__():함수\n",
    "    # def __init__(self): # 생성자(constructor)는 반드시 작성 self는 통상 사용하는 것으로 다른명칭을 사용하여도 무방함\n",
    "        # 변수 이름 앞에 self를 붙여준 변수를 멤버 변수라 부르고 클래서 내부의 모든 함수에서 사용할 수 있다.\n",
    "        # 변수 이름 앞에 self를 붙여주지 않은 변수를 지역 변수라 부르고 변수가 선언된 함수 내부에서만 사용할 수 있다.\n",
    "        # i.e)\n",
    "        # self.변수명 → 멤버 변수\n",
    "        # 변수명 → 지역변수\n",
    "\n",
    "    # 클래스의 멤버 변수에 저장된 데이터의 출력에 사용하는 함수\n",
    "    # 클래스로 생성한 객체를 print() 함수로 출력할 때 객체에 저장된 데이터를 출력한다.\n",
    "    # __str__(self) 함수를 선언하지 않으면 객체를 생성한 클래스의 이름과 객체가 생성된 메모리의 주소가 출력된다.\n",
    "    # def __str__(self): # 자바의 toString() 메소드와 같은 기능\n",
    "        # return 출력할 데이터 / 데이터의 형태는 반드시 문자열 형태여야 한다."
   ]
  },
  {
   "cell_type": "code",
   "execution_count": 36,
   "metadata": {},
   "outputs": [],
   "source": [
    "class Calculator:\n",
    "    def __init__(self, num): # self는 클래스 자신을 의미하며 클래스 외부에서 호출될 때 자신의 정보가 전달된다.\n",
    "        self.num = num\n",
    "        print(\"생성자 함수는 클래스의 객체(변수)가 생성될 때 자동으로 실행됩니다.\")\n",
    "        print(num)\n",
    "    \n",
    "    def __str__(self):\n",
    "        self.num += 100\n",
    "        return str(self.num)"
   ]
  },
  {
   "cell_type": "code",
   "execution_count": 4,
   "metadata": {},
   "outputs": [],
   "source": [
    "# 클래스 객체(변수) 생성 방법\n",
    "# 객체(변수)이름 = 클래스이름([인수, ...])"
   ]
  },
  {
   "cell_type": "code",
   "execution_count": 17,
   "metadata": {},
   "outputs": [
    {
     "name": "stdout",
     "output_type": "stream",
     "text": [
      "생성자 함수는 클래스의 객체(변수)가 생성될 때 자동으로 실행됩니다.\n",
      "<__main__.Calculator object at 0x000001AF09E0C488>\n"
     ]
    }
   ],
   "source": [
    "cal = Calculator()\n",
    "print(cal) # __str__(self): 미생성 상태"
   ]
  },
  {
   "cell_type": "code",
   "execution_count": 20,
   "metadata": {},
   "outputs": [
    {
     "name": "stdout",
     "output_type": "stream",
     "text": [
      "생성자 함수는 클래스의 객체(변수)가 생성될 때 자동으로 실행됩니다.\n",
      "헬로\n"
     ]
    }
   ],
   "source": [
    "cal = Calculator()\n",
    "print(cal) # __str__(self): 생성 상태"
   ]
  },
  {
   "cell_type": "code",
   "execution_count": 38,
   "metadata": {},
   "outputs": [
    {
     "name": "stdout",
     "output_type": "stream",
     "text": [
      "생성자 함수는 클래스의 객체(변수)가 생성될 때 자동으로 실행됩니다.\n",
      "100\n",
      "200\n",
      "생성자 함수는 클래스의 객체(변수)가 생성될 때 자동으로 실행됩니다.\n",
      "300\n",
      "400\n"
     ]
    }
   ],
   "source": [
    "cal = Calculator(100)\n",
    "print(cal)\n",
    "\n",
    "cal1 = Calculator(300)\n",
    "print(cal1)"
   ]
  }
 ],
 "metadata": {
  "kernelspec": {
   "display_name": "Python 3",
   "language": "python",
   "name": "python3"
  },
  "language_info": {
   "codemirror_mode": {
    "name": "ipython",
    "version": 3
   },
   "file_extension": ".py",
   "mimetype": "text/x-python",
   "name": "python",
   "nbconvert_exporter": "python",
   "pygments_lexer": "ipython3",
   "version": "3.7.6"
  }
 },
 "nbformat": 4,
 "nbformat_minor": 4
}
