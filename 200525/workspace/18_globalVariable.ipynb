{
 "cells": [
  {
   "cell_type": "code",
   "execution_count": 2,
   "metadata": {},
   "outputs": [],
   "source": [
    "# 함수 내부에서 선언된 변수의 유효범위\n",
    "# 함수의 외부와 내부에서 동일명칭으로 변수가 선언되어도 다른변수로 취급된다\n",
    "def func1(var1):\n",
    "    var1 += 1\n",
    "    print(\"func1()함수 내부에서 선언한 변수 var1 = {}\".format(var1))"
   ]
  },
  {
   "cell_type": "markdown",
   "metadata": {},
   "source": [
    "함수 안에서 만든 변수와, 함수 밖에서 만든 변수는 이름이 같아도 서로 다른 정의를 가진다"
   ]
  },
  {
   "cell_type": "code",
   "execution_count": 6,
   "metadata": {},
   "outputs": [],
   "source": [
    "var = 1\n",
    "def func1(var1):\n",
    "    var1 += 1\n",
    "    print(\"func1()함수 외부에서 선언한 변수 var1 = {}\".format(var1))"
   ]
  },
  {
   "cell_type": "code",
   "execution_count": 10,
   "metadata": {},
   "outputs": [],
   "source": [
    "# global 변수를 사용하면 함수 내부에서 함수 외부에서 선언된 변수의 값을 변경할 수 있다.\n",
    "# global 변수로 사용할 변수는 함수의 인수로 사용하면 안된다.\n",
    "def func2():\n",
    "    global var2\n",
    "    var2 += 1b\n",
    "    print(\"func2() 함수 내부에서 선언한 변수 var2 = {}\".format(var2))"
   ]
  },
  {
   "cell_type": "code",
   "execution_count": null,
   "metadata": {},
   "outputs": [],
   "source": [
    "def func2():\n",
    "    global var2 # 함수 외부에서 선언한 변수를 함수 내부에서 변경이 가능해진다.\n",
    "    var2 += 1\n",
    "    print(\"func2() 함수 내부에서 선언한 변수 var2 = {}\".format(var2))"
   ]
  },
  {
   "cell_type": "code",
   "execution_count": 11,
   "metadata": {},
   "outputs": [
    {
     "name": "stdout",
     "output_type": "stream",
     "text": [
      "func2() 함수 내부에서 선언한 변수 var2 = 101\n",
      "func2() 함수 외부에서 선언한 변수 var2 = 101\n"
     ]
    }
   ],
   "source": [
    "var2 = 100\n",
    "func2()\n",
    "print(\"func2() 함수 외부에서 선언한 변수 var2 = {}\".format(var2))"
   ]
  }
 ],
 "metadata": {
  "kernelspec": {
   "display_name": "Python 3",
   "language": "python",
   "name": "python3"
  },
  "language_info": {
   "codemirror_mode": {
    "name": "ipython",
    "version": 3
   },
   "file_extension": ".py",
   "mimetype": "text/x-python",
   "name": "python",
   "nbconvert_exporter": "python",
   "pygments_lexer": "ipython3",
   "version": "3.7.6"
  }
 },
 "nbformat": 4,
 "nbformat_minor": 4
}
