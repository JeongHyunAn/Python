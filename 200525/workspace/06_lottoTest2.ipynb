{
 "cells": [
  {
   "cell_type": "code",
   "execution_count": 50,
   "metadata": {},
   "outputs": [
    {
     "name": "stdout",
     "output_type": "stream",
     "text": [
      "1등 번호 :  {35, 41, 44, 20, 24, 27}\n",
      "보너스 : {22}\n"
     ]
    }
   ],
   "source": [
    "import random\n",
    "\n",
    "lotto = set(); bonus = set()\n",
    "\n",
    "while len(lotto) != 6:\n",
    "    lotto.add(random.randrange(1, 46))\n",
    "\n",
    "print('1등 번호 : ', lotto)\n",
    "\n",
    "while True:\n",
    "    bonus.add(random.randrange(1, 46))\n",
    "    if bonus not in lotto:\n",
    "        break\n",
    "        \n",
    "print(\"보너스 : {}\".format(bonus))"
   ]
  },
  {
   "cell_type": "code",
   "execution_count": 75,
   "metadata": {},
   "outputs": [
    {
     "name": "stdout",
     "output_type": "stream",
     "text": [
      "1등 번호 :  {3, 37, 16, 17, 24, 28}\n",
      "{3, 37, 16, 17, 24, 28}\n",
      "{3, 37, 10, 16, 17, 24, 28}\n",
      "{3, 37, 10, 16, 17, 24, 28}\n",
      "보너스 :  set()\n"
     ]
    }
   ],
   "source": [
    "import random\n",
    "\n",
    "lotto = set(); bonus = set()\n",
    "\n",
    "while len(lotto) != 6:\n",
    "    lotto.add(random.randrange(1, 46))\n",
    "\n",
    "print('1등 번호 : ', lotto)\n",
    "bonus = lotto\n",
    "print(bonus)\n",
    "\n",
    "while len(bonus) != 7:\n",
    "    bonus.add(random.randrange(1, 46))\n",
    "\n",
    "print(lotto)\n",
    "print(bonus)\n",
    "\n",
    "print('보너스 : ', lotto.difference(bonus))"
   ]
  },
  {
   "cell_type": "code",
   "execution_count": null,
   "metadata": {},
   "outputs": [],
   "source": [
    "import random\n",
    "\n",
    "s = set(); r = set()\n",
    "\n",
    "while True:\n",
    "    s.add(random.randrange(1, 46))\n",
    "    if len(s) == 6:\n",
    "        break\n",
    "\n",
    "print('1등 번호 : ', s)\n",
    "\n",
    "while True:\n",
    "    r.add(random.randrange(1, 46))\n",
    "    if r not in s:\n",
    "        break\n",
    "\n",
    "print('보너스 : ', s.difference(r))"
   ]
  }
 ],
 "metadata": {
  "kernelspec": {
   "display_name": "Python 3",
   "language": "python",
   "name": "python3"
  },
  "language_info": {
   "codemirror_mode": {
    "name": "ipython",
    "version": 3
   },
   "file_extension": ".py",
   "mimetype": "text/x-python",
   "name": "python",
   "nbconvert_exporter": "python",
   "pygments_lexer": "ipython3",
   "version": "3.7.6"
  }
 },
 "nbformat": 4,
 "nbformat_minor": 4
}
