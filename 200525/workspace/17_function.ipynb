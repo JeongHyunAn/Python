{
 "cells": [
  {
   "cell_type": "markdown",
   "metadata": {},
   "source": [
    "함수의 구조  \n",
    "def 함수이름([인수, ..., ...]): # 인수는 함수가 처리할 데이터를 의미하며 필요없으면 생략가능  \n",
    "함수가 실행할 문장  \n",
    "...  \n",
    "[return 함수의 실행 결과] # 결과가 없으면 return을 생략가능  \n",
    "함수의 내부에서 출력하는지, 또는 함수를 호출한 곳에서 출력하는지를 유의하여 활용"
   ]
  },
  {
   "cell_type": "code",
   "execution_count": null,
   "metadata": {},
   "outputs": [],
   "source": [
    "# 가장 일반적인 함수의 모양\n",
    "# a, b 2개의 정수를 인수로 넘겨받아 덧셈을 실행하고 실행된 결과를 리턴\n",
    "def add(num1, num2):\n",
    "    result = num1 + num2\n",
    "    print(\"{} + {} = {}\".format(num1, num2, result))\n",
    "\n",
    "# 함수를 실행하려면 실행하려는 함수의 이름을 적어주면 된다.\n",
    "a, b = map(int, input(\"더하고 싶은 2가지 정수를 입력하세요 : \").split())\n",
    "add(a,b)"
   ]
  },
  {
   "cell_type": "code",
   "execution_count": null,
   "metadata": {},
   "outputs": [],
   "source": [
    "# return 활용\n",
    "def add(num1, num2):\n",
    "    result = num1 + num2\n",
    "    return result;\n",
    "\n",
    "# 함수를 실행하려면 실행하려는 함수의 이름을 적어주면 된다.\n",
    "a, b = map(int, input(\"더하고 싶은 2가지 정수를 입력하세요 : \").split())\n",
    "print(\"결과 :\", add(a, b))"
   ]
  },
  {
   "cell_type": "code",
   "execution_count": 7,
   "metadata": {},
   "outputs": [],
   "source": [
    "def func1(num1, num2):\n",
    "    print(\"호출된 함수에서 출력됩니다.\")\n",
    "    print(\"{} + {} = {}\".format(num1, num2, num1 + num2))"
   ]
  },
  {
   "cell_type": "code",
   "execution_count": 8,
   "metadata": {},
   "outputs": [
    {
     "name": "stdout",
     "output_type": "stream",
     "text": [
      "호출된 함수에서 출력됩니다.\n",
      "3 + 4 = 7\n"
     ]
    }
   ],
   "source": [
    "func1(3, 4)"
   ]
  },
  {
   "cell_type": "code",
   "execution_count": null,
   "metadata": {},
   "outputs": [],
   "source": [
    "# Python에서는 같은 이름의 함수를 복수개 정의하면 마지막 함수만 정의되고(덮어쓰기) 이전은 무시된다.\n",
    "def func1(num1, num2, num3):\n",
    "    print(\"호출된 함수에서 출력됩니다.\")\n",
    "    print(\"{} + {} + {} = {}\".format(num1, num2, num3, num1 + num2 + num3))"
   ]
  },
  {
   "cell_type": "code",
   "execution_count": 24,
   "metadata": {},
   "outputs": [],
   "source": [
    "# python에서는 overloading이 구현되어 있지 않아서 인수의 값으로 구분이 되지 않음\n",
    "# fun1(3, 4) # 에러 리턴\n",
    "# 오버로딩의 효과를 내기 위해 가변 인자를 가지는 함수를 만들어 사용한다.\n",
    "# 인수의 개수가 가변적인 함수 → 가변인수(*변수명)를 사용하며 넘어오는 데이터를 튜플로 받는다.\n",
    "\n",
    "def func1(*nums):\n",
    "    print(nums)"
   ]
  },
  {
   "cell_type": "code",
   "execution_count": 25,
   "metadata": {},
   "outputs": [
    {
     "name": "stdout",
     "output_type": "stream",
     "text": [
      "(1, 2, 3)\n"
     ]
    }
   ],
   "source": [
    "func1(1,2,3)"
   ]
  },
  {
   "cell_type": "code",
   "execution_count": 26,
   "metadata": {},
   "outputs": [
    {
     "name": "stdout",
     "output_type": "stream",
     "text": [
      "(1, 2, 3, 4, 5)\n"
     ]
    }
   ],
   "source": [
    "func1(1,2,3,4,5)"
   ]
  },
  {
   "cell_type": "markdown",
   "metadata": {},
   "source": [
    "디폴트 인수를 사용하는 함수 → 변수명 = default 값  \n",
    "함수가 호출될 때 인수가 넘어오면 넘어온 값으로 함수를 실행하고 인수가 넘어오지 않으면 지정된 default 값으로 함수를 실행한다."
   ]
  },
  {
   "cell_type": "code",
   "execution_count": 52,
   "metadata": {},
   "outputs": [],
   "source": [
    "def add2(a = 1, b = 3):\n",
    "    print(\"add2 함수 실행 결과 : \", a + b)"
   ]
  },
  {
   "cell_type": "code",
   "execution_count": 61,
   "metadata": {},
   "outputs": [
    {
     "name": "stdout",
     "output_type": "stream",
     "text": [
      "add2 함수 실행 결과 :  4\n",
      "add2 함수 실행 결과 :  5\n",
      "add2 함수 실행 결과 :  7\n",
      "add2 함수 실행 결과 :  10\n"
     ]
    }
   ],
   "source": [
    "add2()\n",
    "add2(2)\n",
    "add2(2, 5)\n",
    "add2(b=9) # 두번째 항만 입력하고 싶은경우 인수를 명확히 찍어서 입력한다."
   ]
  },
  {
   "cell_type": "code",
   "execution_count": 5,
   "metadata": {},
   "outputs": [],
   "source": [
    "# 넘겨받은 인수를 딕셔너리 형태로 반환하는 함수 → 인수를 **변수명 형태로 사용\n",
    "# 딕셔너리는 key와 value로 구성되기에 인자를 넘길때도 key = value 형태로 인수를 전달해야 한다.\n",
    "def func5(**args):\n",
    "    print(type(args))\n",
    "    print(args)"
   ]
  },
  {
   "cell_type": "code",
   "execution_count": 7,
   "metadata": {},
   "outputs": [
    {
     "name": "stdout",
     "output_type": "stream",
     "text": [
      "<class 'dict'>\n",
      "{'a': 100, 'b': 200}\n"
     ]
    }
   ],
   "source": [
    "func5(a = 100, b = 200)"
   ]
  },
  {
   "cell_type": "code",
   "execution_count": 9,
   "metadata": {},
   "outputs": [],
   "source": [
    "# return을 튜플로 하면 return 값이 2개 이상인 것 같은 효과를 낸다.\n",
    "def func6(a, b):\n",
    "    temp = a;\n",
    "    a = b;\n",
    "    b = temp;\n",
    "    return (a, b) # return을 튜플 1개르"
   ]
  },
  {
   "cell_type": "code",
   "execution_count": 13,
   "metadata": {},
   "outputs": [
    {
     "name": "stdout",
     "output_type": "stream",
     "text": [
      "a = 3, b = 4\n",
      "a = 4, b = 3\n",
      "a = 3, b = 4\n"
     ]
    }
   ],
   "source": [
    "a = 3\n",
    "b = 4\n",
    "print(\"a = {}, b = {}\".format(a, b))\n",
    "a, b, = b, a\n",
    "print(\"a = {}, b = {}\".format(a, b))\n",
    "a, b = func6(a, b)\n",
    "print(\"a = {}, b = {}\".format(a, b))"
   ]
  }
 ],
 "metadata": {
  "kernelspec": {
   "display_name": "Python 3",
   "language": "python",
   "name": "python3"
  },
  "language_info": {
   "codemirror_mode": {
    "name": "ipython",
    "version": 3
   },
   "file_extension": ".py",
   "mimetype": "text/x-python",
   "name": "python",
   "nbconvert_exporter": "python",
   "pygments_lexer": "ipython3",
   "version": "3.7.6"
  }
 },
 "nbformat": 4,
 "nbformat_minor": 4
}
