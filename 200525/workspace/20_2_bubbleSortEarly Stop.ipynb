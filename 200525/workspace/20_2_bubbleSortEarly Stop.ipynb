{
 "cells": [
  {
   "cell_type": "markdown",
   "metadata": {},
   "source": [
    "인접한 2개의 데이터를 비교  \n",
    "선택정렬의 바깥 반복이 회전수와 정렬을 하기 위해 선택하는 데이터의 위치를 의미하지만 버블정렬에서 바깥쪽 반복은 회전수 제어만 함  \n",
    "선택정렬의 안쪽 반복이 선택된 데이터(i번째 데이터)와 비교하는 대상을 가리키지만 버블정렬에선 정렬하기 위해서 비교하는 데이터의 위치를 의미"
   ]
  },
  {
   "cell_type": "code",
   "execution_count": 20,
   "metadata": {},
   "outputs": [
    {
     "name": "stdout",
     "output_type": "stream",
     "text": [
      "1 번째 정렬 결과 :  [1, 3, 8, 2, 9]\n",
      "2 번째 정렬 결과 :  [1, 3, 2, 8, 9]\n",
      "3 번째 정렬 결과 :  [1, 2, 3, 8, 9]\n"
     ]
    }
   ],
   "source": [
    "# 횟수의 종료 이전에 정렬이 마무리 되면 정렬작업을 종료\n",
    "data = [9, 1, 3, 8, 2]\n",
    "\n",
    "for i in range(len(data) -1):\n",
    "    # 정렬(비교) 작업을 시작하기 전에 flag(임의변수)변수를 True로 초기화\n",
    "    flag = True\n",
    "    for j in range(len(data)-1-i):\n",
    "        if data[j] > data[j+1]:\n",
    "            data[j], data[j+1] = data[j+1], data[j]\n",
    "            # 값 교환작업(정렬작업)이 진행되면 flag 변수의 값을 False로 변경\n",
    "            flag = False\n",
    "\n",
    "    # 값 교환이 없다는 뜻은 다 정렬되었다는 의미이니 sort 종료\n",
    "    if flag == True:\n",
    "        break;\n",
    "    \n",
    "    print(i+1,\"번째 정렬 결과 : \", data)"
   ]
  }
 ],
 "metadata": {
  "kernelspec": {
   "display_name": "Python 3",
   "language": "python",
   "name": "python3"
  },
  "language_info": {
   "codemirror_mode": {
    "name": "ipython",
    "version": 3
   },
   "file_extension": ".py",
   "mimetype": "text/x-python",
   "name": "python",
   "nbconvert_exporter": "python",
   "pygments_lexer": "ipython3",
   "version": "3.7.6"
  }
 },
 "nbformat": 4,
 "nbformat_minor": 4
}
