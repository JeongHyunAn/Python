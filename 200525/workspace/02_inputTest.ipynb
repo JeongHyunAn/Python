{
 "cells": [
  {
   "cell_type": "markdown",
   "metadata": {},
   "source": [
    "변수(variable)는 데이터(상수)를 저장시키는 기억장소를 의미한다.  \n",
    "변수 이름 작성 방법  \n",
    "영문자, 숫자, 특수문자( _ )만 사용할 수 있고 대문자와 소문자를 구분한다.  \n",
    "변수 이름의 첫 글자는 반드시 문자로 시작해야 하며(숫자 불가), 예약어는 사용할 수 없다.\n",
    "  \n",
    "변수를 선언할 때 변수의 자료형을 지정하지 않음.(자동 구분)\n",
    "'=='가 같다라는 의미로 인식하며, '='는 오른쪽의 데이터를 왼쪽의 기억장소에 저장한다는 의미"
   ]
  },
  {
   "cell_type": "code",
   "execution_count": 17,
   "metadata": {},
   "outputs": [
    {
     "name": "stdout",
     "output_type": "stream",
     "text": [
      "안정현\n",
      "<class 'str'>\n",
      "20\n",
      "<class 'int'>\n",
      "181.5\n",
      "<class 'float'>\n",
      "True\n",
      "<class 'bool'>\n",
      "none\n",
      "<class 'str'>\n"
     ]
    }
   ],
   "source": [
    "name = '안정현'\n",
    "print(name)\n",
    "print(type(name))\n",
    "name = 20\n",
    "print(name)\n",
    "print(type(name))\n",
    "name = 181.5\n",
    "print(name)\n",
    "print(type(name))\n",
    "name = True # 논리값을 의미하는 참(T)와 거짓(F)은 반드시 첫문자만 대문자고 써야한다.\n",
    "# 논리값을 기억하는 변수 이름은 'is'로 시작사는 것이 관행이다.\n",
    "print(name)\n",
    "print(type(name))\n",
    "name = 'none'\n",
    "print(name)\n",
    "print(type(name))"
   ]
  },
  {
   "cell_type": "code",
   "execution_count": 26,
   "metadata": {},
   "outputs": [
    {
     "name": "stdout",
     "output_type": "stream",
     "text": [
      "이름을 입력하세요 : 안정현\n",
      "안정현님 어서오세요.\n",
      "안정현님 어서오세요.\n",
      "안정현님 어서오세요.\n",
      "안정현       님 어서오세요.\n",
      "안정현님 어서오세요.\n"
     ]
    }
   ],
   "source": [
    "# input()함수는 키보드로 데이터(문자열)로 입력받는다.  \n",
    "# input() 함수로 입력받는 모든 데이터는 문자열 형태로 입력된다.\n",
    "''' 작은따옴표를 3개를 쓰면 따옴표 사이가 주석으로 변한다.\n",
    "print('이름을 입력하세요 : ', end=\"\")\n",
    "# 키보트로 데어를 입력받아 'name'이라는 변수에 저장한다.\n",
    "name = input()\n",
    "print('%s님 어서오세요.' % name)\n",
    "print('{}님 어서오세요.'.format(name))\n",
    "print('{0}님 어서오세요.'.format(name))\n",
    "print('{0:10s}님 어서오세요.'.format(name))\n",
    "print(f'{name}님 어서오세요.')\n",
    "'''\n"
   ]
  },
  {
   "cell_type": "code",
   "execution_count": 38,
   "metadata": {
    "scrolled": true
   },
   "outputs": [
    {
     "name": "stdout",
     "output_type": "stream",
     "text": [
      "별명을 입력하세요 : 안정현\n",
      "나이를 입력하세요 : 31\n",
      "안정현님은 31살입니다.\n",
      "안정현님은 내년에 32살입니다.\n"
     ]
    }
   ],
   "source": [
    "# input() 함수의 인수로 문자열을 입력하면 입력받기 전에 문자열을 메시지로 출력한다.\n",
    "nickName = input('별명을 입력하세요 : ') # 2개 이상의 단어를 이용해서 변수의 이름을 만들 때 2번째 이후 나오는 단어의 첫 문자를 보통 대문자로 만든다.(헝가리안 표기법)\n",
    "# input()함수를 사용하며 ()안에 문장을 입력하면 입력란이 출력되는 동일선상에 해당 문장 출력\n",
    "age = input('나이를 입력하세요 : ')\n",
    "print(f'{nickName}님은 {age}살입니다.')\n",
    "# 입력받은 문자열을 정수로 바꿔주기 위해서는 변수의 앞에 타입을 강제로 작성해 준다.\n",
    "print(f'{nickName}님은 내년에 {int(age)+1}살입니다.')\n",
    "# 처음부터 input으로 받는 데이터를 정수로 입력받길 원한다면 아래와 같이 작성을 한다.\n",
    "# age = int(input('나이를 입력하세요 : '))"
   ]
  },
  {
   "cell_type": "code",
   "execution_count": 1,
   "metadata": {},
   "outputs": [
    {
     "name": "stdout",
     "output_type": "stream",
     "text": [
      "이름과 나이를 입력하세요 : 안정현 31\n",
      "안정현님은 31살입니다.\n"
     ]
    }
   ],
   "source": [
    "# 복수개의 데이터를 입력받고자 할시 split('구분자')를 정의하여 활용한다.\n",
    "# split('구분자') : 문자열을 구분자를 경계로 나누며, 구분자를 생략시 defalt(따옴표 없는 괄호)는 공백이다.\n",
    "name, age = input('이름과 나이를 입력하세요 : ').split()\n",
    "print(f'{name}님은 {age}살입니다.')"
   ]
  },
  {
   "cell_type": "code",
   "execution_count": 55,
   "metadata": {},
   "outputs": [
    {
     "name": "stdout",
     "output_type": "stream",
     "text": [
      "3과목 점수를 입력하세요 : 100 100 100\n",
      "총점 : 300\n"
     ]
    }
   ],
   "source": [
    "# 3가지 정수를 input()으로 입력받아 합산하기\n",
    "python, java, jsp = input('3과목 점수를 입력하세요 : ').split()\n",
    "print('총점 : {}'.format(int(python) + int(java) + int(jsp)))"
   ]
  },
  {
   "cell_type": "code",
   "execution_count": null,
   "metadata": {},
   "outputs": [],
   "source": [
    "# map()함수를 이용하여 input()으로 받는 복수의 데이터를 정수로 바꾸는 방법\n",
    "python, java, jsp = map(int, input('3과목 점수를 입력하세요 : ').split())\n",
    "print('총점 : {}'.format(python + java + jsp))"
   ]
  }
 ],
 "metadata": {
  "kernelspec": {
   "display_name": "Python 3",
   "language": "python",
   "name": "python3"
  },
  "language_info": {
   "codemirror_mode": {
    "name": "ipython",
    "version": 3
   },
   "file_extension": ".py",
   "mimetype": "text/x-python",
   "name": "python",
   "nbconvert_exporter": "python",
   "pygments_lexer": "ipython3",
   "version": "3.7.6"
  }
 },
 "nbformat": 4,
 "nbformat_minor": 4
}
