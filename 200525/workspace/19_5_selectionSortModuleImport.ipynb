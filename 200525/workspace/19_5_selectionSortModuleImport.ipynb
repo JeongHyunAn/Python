{
 "cells": [
  {
   "cell_type": "code",
   "execution_count": 5,
   "metadata": {},
   "outputs": [
    {
     "name": "stdout",
     "output_type": "stream",
     "text": [
      "[12, 23, 45, 56, 78, 89]\n",
      "[89, 78, 56, 45, 23, 12]\n"
     ]
    }
   ],
   "source": [
    "# 특정 모듈의 특정 함수나 메소드만 import 하려는 경우 또는 import한 것을 마치 현재 프로그램에서 선언한 것 처럼 사용하는 방법 / 즉, sm.을 안쓰려면\n",
    "# from 모듈이름 import 함수이름\n",
    "'''\n",
    "from sortModule import selectionSortAsc\n",
    "from sortModule import selectionSortDesc\n",
    "''' # 줄여쓰기\n",
    "# from sortModule import selectionSortAsc, selectionSortDesc\n",
    "# 모든 모듈을 import시에는 다음과 같이 활용\n",
    "from sortModule import *\n",
    "\n",
    "data = [12, 45, 78, 23, 56, 89]\n",
    "selectionSortAsc(data)\n",
    "print(data)\n",
    "selectionSortDesc(data)\n",
    "print(data)"
   ]
  }
 ],
 "metadata": {
  "kernelspec": {
   "display_name": "Python 3",
   "language": "python",
   "name": "python3"
  },
  "language_info": {
   "codemirror_mode": {
    "name": "ipython",
    "version": 3
   },
   "file_extension": ".py",
   "mimetype": "text/x-python",
   "name": "python",
   "nbconvert_exporter": "python",
   "pygments_lexer": "ipython3",
   "version": "3.7.6"
  }
 },
 "nbformat": 4,
 "nbformat_minor": 4
}
