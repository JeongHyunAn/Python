{
 "cells": [
  {
   "cell_type": "markdown",
   "metadata": {},
   "source": [
    "module을 만들시에 파일명이 숫자로 시작 할 수 없다.  \n",
    "선택 정렬(selection sort)은 특정 위치의 값을 선택해서 나머지 값과 비교하여 정렬  \n",
    "모듈 작성시 테스트 코드는 if __name__ == \"__main__\":을 작성 / 해당 문구가 들어간 코드는 import시 실행하지 말라는 의미"
   ]
  },
  {
   "cell_type": "code",
   "execution_count": 39,
   "metadata": {},
   "outputs": [],
   "source": [
    "# 오름차순 정렬함수\n",
    "def selectionSortAsc(data):\n",
    "    for i in range(0, len(data)-1, 1):\n",
    "        for j in range(i+1, len(data), 1):\n",
    "            if data[i] > data[j]:\n",
    "                data[i], data[j] = data[j], data[i]\n",
    "    return data;\n",
    "\n",
    "# 내림차순 정렬함수\n",
    "def selectionSortDesc(data):\n",
    "    for i in range(0, len(data)-1, 1):\n",
    "        for j in range(i+1, len(data), 1):\n",
    "            if data[i] < data[j]:\n",
    "                data[i], data[j] = data[j], data[i]\n",
    "    return data;"
   ]
  }
 ],
 "metadata": {
  "kernelspec": {
   "display_name": "Python 3",
   "language": "python",
   "name": "python3"
  },
  "language_info": {
   "codemirror_mode": {
    "name": "ipython",
    "version": 3
   },
   "file_extension": ".py",
   "mimetype": "text/x-python",
   "name": "python",
   "nbconvert_exporter": "python",
   "pygments_lexer": "ipython3",
   "version": "3.7.6"
  }
 },
 "nbformat": 4,
 "nbformat_minor": 4
}
