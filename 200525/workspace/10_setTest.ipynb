{
 "cells": [
  {
   "cell_type": "markdown",
   "metadata": {},
   "source": [
    "set 만들기  \n",
    "set은 수학의 집합과 비슷한 형태이며, 중복값을 허용하지 않음  \n",
    "입력하는 순서와 실제 데이터가 저장되는 순서가 다름 / 즉, indexing이 허용되지 않음  \n",
    "딕셔너리처럼 {}를 사용해서 선언하지만 key가 존재하지 않음  \n",
    "또는 ()안에 리스트[]를 넣거나 \"\"문자열을 넣어서 만들 수 있음"
   ]
  },
  {
   "cell_type": "code",
   "execution_count": 13,
   "metadata": {},
   "outputs": [
    {
     "name": "stdout",
     "output_type": "stream",
     "text": [
      "<class 'set'>\n",
      "<class 'set'>\n",
      "<class 'set'>\n"
     ]
    }
   ],
   "source": [
    "# 빈 set을 만들어 사용해야한다면 생성자 이용 또는 아래와 같이 만듬\n",
    "a = set()\n",
    "b = set([])\n",
    "c = {1,2,3,4}\n",
    "print(type(a))\n",
    "print(type(b))\n",
    "print(type(c))"
   ]
  },
  {
   "cell_type": "code",
   "execution_count": null,
   "metadata": {},
   "outputs": [],
   "source": [
    "# 생성자를 활용하면 여러가지 데이터 형식으로 만들 수 있음\n",
    "e = [1,2,3,4]\n",
    "print(e)\n",
    "print(type(e))\n",
    "f = set(e)\n",
    "print(f)\n",
    "print(type(f))\n",
    "g = 1,2,3,4\n",
    "print(g)\n",
    "print(type(g))\n",
    "h = set(g)\n",
    "print(h)\n",
    "print(type(h))"
   ]
  },
  {
   "cell_type": "markdown",
   "metadata": {},
   "source": [
    "add() 메소드는 set에 데이터를 추가  \n",
    "copy() 메소드는 set을 복사 / 단, 순서는 같게 입력되지 않음  \n",
    "in, not in 연산자도 사용이 가능함"
   ]
  },
  {
   "cell_type": "code",
   "execution_count": 22,
   "metadata": {},
   "outputs": [
    {
     "name": "stdout",
     "output_type": "stream",
     "text": [
      "{1, 2, 3, 4}\n",
      "{'안정현'}\n",
      "{'안정현', '안태현'}\n",
      "{'김세영', '안정현', '안태현'}\n",
      "{'이광기', '김세영', '안정현', '안태현'}\n",
      "{'d', 'H', 'a', 'P', 'y', ' ', 'k', 'r', 'l', 'W', 'o'}\n"
     ]
    }
   ],
   "source": [
    "# 중복값 배제\n",
    "i = set([1,2,2,3,3,3,4,4,4,4])\n",
    "print(i)\n",
    "# 인덱싱 확인\n",
    "j = {'안정현'}\n",
    "print(j)\n",
    "j.add('안태현')\n",
    "print(j)\n",
    "j.add('김세영')\n",
    "print(j)\n",
    "j.add('이광기')\n",
    "print(j)\n",
    "\n",
    "k = set(\"Work Hard Play Hard\")\n",
    "print(k)"
   ]
  },
  {
   "cell_type": "markdown",
   "metadata": {},
   "source": [
    "update() 메소드는 set에 여러건의 데이터를 한 번에 추가  \n",
    "update() 활용시 리스트([])나 튜플(())을 활용하여 넣어주어야 함"
   ]
  },
  {
   "cell_type": "code",
   "execution_count": 37,
   "metadata": {},
   "outputs": [
    {
     "name": "stdout",
     "output_type": "stream",
     "text": [
      "{'김지완', '안정현', '최인선', '나경미'}\n",
      "{'김지완', '이상헌', '안정현', '최인선', '나경미', '정성기'}\n",
      "{'김지완', '안정현', '최인선', '나경미', '정성기'}\n",
      "{'김지완', '안정현', '최인선', '나경미', '정성기'}\n"
     ]
    }
   ],
   "source": [
    "j = set(['안정현'])\n",
    "j.update(['김지완', '나경미', '최인선'])\n",
    "print(j)\n",
    "j.update(('정성기', '이상헌'))\n",
    "print(j)\n",
    "j.remove(('이상헌')) # .remove() 메소드를 활용한 삭제명령\n",
    "print(j)\n",
    "j.discard(('정성기')) # .discard() 메소드를 활용한 삭제명령 / discard는 해당 값이 없다 하더라도 오류를 리턴하지 않음\n",
    "print(j)\n"
   ]
  },
  {
   "cell_type": "markdown",
   "metadata": {},
   "source": [
    "set을 집합처럼 사용하기"
   ]
  },
  {
   "cell_type": "code",
   "execution_count": 51,
   "metadata": {},
   "outputs": [
    {
     "name": "stdout",
     "output_type": "stream",
     "text": [
      "{1, 2, 3, 4, 5, 6}\n",
      "{4, 5, 6, 7, 8, 9}\n",
      "합집합 : {1, 2, 3, 4, 5, 6, 7, 8, 9}\n",
      "교집합 : {4, 5, 6}\n",
      "차집합 : {1, 2, 3}\n",
      "\n",
      "합집합 : {1, 2, 3, 4, 5, 6, 7, 8, 9}\n",
      "교집합 : {4, 5, 6}\n",
      "차집합 : {1, 2, 3}\n",
      "\n"
     ]
    }
   ],
   "source": [
    "k = set([1,2,3,4,5,6])\n",
    "l = set([4,5,6,7,8,9])\n",
    "print(k)\n",
    "print(l)\n",
    "\n",
    "print('합집합 :', k|l) # 합집합\n",
    "print('교집합 :', k&l) # 교집합\n",
    "print('차집합 :', k-l, end='\\n\\n') # 차집합\n",
    "\n",
    "m = set(['가', '나', '다'])\n",
    "n = set(['나', '다', '라'])\n",
    "print('합집합 :', k.union(l)) # 합집합\n",
    "print('교집합 :', k.intersection(l)) # 교집합\n",
    "print('차집합 :', k.difference(l), end='\\n\\n') # 차집합"
   ]
  }
 ],
 "metadata": {
  "kernelspec": {
   "display_name": "Python 3",
   "language": "python",
   "name": "python3"
  },
  "language_info": {
   "codemirror_mode": {
    "name": "ipython",
    "version": 3
   },
   "file_extension": ".py",
   "mimetype": "text/x-python",
   "name": "python",
   "nbconvert_exporter": "python",
   "pygments_lexer": "ipython3",
   "version": "3.7.6"
  }
 },
 "nbformat": 4,
 "nbformat_minor": 4
}
