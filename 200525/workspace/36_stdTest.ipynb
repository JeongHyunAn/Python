{
 "cells": [
  {
   "cell_type": "markdown",
   "metadata": {},
   "source": [
    "n개의 데이터(999가 입력되기 전 까지)를 입력받아 최대값과 최소값을 제외한 나머지 데이터의 표준편차를 계산하는 프로그램"
   ]
  },
  {
   "cell_type": "code",
   "execution_count": 24,
   "metadata": {},
   "outputs": [
    {
     "name": "stdout",
     "output_type": "stream",
     "text": [
      "정수를 입력하세요(종료 999 입력) :1\n",
      "정수를 입력하세요(종료 999 입력) :2\n",
      "정수를 입력하세요(종료 999 입력) :3\n",
      "정수를 입력하세요(종료 999 입력) :4\n",
      "정수를 입력하세요(종료 999 입력) :5\n",
      "정수를 입력하세요(종료 999 입력) :999\n",
      "표준편차 : 0.816496580927726\n"
     ]
    }
   ],
   "source": [
    "import math\n",
    "\n",
    "# 표준편차를 계산할 데이터를 999가 입력될 때 까지 입력받기\n",
    "number = []\n",
    "num = 0\n",
    "total = 0\n",
    "result = 0\n",
    "\n",
    "while num != 999:\n",
    "    num = int(input(\"정수를 입력하세요(종료 999 입력) :\"))\n",
    "    \n",
    "    if num != 999:    \n",
    "        number.append(num)\n",
    "\n",
    "number.remove(min(number))\n",
    "number.remove(max(number))\n",
    "\n",
    "ave = sum(number) / len(number)\n",
    "\n",
    "for i in range(len(number)):\n",
    "    total += (number[i] - ave) ** 2\n",
    "\n",
    "result = math.sqrt(total / len(number))\n",
    "\n",
    "print(\"표준편차 :\", result)"
   ]
  },
  {
   "cell_type": "code",
   "execution_count": 19,
   "metadata": {},
   "outputs": [
    {
     "name": "stdout",
     "output_type": "stream",
     "text": [
      "1번째 표준편차를 계산할 데이터를 입력하세요 : 1\n",
      "2번째 표준편차를 계산할 데이터를 입력하세요 : 2\n",
      "3번째 표준편차를 계산할 데이터를 입력하세요 : 3\n",
      "4번째 표준편차를 계산할 데이터를 입력하세요 : 4\n",
      "5번째 표준편차를 계산할 데이터를 입력하세요 : 5\n",
      "6번째 표준편차를 계산할 데이터를 입력하세요 : 999\n",
      "입력받은 데이터의 개수는 6개이고 입력받은 데이터는 [1, 2, 3, 4, 5] 입니다.\n",
      "\n",
      "최대값 : 5, 최소값 : 1\n",
      "최소값과 최대값을 제외한 나머지 데이터의 합계 : 9\n",
      "최소값과 최대값을 제외한 나머지 데이터의 평균 : 2.25\n"
     ]
    }
   ],
   "source": [
    "# 선생님 버전 / min, max를 별도로 비교산출 / 분산과 표준편차는 안구해주심\n",
    "score = []\n",
    "n = 0\n",
    "total = 0\n",
    "\n",
    "while True:\n",
    "    n += 1\n",
    "    data = int(input(\"{}번째 표준편차를 계산할 데이터를 입력하세요 : \".format(n)))\n",
    "    \n",
    "    if data == 999:\n",
    "        n -= 1\n",
    "        break;\n",
    "\n",
    "    score.append(data)\n",
    "print(\"입력받은 데이터의 개수는 {}개이고 입력받은 데이터는 {} 입니다.\".format(n, score), end = \"\\n\\n\")\n",
    "\n",
    "# 최대값과 최소값을 기억할 변수에 score 리스트의 0번째 값을 각각 초기치로 지정한다.\n",
    "maxi = score[0]\n",
    "mini = score[0]\n",
    "\n",
    "for i in range(1, len(score)):\n",
    "    if maxi < score[i]:\n",
    "        maxi = score[i]\n",
    "\n",
    "    elif mini > score[i]:\n",
    "        mini = score[i]\n",
    "print(\"최대값 : {}, 최소값 : {}\".format(maxi, mini))\n",
    "\n",
    "for i in range(len(score)):\n",
    "    total += score[i]\n",
    "\n",
    "total -= maxi + mini\n",
    "print(\"최소값과 최대값을 제외한 나머지 데이터의 합계 : {}\".format(total))\n",
    "\n",
    "mean = total / (n - 2)\n",
    "print(\"최소값과 최대값을 제외한 나머지 데이터의 평균 : {}\".format(mean), end = \"\\n\\n\")"
   ]
  },
  {
   "cell_type": "code",
   "execution_count": 23,
   "metadata": {},
   "outputs": [
    {
     "name": "stdout",
     "output_type": "stream",
     "text": [
      "1번째 표준편차를 계산할 데이터를 입력하세요 : 1\n",
      "2번째 표준편차를 계산할 데이터를 입력하세요 : 2\n",
      "3번째 표준편차를 계산할 데이터를 입력하세요 : 3\n",
      "4번째 표준편차를 계산할 데이터를 입력하세요 : 4\n",
      "5번째 표준편차를 계산할 데이터를 입력하세요 : 5\n",
      "6번째 표준편차를 계산할 데이터를 입력하세요 : 999\n",
      "입력받은 데이터의 개수는 5개이고 입력받은 데이터는 [1, 2, 3, 4, 5] 입니다.\n",
      "\n",
      "최소값과 최대값을 제외한 나머지 데이터의 합계 : 9\n",
      "최소값과 최대값을 제외한 나머지 데이터의 평균 : 3.0\n",
      "\n",
      "최대값과 최소값을 제외한 나머지 데이터의 산술평균에 대한 편차의 제곱의 합계 : 2.0\n",
      "분산 : 0.6666666666666666\n",
      "표준편차 : 0.816496580927726\n"
     ]
    }
   ],
   "source": [
    "# 선생님 버전 / 리스트를 정렬하여 0과 -1 인덱스 제외하여 활용\n",
    "score = []\n",
    "n = 0\n",
    "total = 0\n",
    "result = 0.0\n",
    "\n",
    "while True:\n",
    "    n += 1\n",
    "    data = int(input(\"{}번째 표준편차를 계산할 데이터를 입력하세요 : \".format(n)))\n",
    "    \n",
    "    if data == 999:\n",
    "        n -= 1\n",
    "        break;\n",
    "\n",
    "    score.append(data)\n",
    "print(\"입력받은 데이터의 개수는 {}개이고 입력받은 데이터는 {} 입니다.\".format(n, score), end = \"\\n\\n\")\n",
    "\n",
    "score.sort()\n",
    "\n",
    "# 데이터를 오름차순 또는 내림차순으로 정렬시킨 경우 아래의 반복을 사용\n",
    "for i in range(1, len(score) - 1): # 처음과 마지막 리스트를 뺀 나머지 인덱스\n",
    "    total += score[i]\n",
    "\n",
    "print(\"최소값과 최대값을 제외한 나머지 데이터의 합계 : {}\".format(total))\n",
    "\n",
    "mean = total / (n - 2)\n",
    "print(\"최소값과 최대값을 제외한 나머지 데이터의 평균 : {}\".format(mean), end = \"\\n\\n\")\n",
    "\n",
    "for i in range(1, len(score) - 1):\n",
    "    result += (score[i] - mean) ** 2\n",
    "print(\"최대값과 최소값을 제외한 나머지 데이터의 산술평균에 대한 편차의 제곱의 합계 : {}\".format(result))\n",
    "\n",
    "print(\"분산 : {}\".format(result / (n-2)))\n",
    "print(\"표준편차 : {}\".format((result / (n-2)) ** 0.5))"
   ]
  }
 ],
 "metadata": {
  "kernelspec": {
   "display_name": "Python 3",
   "language": "python",
   "name": "python3"
  },
  "language_info": {
   "codemirror_mode": {
    "name": "ipython",
    "version": 3
   },
   "file_extension": ".py",
   "mimetype": "text/x-python",
   "name": "python",
   "nbconvert_exporter": "python",
   "pygments_lexer": "ipython3",
   "version": "3.7.6"
  }
 },
 "nbformat": 4,
 "nbformat_minor": 4
}
