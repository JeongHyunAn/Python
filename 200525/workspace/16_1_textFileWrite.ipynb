{
 "cells": [
  {
   "cell_type": "markdown",
   "metadata": {},
   "source": [
    "텍스트 파일에 쓰기"
   ]
  },
  {
   "cell_type": "markdown",
   "metadata": {},
   "source": [
    "텍스트 파일열기  \n",
    "파일변수 = open(\"파일이름\", \"열기모드\")  \n",
    "열기모드 = r → read, 읽기전용 / w → wirte, (덮어)쓰기전용 / a → append, 기존파일에 이어쓰기  \n",
    "w, a 모드는 파일이 없으면 파일을 만든 후 저장하며, 저장하기 위해서는 작업 완료 후 반드시 파일을 닫아야 한다  \n",
    "작업을 위해서 폴더 옵션에서 숨김 파일, 폴더 또는 드라이브를 표시 및 알려진 확장명 숨기기 체크 해제로 변경하여야 함  "
   ]
  },
  {
   "cell_type": "code",
   "execution_count": null,
   "metadata": {},
   "outputs": [],
   "source": [
    "file = open(\"data.txt\", \"w\")\n",
    "\n",
    "for i in range(1, 11):\n",
    "    # 화면에 출력시에는 print() 함수를 사용하였지만, 파일로 출력시에는 write()함수를 사용\n",
    "    # write() 함수의 인수는 문자열만 사용할 수 있기 때문에 str() 함수로 변환 후 출력하여야 한다.\n",
    "    file.write(str(i) + \"\\n\")\n",
    "\n",
    "file.close()\n",
    "(print(\"파일로 쓰기 완료.\"))"
   ]
  },
  {
   "cell_type": "code",
   "execution_count": 3,
   "metadata": {},
   "outputs": [
    {
     "name": "stdout",
     "output_type": "stream",
     "text": [
      "파일에 입력할 내용을 작성하세요 : 안뇽하세요\n",
      "파일에 입력할 내용을 작성하세요 : 케케케\n",
      "파일에 입력할 내용을 작성하세요 : quit\n",
      "파일로 쓰기 완료.\n"
     ]
    }
   ],
   "source": [
    "file = open(\"test.txt\", \"a\")\n",
    "\n",
    "while True:\n",
    "    txt = input(\"파일에 입력할 내용을 작성하세요 : \")\n",
    "\n",
    "    if txt.upper() == \"QUIT\":\n",
    "        break\n",
    "        \n",
    "    else:\n",
    "        file.write(txt + \"\\n\")\n",
    "\n",
    "file.close()\n",
    "(print(\"파일로 쓰기 완료.\"))"
   ]
  },
  {
   "cell_type": "code",
   "execution_count": 4,
   "metadata": {},
   "outputs": [
    {
     "name": "stdout",
     "output_type": "stream",
     "text": [
      "파일에 입력할 내용을 작성하세요 : 안뇽하세요\n",
      "파일에 입력할 내용을 작성하세요 : 케케케\n",
      "파일에 입력할 내용을 작성하세요 :    \n",
      "파일에 입력할 내용을 작성하세요 : 케케케\n",
      "파일에 입력할 내용을 작성하세요 : quit\n",
      "파일로 쓰기 완료.\n"
     ]
    }
   ],
   "source": [
    "# 선생님 버전\n",
    "file = open(\"test_ver2.txt\", \"a\")\n",
    "\n",
    "while True:\n",
    "    txt = input(\"파일에 입력할 내용을 작성하세요 : \").strip() # strip()메소드는 불필요한 공백을 없애준다.\n",
    "\n",
    "    if txt.lower() == \"quit\":\n",
    "        break;\n",
    "\n",
    "    if len(txt) != 0: # 입력값이 공백이 아닐 때만 입력\n",
    "        file.write(txt + \"\\n\")\n",
    "\n",
    "file.close()\n",
    "(print(\"파일로 쓰기 완료.\"))"
   ]
  },
  {
   "cell_type": "code",
   "execution_count": null,
   "metadata": {},
   "outputs": [],
   "source": [
    "# 파일의 저장위치를 지정할 수 있는 경로 지정방식은 2가지가 있다.\n",
    "# 1. 절대경로 방식\n",
    "# 파일이 저장된 디스크의 최상위 디렉토리(폴더)인 root부터 파일이 위치한 최하단의 디렉토리 까지의 경로\n",
    "# 2. 상대경로 방식\n",
    "# 현재 작업중인 Python 프로그램이 위치한 디렉토리부터 파일이 위치한 디렉토리 까지의 경로\n",
    "# 주로 USB에 작업하는 것과 같이 경로(root)가 자주 변경되는 경우에 활용하기 좋음 / 절대경로 방식은 경로를 매번 바꾸어 줘야함"
   ]
  },
  {
   "cell_type": "code",
   "execution_count": 22,
   "metadata": {},
   "outputs": [
    {
     "name": "stdout",
     "output_type": "stream",
     "text": [
      "파일에 입력할 내용을 작성하세요 : i feel like a zombie\n",
      "파일에 입력할 내용을 작성하세요 : quit\n",
      "파일로 쓰기 완료.\n"
     ]
    }
   ],
   "source": [
    "# 파이썬은 디렉토리와 디렉토리 또는 디렉토리와 파일을 구분하는 \"\\\"는 반드시 2개를 연속해서 써야한다.\n",
    "# 참고로 \"\\\\\"는 \"/\"하나로 대체가 가능하다.\n",
    "# filePath = \"D:\\\\Python(may)\\\\200525\\\\workspace\\\\data\" # 이렇게 path만 지정하면 open시 오류\n",
    "# filePath = \"D:/Python(may)/200525/workspace/data/test_ver3.txt\" # 절대경로방식\n",
    "# 현재 폴더 아래의 폴더에 date_ver4.txt 파일로 저장\n",
    "# filePath = \"./data/test_ver4.txt\" # 상대경로방식\n",
    "# 현재 폴더 한 단계 상위 폴더 아래의(현재 폴더와 같은레벨) 폴더에 저장\n",
    "filePath = \"../workspace/data/test_ver4.txt\" # 상대경로방식\n",
    "\n",
    "file = open(filePath, \"a\")\n",
    "\n",
    "while True:\n",
    "    txt = input(\"파일에 입력할 내용을 작성하세요 : \").strip() # strip()메소드는 불필요한 공백을 없애준다.\n",
    "\n",
    "    if txt.lower() == \"quit\":\n",
    "        break;\n",
    "\n",
    "    if len(txt) != 0: # 입력값이 공백이 아닐 때만 입력\n",
    "        file.write(txt + \"\\n\")\n",
    "\n",
    "file.close()\n",
    "print(\"파일로 쓰기 완료.\")"
   ]
  },
  {
   "cell_type": "code",
   "execution_count": null,
   "metadata": {},
   "outputs": [],
   "source": []
  }
 ],
 "metadata": {
  "kernelspec": {
   "display_name": "Python 3",
   "language": "python",
   "name": "python3"
  },
  "language_info": {
   "codemirror_mode": {
    "name": "ipython",
    "version": 3
   },
   "file_extension": ".py",
   "mimetype": "text/x-python",
   "name": "python",
   "nbconvert_exporter": "python",
   "pygments_lexer": "ipython3",
   "version": "3.7.6"
  }
 },
 "nbformat": 4,
 "nbformat_minor": 4
}
