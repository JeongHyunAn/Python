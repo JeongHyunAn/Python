{
 "cells": [
  {
   "cell_type": "code",
   "execution_count": 24,
   "metadata": {},
   "outputs": [
    {
     "name": "stdout",
     "output_type": "stream",
     "text": [
      "17 24  1  8 15 \n",
      "23  5  7 14 16 \n",
      " 4  6 13 20 22 \n",
      "10 12 19 21  3 \n",
      "11 18 25  2  9 \n"
     ]
    }
   ],
   "source": [
    "a = [[0] * 5 for i in range(5)]\n",
    "i = 0\n",
    "j = 2\n",
    "k = 0\n",
    "\n",
    "for k in range(1, 26):\n",
    "    a[i][j] = k\n",
    "    \n",
    "    if k % 5 == 0:\n",
    "        i += 1\n",
    "    \n",
    "    else:\n",
    "        i -= 1\n",
    "        \n",
    "        if i == -1:\n",
    "            i = 4\n",
    "            \n",
    "        j += 1\n",
    "        \n",
    "        if j == 5:\n",
    "            j = 0\n",
    "\n",
    "for i in range(5):\n",
    "    for j in range(5):\n",
    "        print(\"{:2d}\".format(a[i][j]), end = \" \")\n",
    "    print()"
   ]
  }
 ],
 "metadata": {
  "kernelspec": {
   "display_name": "Python 3",
   "language": "python",
   "name": "python3"
  },
  "language_info": {
   "codemirror_mode": {
    "name": "ipython",
    "version": 3
   },
   "file_extension": ".py",
   "mimetype": "text/x-python",
   "name": "python",
   "nbconvert_exporter": "python",
   "pygments_lexer": "ipython3",
   "version": "3.7.6"
  }
 },
 "nbformat": 4,
 "nbformat_minor": 4
}
