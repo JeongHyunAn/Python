{
 "cells": [
  {
   "cell_type": "markdown",
   "metadata": {},
   "source": [
    "튜플 만들기  \n",
    "튜플은 리스트와 유사하지만 리스트는 []로 둘러싸고 튜플은 ()로 둘러싸며  \n",
    "리스트는 데이터의 수정, 삭제가 가능하지만, 튜플은 불가"
   ]
  },
  {
   "cell_type": "code",
   "execution_count": 7,
   "metadata": {},
   "outputs": [
    {
     "name": "stdout",
     "output_type": "stream",
     "text": [
      "()\n",
      "<class 'tuple'>\n",
      "()\n",
      "<class 'tuple'>\n"
     ]
    }
   ],
   "source": [
    "# 빈 튜플 만들기\n",
    "a = ()\n",
    "print(a)\n",
    "print(type(a))\n",
    "\n",
    "# 생성자를 이용해 빈 튜플 만들기\n",
    "b = tuple ()\n",
    "print(b)\n",
    "print(type(b))"
   ]
  },
  {
   "cell_type": "code",
   "execution_count": 25,
   "metadata": {},
   "outputs": [
    {
     "name": "stdout",
     "output_type": "stream",
     "text": [
      "(2,)\n",
      "<class 'tuple'>\n"
     ]
    }
   ],
   "source": [
    "# 굳이 1개의 데이터만 가지는 튜플을 만들어야 한다면\n",
    "c = (2,)\n",
    "print(c)\n",
    "print(type(c))"
   ]
  },
  {
   "cell_type": "code",
   "execution_count": 34,
   "metadata": {},
   "outputs": [
    {
     "name": "stdout",
     "output_type": "stream",
     "text": [
      "('a', 'b', ('가', '나'))\n",
      "<class 'tuple'>\n",
      "b\n",
      "('가', '나')\n",
      "나\n",
      "<class 'str'>\n"
     ]
    }
   ],
   "source": [
    "# 튜플 안에 튜플\n",
    "d = ('a', 'b', ('가', '나'))\n",
    "print(d)\n",
    "print(type(d))\n",
    "print(d[1])\n",
    "print(d[2])\n",
    "print(d[2][1])\n",
    "print(type(d[2][1]))"
   ]
  },
  {
   "cell_type": "code",
   "execution_count": 35,
   "metadata": {},
   "outputs": [
    {
     "name": "stdout",
     "output_type": "stream",
     "text": [
      "(1, 2, 3, 4, 5)\n",
      "<class 'tuple'>\n"
     ]
    }
   ],
   "source": [
    "# 튜플은 ()를 생략해도 변수에 데이터를 ','로 구분해서 복수개 생성하면 튜플로 선언된다\n",
    "e = 1,2,3,4,5\n",
    "print(e)\n",
    "print(type(e))"
   ]
  },
  {
   "cell_type": "code",
   "execution_count": 36,
   "metadata": {},
   "outputs": [
    {
     "name": "stdout",
     "output_type": "stream",
     "text": [
      "10\n",
      "<class 'int'>\n",
      "(10,)\n",
      "<class 'tuple'>\n",
      "(10, 20, 30)\n",
      "(40, 50)\n",
      "(10, 20, 30, 40, 50)\n",
      "(1, 2, 3, 4, 5, 6, 7)\n",
      "(4, 5, 6, 7, 4, 5, 6, 7, 4, 5, 6, 7)\n"
     ]
    }
   ],
   "source": [
    "# 튜플은 인덱싱과 슬라이싱이 가능\n",
    "f = 10, 20, 30, 40, 50\n",
    "print(f[0])\n",
    "print(type(f[0]))\n",
    "print(f[0:1])\n",
    "print(type(f[0:1]))\n",
    "print(f[:3])\n",
    "print(f[3:])\n",
    "print(f[:])\n",
    "# 튜플은 리스트와 같이 '+', '*' 연산이 가능\n",
    "g = 1, 2, 3\n",
    "h = 4, 5, 6, 7\n",
    "print(g + h)\n",
    "print(h * 3)"
   ]
  },
  {
   "cell_type": "code",
   "execution_count": 43,
   "metadata": {},
   "outputs": [
    {
     "name": "stdout",
     "output_type": "stream",
     "text": [
      "(1, 2, 3, 4, 5, 6)\n"
     ]
    },
    {
     "ename": "NameError",
     "evalue": "name 'i' is not defined",
     "output_type": "error",
     "traceback": [
      "\u001b[1;31m---------------------------------------------------------------------------\u001b[0m",
      "\u001b[1;31mNameError\u001b[0m                                 Traceback (most recent call last)",
      "\u001b[1;32m<ipython-input-43-c430f27e0848>\u001b[0m in \u001b[0;36m<module>\u001b[1;34m\u001b[0m\n\u001b[0;32m      5\u001b[0m \u001b[0mprint\u001b[0m\u001b[1;33m(\u001b[0m\u001b[0mi\u001b[0m\u001b[1;33m)\u001b[0m\u001b[1;33m\u001b[0m\u001b[1;33m\u001b[0m\u001b[0m\n\u001b[0;32m      6\u001b[0m \u001b[1;32mdel\u001b[0m \u001b[0mi\u001b[0m\u001b[1;33m\u001b[0m\u001b[1;33m\u001b[0m\u001b[0m\n\u001b[1;32m----> 7\u001b[1;33m \u001b[0mprint\u001b[0m\u001b[1;33m(\u001b[0m\u001b[0mi\u001b[0m\u001b[1;33m)\u001b[0m\u001b[1;33m\u001b[0m\u001b[1;33m\u001b[0m\u001b[0m\n\u001b[0m",
      "\u001b[1;31mNameError\u001b[0m: name 'i' is not defined"
     ]
    }
   ],
   "source": [
    "# 튜플은 리스트와 달리 튜플 자체를 삭제하는게 아니면 수정과 삭제를 할 수 없음\n",
    "i = 1,2,3,4,5,6\n",
    "# i[0] = 7 # 오류\n",
    "# del i[0] # 오류\n",
    "print(i)\n",
    "del i\n",
    "# print(i)"
   ]
  }
 ],
 "metadata": {
  "kernelspec": {
   "display_name": "Python 3",
   "language": "python",
   "name": "python3"
  },
  "language_info": {
   "codemirror_mode": {
    "name": "ipython",
    "version": 3
   },
   "file_extension": ".py",
   "mimetype": "text/x-python",
   "name": "python",
   "nbconvert_exporter": "python",
   "pygments_lexer": "ipython3",
   "version": "3.7.6"
  }
 },
 "nbformat": 4,
 "nbformat_minor": 4
}
