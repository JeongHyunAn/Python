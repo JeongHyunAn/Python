{
 "cells": [
  {
   "cell_type": "markdown",
   "metadata": {},
   "source": [
    "readline()메소드로 텍스트 파일에서 한 줄씩 읽기"
   ]
  },
  {
   "cell_type": "code",
   "execution_count": null,
   "metadata": {},
   "outputs": [],
   "source": [
    "filePath = \"../workspace/data/test_ver4.txt\"\n",
    "# \"w\", \"a\"모드는 파일이 없으면 파일을 만들고 출력하지만 \"r\"모드는 파일이 없으면 에러를 리턴\n",
    "file = open(filePath, \"r\")\n",
    "\n",
    "# 읽어들일 파일의 데이터가 몇 줄인지 모르기 때문에 무한루프를 돌린다.\n",
    "while True:\n",
    "    # wirte시 줄의 끝에 \"\\n\"을 넣었기 때문에 출력시 2줄띄기가 되기때문에 .strip()메소드를 사용\n",
    "    # 또는 .strip()메소드 대신 print()함수에서 , end=\"\"를 활용하여 개항문자 삭제\n",
    "    line = file.readline().strip()\n",
    "    \n",
    "    if not line: # 읽어들인 데이터가 없는지 물어본다\n",
    "        break\n",
    "    \n",
    "    else:\n",
    "        print(line)\n",
    "\n",
    "# 파일로 저장할 때는 반드시 파일을 닫아야 하지만 읽어올 때는 닫지 않아도 에러가 발생되지 않는다.\n",
    "file.close()\n",
    "print('\\n파일에서 읽기 완료.')"
   ]
  },
  {
   "cell_type": "code",
   "execution_count": null,
   "metadata": {},
   "outputs": [],
   "source": [
    "# 읽어온 파일을 list로 저장\n",
    "filePath = \"../workspace/data/test_ver4.txt\"\n",
    "file = open(filePath, \"r\")\n",
    "lines = [] # 빈 리스트를 만들어 준다.\n",
    "\n",
    "while True:\n",
    "    line = file.readline().strip()\n",
    "    \n",
    "    if not line:\n",
    "        break\n",
    "    \n",
    "    print(line)\n",
    "    lines.append(line.strip())\n",
    "    \n",
    "    # if len(line.strip()) != 0: # 또는 if line.strip() != \"\":\n",
    "\n",
    "print(lines)\n",
    "\n",
    "file.close()\n",
    "print('\\n파일에서 읽기 완료.')"
   ]
  },
  {
   "cell_type": "markdown",
   "metadata": {},
   "source": [
    "readlines() 메소드로 텍스트 파일의 데이터 전체를 읽어 리스트로 얻어온다."
   ]
  },
  {
   "cell_type": "code",
   "execution_count": null,
   "metadata": {},
   "outputs": [],
   "source": [
    "filePath = \"../workspace/data/test_ver4.txt\"\n",
    "file = open(filePath, \"r\")\n",
    "\n",
    "line = file.readlines()\n",
    "print(line)\n",
    "\n",
    "file.close()\n",
    "print('\\n파일에서 읽기 완료.')"
   ]
  },
  {
   "cell_type": "code",
   "execution_count": null,
   "metadata": {},
   "outputs": [],
   "source": [
    "# 이거 선생님꺼랑 비교해봐야함\n",
    "filePath = \"../workspace/data/test_ver4.txt\"\n",
    "file = open(filePath, \"r\")\n",
    "line = file.readlines().strip()\n",
    "lines = []\n",
    "\n",
    "for lines in line:\n",
    "    print(lines.strip())\n",
    "\n",
    "file.close()\n",
    "print('\\n파일에서 읽기 완료.')"
   ]
  }
 ],
 "metadata": {
  "kernelspec": {
   "display_name": "Python 3",
   "language": "python",
   "name": "python3"
  },
  "language_info": {
   "codemirror_mode": {
    "name": "ipython",
    "version": 3
   },
   "file_extension": ".py",
   "mimetype": "text/x-python",
   "name": "python",
   "nbconvert_exporter": "python",
   "pygments_lexer": "ipython3",
   "version": "3.7.6"
  }
 },
 "nbformat": 4,
 "nbformat_minor": 4
}
