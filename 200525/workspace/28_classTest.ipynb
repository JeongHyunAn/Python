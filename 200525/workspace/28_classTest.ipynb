{
 "cells": [
  {
   "cell_type": "code",
   "execution_count": 23,
   "metadata": {},
   "outputs": [],
   "source": [
    "class Score:\n",
    "    # 생성자에서 Score 클래스의 객체가 생성될 때 이름과 3과목의 점수를 넘겨받아 멤버변수를 초기화 시킨다.\n",
    "    def __init__(self, name, scr1, scr2, scr3):\n",
    "        # 멤버변수로 변경\n",
    "        self.name = name; self.scr1 = scr1; self.scr2 = scr2; self.scr3 = scr3\n",
    "        #총점과 평균을 계산\n",
    "        self.total = scr1 + scr2 + scr3\n",
    "        self.average= self.total / 3\n",
    "        \n",
    "    \n",
    "    def __str__(self):\n",
    "        return \"이름 : {}, 총점 : {}, 평균 : {}\".format(self.name, self.total, self.average)"
   ]
  },
  {
   "cell_type": "code",
   "execution_count": 24,
   "metadata": {},
   "outputs": [
    {
     "name": "stdout",
     "output_type": "stream",
     "text": [
      "이름 : 안정현, 총점 : 270, 평균 : 90.0\n"
     ]
    }
   ],
   "source": [
    "score = Score(\"안정현\", 100, 90, 80)\n",
    "print(score)"
   ]
  }
 ],
 "metadata": {
  "kernelspec": {
   "display_name": "Python 3",
   "language": "python",
   "name": "python3"
  },
  "language_info": {
   "codemirror_mode": {
    "name": "ipython",
    "version": 3
   },
   "file_extension": ".py",
   "mimetype": "text/x-python",
   "name": "python",
   "nbconvert_exporter": "python",
   "pygments_lexer": "ipython3",
   "version": "3.7.6"
  }
 },
 "nbformat": 4,
 "nbformat_minor": 4
}
