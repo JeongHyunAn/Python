{
 "cells": [
  {
   "cell_type": "markdown",
   "metadata": {},
   "source": [
    "if문 형태  \n",
    "if 조건식:  \n",
    "조건이 True일때 시행할 명령어  \n",
    "else  \n",
    "조건이 False일때 시행할 명령어  "
   ]
  },
  {
   "cell_type": "markdown",
   "metadata": {},
   "source": [
    "관계(비교) 연산자 → 연산 결과는 무조건 True or False  \n",
    "<, >, <=, >=, ==, !=  \n",
    "논리 연산자 → 연산 결과는 무조건 True or False  \n",
    "and : 논리곱, 두 조건이 모두 참일 경우 True  \n",
    "or : 논리합, 두 조건 중 하나라도 참일 경우 True  \n",
    "not : 논리 부정  "
   ]
  },
  {
   "cell_type": "code",
   "execution_count": null,
   "metadata": {},
   "outputs": [],
   "source": [
    "age = int(input('나이를 입력하세요 :'))\n",
    "# print(type(age))\n",
    "if age >= 19:\n",
    "    # print('성인입니다. 어서오세요')\n",
    "    # 만약에 조건이 참일 경우 아무런 문장도 실행하지 않고싶어서 입력을 안하면 에러가 리턴됨\n",
    "    # 에러를 발생시키고 싶지 않으면 pass 명령을 실행\n",
    "    pass\n",
    "else:\n",
    "    print('미성년입니다.')"
   ]
  },
  {
   "cell_type": "code",
   "execution_count": 9,
   "metadata": {},
   "outputs": [
    {
     "name": "stdout",
     "output_type": "stream",
     "text": [
      "주민등록번호를 입력하세요(-제외) :111111111111111111\n",
      "남성이시군요.\n"
     ]
    }
   ],
   "source": [
    "bio = input('주민등록번호를 입력하세요(-제외) :')\n",
    "if bio[6] == '1' or bio[6] == '3':\n",
    "    print('남성이시군요.')\n",
    "elif bio[6] == '2' or bio[6] == '4':\n",
    "    print('여성이시군요.')\n",
    "elif bio[6] == '5':\n",
    "    print('외국인 남성이시군요.')\n",
    "elif bio[6] == '6':\n",
    "    print('외국인 여성이시군요.')\n",
    "else:\n",
    "    print('잘못입력하셨습니다.')"
   ]
  },
  {
   "cell_type": "code",
   "execution_count": 16,
   "metadata": {},
   "outputs": [
    {
     "name": "stdout",
     "output_type": "stream",
     "text": [
      "주민등록번호를 입력하세요(-제외) :11111111111111111\n",
      "남성이시군요.\n"
     ]
    }
   ],
   "source": [
    "# in 조건으로 변경\n",
    "bio = input('주민등록번호를 입력하세요(-제외) :')\n",
    "if bio[6] in ('1', '3', '5'):\n",
    "    print('남성이시군요.')\n",
    "elif bio[6] in ('2', '4', '6'):\n",
    "    print('여성이시군요.')\n",
    "else:\n",
    "    print('잘못입력하셨습니다.')"
   ]
  },
  {
   "cell_type": "code",
   "execution_count": 1,
   "metadata": {},
   "outputs": [
    {
     "name": "stdout",
     "output_type": "stream",
     "text": [
      "주민등록번호를 입력하세요(-제외) :1111111111111111\n",
      "남성이시군요.\n"
     ]
    }
   ],
   "source": [
    "# 조건식 변경\n",
    "bio = input('주민등록번호를 입력하세요(-제외) :')\n",
    "if int(bio[6]) % 2 == 1:\n",
    "    print('남성이시군요.')\n",
    "elif int(bio[6]) % 2 == 0:\n",
    "    print('여성이시군요.')\n",
    "else:\n",
    "    print('잘못입력하셨습니다.')"
   ]
  },
  {
   "cell_type": "code",
   "execution_count": 25,
   "metadata": {},
   "outputs": [
    {
     "name": "stdout",
     "output_type": "stream",
     "text": [
      "주민등록번호를 입력하세요(-제외) :990000000000000\n",
      "당신은 22살이군요.\n"
     ]
    }
   ],
   "source": [
    "# 나이맞추기\n",
    "num = input('주민등록번호를 입력하세요(-제외) :')\n",
    "if int(num[0:2]) > 20:\n",
    "    age = 121 - int(num[0:2])\n",
    "else:\n",
    "    age = 21 - int(num[0:2])\n",
    "    \n",
    "print('당신은 %d살이군요.' % age)"
   ]
  },
  {
   "cell_type": "code",
   "execution_count": 31,
   "metadata": {},
   "outputs": [
    {
     "name": "stdout",
     "output_type": "stream",
     "text": [
      "주민등록번호를 입력하세요(-제외) :9012021025618\n",
      "당신은 31살이군요.\n"
     ]
    }
   ],
   "source": [
    "# if문의 조건 비교 결과 실행할 문장이 True, False 모두 1문장이면 삼항 연산자를 활용\n",
    "# 형식 → 조건이 참일 때 실행할 문장 if 조건식 else 조건이 거짓일 경우 실행할 문장\n",
    "# c, java의 삼항 연산자 : age = if int(num[0:2]) > 20 ? 121 - int(num[0:2]):21 - int(num[0:2])\n",
    "num = input('주민등록번호를 입력하세요(-제외) :')\n",
    "\n",
    "age = 121 - int(num[0:2]) if int(num[0:2]) > 20 else 21 - int(num[0:2])\n",
    "    \n",
    "print('당신은 %d살이군요.' % age)"
   ]
  },
  {
   "cell_type": "code",
   "execution_count": 32,
   "metadata": {},
   "outputs": [
    {
     "name": "stdout",
     "output_type": "stream",
     "text": [
      "주민등록번호를 입력하세요(-제외) :000000000000000000\n",
      "00\n",
      "당신은 121살이군요\n"
     ]
    }
   ],
   "source": [
    "# 나이맞추기(선생님 Ver)\n",
    "jumin = input('주민등록번호를 입력하세요(-제외) :')\n",
    "\n",
    "print(jumin[:2])\n",
    "year = int(jumin[:2])\n",
    "\n",
    "if jumin[6] <= '2':\n",
    "    year += 1900\n",
    "else:\n",
    "    year += 2000\n",
    "print('당신은 %d살이군요' % (2021 - year))\n",
    "\n",
    "# 삼항 연산자 / year += 1900 if jumin[6] <= '2' else 2000"
   ]
  },
  {
   "cell_type": "code",
   "execution_count": 11,
   "metadata": {},
   "outputs": [
    {
     "name": "stdout",
     "output_type": "stream",
     "text": [
      "3과목의 점수를 입력하세요 :100 50 10\n",
      "총점 : 160, 평균 : 53, 학점 F\n"
     ]
    }
   ],
   "source": [
    "# 3과목 점수를 입력받아 평균을 계산한 후 A, B, C, D, F를 출력\n",
    "score1, score2, score3 = map(int, input('3과목의 점수를 입력하세요 :').split())\n",
    "total = score1 + score2 + score3\n",
    "ave = total / 3\n",
    "if ave >= 95:\n",
    "    grade = 'A'\n",
    "elif ave >= 90: # tip : python은 복수비교시 'elif 90 <= ave <95'와 같이 작성 가능\n",
    "    grade = 'B'\n",
    "elif ave >= 85:\n",
    "    grade = 'C'\n",
    "elif ave >= 80:\n",
    "    grade = 'D'\n",
    "else:\n",
    "    grade = 'F'\n",
    "\n",
    "print('총점 : %d, 평균 : %d, 학점 %s' % (total, ave, grade))"
   ]
  },
  {
   "cell_type": "code",
   "execution_count": null,
   "metadata": {},
   "outputs": [],
   "source": []
  }
 ],
 "metadata": {
  "kernelspec": {
   "display_name": "Python 3",
   "language": "python",
   "name": "python3"
  },
  "language_info": {
   "codemirror_mode": {
    "name": "ipython",
    "version": 3
   },
   "file_extension": ".py",
   "mimetype": "text/x-python",
   "name": "python",
   "nbconvert_exporter": "python",
   "pygments_lexer": "ipython3",
   "version": "3.7.6"
  }
 },
 "nbformat": 4,
 "nbformat_minor": 4
}
