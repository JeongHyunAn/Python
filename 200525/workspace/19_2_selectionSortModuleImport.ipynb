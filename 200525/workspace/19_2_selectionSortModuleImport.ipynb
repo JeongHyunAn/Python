{
 "cells": [
  {
   "cell_type": "code",
   "execution_count": 2,
   "metadata": {},
   "outputs": [
    {
     "name": "stdout",
     "output_type": "stream",
     "text": [
      "[12, 23, 45, 56, 78, 89]\n"
     ]
    }
   ],
   "source": [
    "# import 하는 모듈 이름이 긴 경우 as를 이용해서 별명을 지정할 수 있다.\n",
    "import sortModule as sm\n",
    "\n",
    "data = [12, 45, 78, 23, 56, 89]\n",
    "sm.selectionSortAsc(data)\n",
    "print(data)"
   ]
  }
 ],
 "metadata": {
  "kernelspec": {
   "display_name": "Python 3",
   "language": "python",
   "name": "python3"
  },
  "language_info": {
   "codemirror_mode": {
    "name": "ipython",
    "version": 3
   },
   "file_extension": ".py",
   "mimetype": "text/x-python",
   "name": "python",
   "nbconvert_exporter": "python",
   "pygments_lexer": "ipython3",
   "version": "3.7.6"
  }
 },
 "nbformat": 4,
 "nbformat_minor": 4
}
