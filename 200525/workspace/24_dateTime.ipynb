{
 "cells": [
  {
   "cell_type": "code",
   "execution_count": 17,
   "metadata": {},
   "outputs": [
    {
     "name": "stdout",
     "output_type": "stream",
     "text": [
      "2020-06-16 20:07:24.862229\n",
      "2020-06-16 20:07:24.862230\n"
     ]
    }
   ],
   "source": [
    "import datetime\n",
    "\n",
    "# now() 또는 today() 메소드로 컴퓨터 시스템의 날짜와 시간을 얻어오기\n",
    "now = datetime.datetime.now()\n",
    "print(now)\n",
    "now = datetime.datetime.today()\n",
    "print(now)"
   ]
  },
  {
   "cell_type": "code",
   "execution_count": 18,
   "metadata": {},
   "outputs": [
    {
     "name": "stdout",
     "output_type": "stream",
     "text": [
      "2020-06-16 20:07:26.653468\n"
     ]
    }
   ],
   "source": [
    "from datetime import datetime\n",
    "now = datetime.now()\n",
    "print(now)"
   ]
  },
  {
   "cell_type": "code",
   "execution_count": 19,
   "metadata": {},
   "outputs": [
    {
     "name": "stdout",
     "output_type": "stream",
     "text": [
      "2020-06-16 20:07:28.103564\n",
      "2020\n",
      "6\n",
      "16\n",
      "20\n",
      "7\n",
      "28\n",
      "103564\n",
      "103\n",
      "1\n"
     ]
    }
   ],
   "source": [
    "from datetime import datetime as dt\n",
    "now = dt.now()\n",
    "print(now)\n",
    "print(now.year)\n",
    "print(now.month)\n",
    "print(now.day)\n",
    "print(now.hour)\n",
    "print(now.minute)\n",
    "print(now.second)\n",
    "print(now.microsecond)\n",
    "print(now.microsecond // 1000) # 밀리초\n",
    "print(now.weekday()) # 요일출력 : 월 → 0, 화 → 1, ... , 토 → 6, 일 → 7"
   ]
  },
  {
   "cell_type": "markdown",
   "metadata": {},
   "source": [
    "strftime()메소드로 날짜 및 시간 데이터의 출력 서식을 지정할 수 있다.  \n",
    "날짜단위  \n",
    "%Y → 연도 4자리 i.e) 2019  \n",
    "%y → 연도 2자리 i.e) 19  \n",
    "%m → 월(숫자)  \n",
    "%B → 월(영어 전체)  \n",
    "%b 또는 %h → 월(영어 3글자)  \n",
    "%d → 일  \n",
    "%A → 요일(영어 전체)  \n",
    "%a → 요일(영어 3글자)  \n",
    "\n",
    "시간단위  \n",
    "%H → 시간(24시)  \n",
    "%I → 시간(12시)  \n",
    "%M → 분  \n",
    "%S → 초  \n",
    "%f → 마이크로초  \n",
    "%p → AM/PM"
   ]
  },
  {
   "cell_type": "code",
   "execution_count": 25,
   "metadata": {},
   "outputs": [
    {
     "name": "stdout",
     "output_type": "stream",
     "text": [
      "2020-06-16\n",
      "2020-06-16, Tue\n",
      "20:08:29\n",
      "08:08:29 PM\n"
     ]
    }
   ],
   "source": [
    "now = dt.now()\n",
    "print(now.strftime(\"%Y-%m-%d\"))\n",
    "print(now.strftime(\"%Y-%m-%d, %a\"))\n",
    "print(now.strftime(\"%H:%M:%S\"))\n",
    "print(now.strftime(\"%I:%M:%S %p\"))"
   ]
  }
 ],
 "metadata": {
  "kernelspec": {
   "display_name": "Python 3",
   "language": "python",
   "name": "python3"
  },
  "language_info": {
   "codemirror_mode": {
    "name": "ipython",
    "version": 3
   },
   "file_extension": ".py",
   "mimetype": "text/x-python",
   "name": "python",
   "nbconvert_exporter": "python",
   "pygments_lexer": "ipython3",
   "version": "3.7.6"
  }
 },
 "nbformat": 4,
 "nbformat_minor": 4
}
