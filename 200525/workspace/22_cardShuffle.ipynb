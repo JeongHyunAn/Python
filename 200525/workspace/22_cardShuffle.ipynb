{
 "cells": [
  {
   "cell_type": "code",
   "execution_count": 3,
   "metadata": {},
   "outputs": [],
   "source": [
    "from random import randrange"
   ]
  },
  {
   "cell_type": "code",
   "execution_count": 5,
   "metadata": {},
   "outputs": [],
   "source": [
    "# 카드 출력에 사용할 숫자와 무늬를 기억하는 리스트를 만든다.\n",
    "number = [\"A\", \"2\", \"3\", \"4\", \"5\", \"6\", \"7\", \"8\", \"9\", \"10\", \"J\", \"Q\", \"K\"]\n",
    "pattern = [\"♠\", \"♣\", \"◆\", \"♥\"]"
   ]
  },
  {
   "cell_type": "code",
   "execution_count": 10,
   "metadata": {},
   "outputs": [
    {
     "name": "stdout",
     "output_type": "stream",
     "text": [
      "[29, 7, 33, 43, 40, 48, 28, 0, 15, 37, 24, 42, 34, 5, 35, 16, 46, 22, 20, 39, 19, 17, 8, 38, 44, 36, 12, 41, 11, 14, 51, 23, 32, 21, 3, 25, 50, 30, 13, 4, 18, 9, 1, 6, 27, 10, 45, 49, 26, 2, 47, 31]\n"
     ]
    }
   ],
   "source": [
    "# 카드로 사용할 숫자(0 ~ 51)를 저장할 리스트를 만든다.\n",
    "cards = [i for i in range(52)]\n",
    "\n",
    "for i in range(0, 1000001, 1):\n",
    "    r = randrange(0, 52)\n",
    "    cards[0], cards[r] = cards[r], cards[0]\n",
    "\n",
    "print(cards)"
   ]
  },
  {
   "cell_type": "code",
   "execution_count": 7,
   "metadata": {
    "scrolled": false
   },
   "outputs": [
    {
     "name": "stdout",
     "output_type": "stream",
     "text": [
      " 42 17  3 23 44  1 30 12 28 10 46  0 33\n",
      "  5 43 38 24 21  7 35  6 40 50  2 22 15\n",
      " 14 13 11 48 41 16 31 20 19 37 32 51  8\n",
      " 49 25 18 27  4 36 39 45 34 26 29 47  9\n"
     ]
    }
   ],
   "source": [
    "# cards 리스트에 저장된 데이터를 2자리에 맞춰 한 줄에 13개씩 출력\n",
    "\n",
    "for i in range(len(cards)):\n",
    "    print(\"{0:3d}\".format(cards[i]), end = \"\")\n",
    "    if (i + 1) % 13 == 0:\n",
    "        print()"
   ]
  },
  {
   "cell_type": "code",
   "execution_count": 8,
   "metadata": {},
   "outputs": [
    {
     "name": "stdout",
     "output_type": "stream",
     "text": [
      "♥ ♣ ♠ ♣ ♥ ♠ ◆ ♠ ◆ ♠ ♥ ♠ ◆ \n",
      "♠ ♥ ◆ ♣ ♣ ♠ ◆ ♠ ♥ ♥ ♠ ♣ ♣ \n",
      "♣ ♣ ♠ ♥ ♥ ♣ ◆ ♣ ♣ ◆ ◆ ♥ ♠ \n",
      "♥ ♣ ♣ ◆ ♠ ◆ ♥ ♥ ◆ ◆ ◆ ♥ ♠ \n"
     ]
    }
   ],
   "source": [
    "# pattern 리스트에 저장된 데이터를 2자리에 맞춰 한 줄에 13개씩 출력\n",
    "\n",
    "for i in range(len(cards)):\n",
    "    print(\"{:s} \".format(pattern[(cards[i] // 13)]), end = \"\")\n",
    "    if (i + 1) % 13 == 0:\n",
    "        print()"
   ]
  },
  {
   "cell_type": "code",
   "execution_count": 16,
   "metadata": {},
   "outputs": [
    {
     "name": "stdout",
     "output_type": "stream",
     "text": [
      "◆4  ♠8  ◆8  ♥5  ♥2  ♥10 ◆3  ♠A  ♣3  ◆Q  ♣Q  ♥4  ◆9  \n",
      "♠6  ◆10 ♣4  ♥8  ♣10 ♣8  ♥A  ♣7  ♣5  ♠9  ◆K  ♥6  ◆J  \n",
      "♠K  ♥3  ♠Q  ♣2  ♥K  ♣J  ◆7  ♣9  ♠4  ♣K  ♥Q  ◆5  ♣A  \n",
      "♠5  ♣6  ♠10 ♠2  ♠7  ◆2  ♠J  ♥7  ♥J  ◆A  ♠3  ♥9  ◆6  \n"
     ]
    }
   ],
   "source": [
    "# 카드모양을 섞어 찍어내기\n",
    "\n",
    "for i in range(len(cards)):\n",
    "    print(\"{0:s}{1:2s} \".format(pattern[(cards[i] // 13)], number[(cards[i] % 13)]), end = \"\")\n",
    "    if (i + 1) % 13 == 0:\n",
    "        print()"
   ]
  }
 ],
 "metadata": {
  "kernelspec": {
   "display_name": "Python 3",
   "language": "python",
   "name": "python3"
  },
  "language_info": {
   "codemirror_mode": {
    "name": "ipython",
    "version": 3
   },
   "file_extension": ".py",
   "mimetype": "text/x-python",
   "name": "python",
   "nbconvert_exporter": "python",
   "pygments_lexer": "ipython3",
   "version": "3.7.6"
  }
 },
 "nbformat": 4,
 "nbformat_minor": 4
}
