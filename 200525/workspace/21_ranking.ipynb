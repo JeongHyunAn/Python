{
 "cells": [
  {
   "cell_type": "markdown",
   "metadata": {},
   "source": [
    "선택정렬의 반복 알고리즘을 이용해 내림차순(큰게 1등)석차를 계산하는 프로그램"
   ]
  },
  {
   "cell_type": "code",
   "execution_count": 53,
   "metadata": {},
   "outputs": [
    {
     "name": "stdout",
     "output_type": "stream",
     "text": [
      "100점은 1등 입니다.\n",
      " 70점은 5등 입니다.\n",
      " 80점은 4등 입니다.\n",
      " 95점은 3등 입니다.\n",
      "100점은 1등 입니다.\n",
      " 55점은 7등 입니다.\n",
      " 30점은 8등 입니다.\n",
      " 67점은 6등 입니다.\n",
      " 10점은 9등 입니다.\n"
     ]
    }
   ],
   "source": [
    "scores = [100, 70, 80, 95, 100, 55, 30, 67 ,10]\n",
    "rank = [1 for i in range(len(scores))]\n",
    "\n",
    "for i in range(0, len(scores)-1, 1):\n",
    "    for j in range(i+1, len(scores), 1):\n",
    "        if scores[i] < scores[j]:\n",
    "            rank[i] += 1\n",
    "        \n",
    "        elif scores[j] < scores[i]:\n",
    "            rank[j] += 1\n",
    "\n",
    "for i in range(len(scores)):\n",
    "    print(\"{0:3d}점은 {1}등 입니다.\".format(scores[i], rank[i]))"
   ]
  },
  {
   "cell_type": "code",
   "execution_count": 54,
   "metadata": {},
   "outputs": [
    {
     "name": "stdout",
     "output_type": "stream",
     "text": [
      "100점은 1등 입니다. ★★★★★★★★★★\n",
      " 70점은 5등 입니다. ★★★★★★★\n",
      " 80점은 4등 입니다. ★★★★★★★★\n",
      " 95점은 3등 입니다. ★★★★★★★★★☆\n",
      "100점은 1등 입니다. ★★★★★★★★★★\n",
      " 55점은 7등 입니다. ★★★★★☆\n",
      " 30점은 8등 입니다. ★★★\n",
      " 67점은 6등 입니다. ★★★★★★☆\n",
      " 10점은 9등 입니다. ★\n"
     ]
    }
   ],
   "source": [
    "# 별 찍기\n",
    "scores = [100, 70, 80, 95, 100, 55, 30, 67 ,10]\n",
    "rank = [1 for i in range(len(scores))]\n",
    "\n",
    "for i in range(0, len(scores)-1, 1):\n",
    "    for j in range(i+1, len(scores), 1):\n",
    "        if scores[i] < scores[j]:\n",
    "            rank[i] += 1\n",
    "        \n",
    "        elif scores[j] < scores[i]:\n",
    "            rank[j] += 1\n",
    "\n",
    "for i in range(len(scores)):\n",
    "    print(\"{0:3d}점은 {1}등 입니다.\".format(scores[i], rank[i]), \"★\" * (scores[i] // 10) + \"☆\" * (scores[i] % 10 // 5))"
   ]
  },
  {
   "cell_type": "code",
   "execution_count": 48,
   "metadata": {},
   "outputs": [
    {
     "name": "stdout",
     "output_type": "stream",
     "text": [
      "100점은 1등 입니다.★★★★★★★★★★\n",
      " 70점은 5등 입니다.★★★★★★★\n",
      " 80점은 4등 입니다.★★★★★★★★\n",
      " 95점은 3등 입니다.★★★★★★★★★☆\n",
      "100점은 1등 입니다.★★★★★★★★★★\n",
      " 55점은 7등 입니다.★★★★★☆\n",
      " 30점은 8등 입니다.★★★\n",
      " 67점은 6등 입니다.★★★★★★☆\n",
      " 10점은 9등 입니다.★\n"
     ]
    }
   ],
   "source": [
    "# 별 찍기 / 선생님 Ver\n",
    "scores = [100, 70, 80, 95, 100, 55, 30, 67 ,10]\n",
    "rank = [1 for i in range(len(scores))]\n",
    "\n",
    "for i in range(0, len(scores), 1):\n",
    "    for j in range(i+1, len(scores), 1):\n",
    "        if scores[i] < scores[j]:\n",
    "            rank[i] += 1\n",
    "        \n",
    "        elif scores[j] < scores[i]:\n",
    "            rank[j] += 1\n",
    "\n",
    "for i in range(len(scores)):\n",
    "    print(\"{0:3d}점은 {1}등 입니다.\".format(scores[i], rank[i]), end = \"\")\n",
    "    print(\"★\" * (scores[i] // 10), end = \"\")\n",
    "    if (scores[i] % 10 >= 5):\n",
    "        print(\"☆\", end=\"\")\n",
    "    print()"
   ]
  }
 ],
 "metadata": {
  "kernelspec": {
   "display_name": "Python 3",
   "language": "python",
   "name": "python3"
  },
  "language_info": {
   "codemirror_mode": {
    "name": "ipython",
    "version": 3
   },
   "file_extension": ".py",
   "mimetype": "text/x-python",
   "name": "python",
   "nbconvert_exporter": "python",
   "pygments_lexer": "ipython3",
   "version": "3.7.6"
  }
 },
 "nbformat": 4,
 "nbformat_minor": 4
}
