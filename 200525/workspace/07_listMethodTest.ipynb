{
 "cells": [
  {
   "cell_type": "markdown",
   "metadata": {},
   "source": [
    "리스트 메소드"
   ]
  },
  {
   "cell_type": "code",
   "execution_count": 6,
   "metadata": {},
   "outputs": [
    {
     "name": "stdout",
     "output_type": "stream",
     "text": [
      "[1, 2, 3]\n",
      "[1, 2, 3, 4]\n"
     ]
    }
   ],
   "source": [
    "# append() 메소드는 리스트의 맨 뒤에 인수로 지정된 데이터를 추가\n",
    "a = [1,2,3]\n",
    "print(a)\n",
    "a.append(4)\n",
    "print(a)"
   ]
  },
  {
   "cell_type": "code",
   "execution_count": 26,
   "metadata": {
    "scrolled": true
   },
   "outputs": [
    {
     "name": "stdout",
     "output_type": "stream",
     "text": [
      "[1, 2, 3]\n",
      "[1, 2, 3, 4]\n",
      "[1, 2, 3, 4, 5]\n"
     ]
    }
   ],
   "source": [
    "# insert() 메소드는 리스트의 index번째 위치에 인수로 지정된 데이터를 삽입\n",
    "b = [1,2,3]\n",
    "print(b)\n",
    "b.insert(3,4)\n",
    "print(b)\n",
    "# insert() 메소드와 len() 함수로 append()메소드 기능 구현\n",
    "b.insert(len(b), len(b)+1)\n",
    "print(b)"
   ]
  },
  {
   "cell_type": "code",
   "execution_count": 37,
   "metadata": {},
   "outputs": [
    {
     "name": "stdout",
     "output_type": "stream",
     "text": [
      "[2, 1, 4, 3, 6, 5, 7, 9, 8]\n",
      "[1, 2, 3, 4, 5, 6, 7, 8, 9]\n",
      "[9, 8, 7, 6, 5, 4, 3, 2, 1]\n",
      "['a', 'c', 'b', 'e', 'd']\n",
      "['a', 'b', 'c', 'd', 'e']\n",
      "['가', '다', '나', '라']\n",
      "['가', '나', '다', '라']\n"
     ]
    }
   ],
   "source": [
    "# sort() 메소드는 리스트에 저장된 데이터를 오름차순으로 정렬\n",
    "c = [2,1,4,3,6,5,7,9,8]\n",
    "print(c)\n",
    "c.sort()\n",
    "print(c)\n",
    "c.sort(reverse = True) # 내림차순으로 정렬을 희망시 sort()메소드에 reverse라는 옵션을 지정 i.e) reverse = True\n",
    "print(c)\n",
    "d = ['a','c','b','e','d']\n",
    "print(d)\n",
    "d.sort() # 문자열 같은경우 ascii 코드값으로 비교하여 진행\n",
    "print(d)\n",
    "e = ['가','다','나','라']\n",
    "print(e)\n",
    "e.sort()\n",
    "print(e)"
   ]
  },
  {
   "cell_type": "code",
   "execution_count": 41,
   "metadata": {},
   "outputs": [
    {
     "name": "stdout",
     "output_type": "stream",
     "text": [
      "[1, 2, 3, 4, 5, 6, 7, 8, 9]\n",
      "[9, 8, 7, 6, 5, 4, 3, 2, 1]\n"
     ]
    }
   ],
   "source": [
    "# reverse() 메소드는 리스트에 저장된 데이터를 뒤집음\n",
    "print(c)\n",
    "c.reverse()\n",
    "print(c)"
   ]
  },
  {
   "cell_type": "code",
   "execution_count": 44,
   "metadata": {},
   "outputs": [
    {
     "name": "stdout",
     "output_type": "stream",
     "text": [
      "[1, 2, 3, 4, 5, 6, 7]\n",
      "2\n"
     ]
    }
   ],
   "source": [
    "# index() 메소드는 인수로 지정된 데이터가 리스트에 저장된 경우 첫 번째 위치를 얻어옴\n",
    "g = [1,2,3,4,5,6,7]\n",
    "print(g)\n",
    "print(g.index(3)) # 리스트에 인수로 지정된 데이터가 없을 시 에러 리턴"
   ]
  },
  {
   "cell_type": "code",
   "execution_count": 49,
   "metadata": {},
   "outputs": [
    {
     "name": "stdout",
     "output_type": "stream",
     "text": [
      "[1, 2, 3, 4, 5, 6, 7]\n",
      "1\n",
      "0\n"
     ]
    }
   ],
   "source": [
    "# count() 메소드는 인수로 지정된 데이터가 리스트에 포함된 개수를 얻어옴, 리스트에 인수로 지정된 데이터가 없어도 에러 리턴 안하며 0으로 표시\n",
    "h = [1,2,3,4,5,6,7]\n",
    "print(h)\n",
    "print(h.count(3))\n",
    "print(h.count(9))"
   ]
  },
  {
   "cell_type": "code",
   "execution_count": 50,
   "metadata": {},
   "outputs": [
    {
     "name": "stdout",
     "output_type": "stream",
     "text": [
      "[1, 2, 2, 3, 3, 3]\n",
      "[1, 2, 2, 3, 3]\n"
     ]
    }
   ],
   "source": [
    "# del()이 아닌 remove()메소드는 인수로 지정된 데이터를 리스트에서 제거\n",
    "# 단, 데이터에서 최초 마주치는 데이터만 삭제\n",
    "i = [1,2,2,3,3,3]\n",
    "print(i)\n",
    "i.remove(3)\n",
    "print(i)"
   ]
  },
  {
   "cell_type": "code",
   "execution_count": 58,
   "metadata": {},
   "outputs": [
    {
     "name": "stdout",
     "output_type": "stream",
     "text": [
      "[1, 2, 3, 4, 5, 6, 7]\n",
      "[1, 2, 4, 5, 6, 7]\n",
      "4 [1, 2, 5, 6, 7]\n",
      "None [1, 5, 6, 7]\n"
     ]
    }
   ],
   "source": [
    "# pop()메소드는 리스트에 저장된 마지막 데이터를 제거\n",
    "# pop() 메소드의 인수로 index를 지정하면 지정된 index 번째 데이터를 제거\n",
    "j = [1,2,3,4,5,6,7]\n",
    "print(j)\n",
    "# pop() 메소드의 인수로 index를 지정하면 지정된 index 번째 데이터를 제거\n",
    "j.pop(2)\n",
    "print(j)\n",
    "\n",
    "# pop()과 remove()의 큰 차이는 remove()는 삭제하고, pop()은 빼와서 저장\n",
    "result = j.pop(2)\n",
    "print(result, j)\n",
    "result = j.remove(2)\n",
    "print(result, j)"
   ]
  },
  {
   "cell_type": "code",
   "execution_count": 64,
   "metadata": {},
   "outputs": [
    {
     "name": "stdout",
     "output_type": "stream",
     "text": [
      "[1, 2, 3]\n",
      "[4, 5, 6]\n",
      "[1, 2, 3, 4, 5, 6]\n",
      "[1, 2, 3, 4, 5, 6]\n",
      "[1, 2, 3, 4, 5, 6]\n"
     ]
    }
   ],
   "source": [
    "# extend() 메소드는 리스트를 확장 → 리스트의 '+' 연산이 실행된다.\n",
    "k = [1,2,3]\n",
    "l = [4,5,6]\n",
    "print(k)\n",
    "print(l)\n",
    "k.extend(l)\n",
    "print(k)\n",
    "k = [1,2,3]\n",
    "print(k+l)\n",
    "k = [1,2,3]\n",
    "k += l\n",
    "print(k)"
   ]
  },
  {
   "cell_type": "code",
   "execution_count": null,
   "metadata": {},
   "outputs": [],
   "source": [
    "# 연산자 우선순위 \n",
    "# ()괄호 → 단항 연산자(부정문, not 'A' 항이 1개) → 이항 연산자 → 삼항 연산자  → 대입 연산자\n",
    "# 이항 연산자의 우선순위\n",
    "# **(거듭제곰) → *, /, //, % → 관계 연산자(<, <=, >, >=, ==, !=) → 논리 연산자(and, or)"
   ]
  }
 ],
 "metadata": {
  "kernelspec": {
   "display_name": "Python 3",
   "language": "python",
   "name": "python3"
  },
  "language_info": {
   "codemirror_mode": {
    "name": "ipython",
    "version": 3
   },
   "file_extension": ".py",
   "mimetype": "text/x-python",
   "name": "python",
   "nbconvert_exporter": "python",
   "pygments_lexer": "ipython3",
   "version": "3.7.6"
  }
 },
 "nbformat": 4,
 "nbformat_minor": 4
}
