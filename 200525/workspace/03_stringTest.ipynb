{
 "cells": [
  {
   "cell_type": "code",
   "execution_count": 2,
   "metadata": {},
   "outputs": [
    {
     "name": "stdout",
     "output_type": "stream",
     "text": [
      "Hello\n",
      "World\n"
     ]
    }
   ],
   "source": [
    "# 큰따옴표나 작은따옴표로 묶어주면 문자열 데이터로 취급한다.\n",
    "memo = 'Hello\\nWorld'\n",
    "print(memo)"
   ]
  },
  {
   "cell_type": "code",
   "execution_count": 6,
   "metadata": {},
   "outputs": [
    {
     "name": "stdout",
     "output_type": "stream",
     "text": [
      "만나서 반갑습니다. 우리는 배.치.깁니다.\n",
      "우리 사이 죽여 줍니다.\n",
      "만나서 반갑습니다.\n",
      "다시 한번 말씀 드립니다.\n",
      "우리는 배.치.깁니다.\n",
      "지금부터 시작 합니다.\n",
      "모두 준! 비! 됐습니까?\n"
     ]
    }
   ],
   "source": [
    "# 큰따옴표 3개를 사용하면 여로줄 문자열을 만들 수 있다. / 작은따옴표도 가능하나, 주석과 헷갈리기에 구분하여 사용하는걸 권장\n",
    "memo = \"\"\"만나서 반갑습니다. 우리는 배.치.깁니다.\n",
    "우리 사이 죽여 줍니다.\n",
    "만나서 반갑습니다.\n",
    "다시 한번 말씀 드립니다.\n",
    "우리는 배.치.깁니다.\n",
    "지금부터 시작 합니다.\n",
    "모두 준! 비! 됐습니까?\"\"\"\n",
    "print(memo)"
   ]
  },
  {
   "cell_type": "code",
   "execution_count": 14,
   "metadata": {},
   "outputs": [
    {
     "name": "stdout",
     "output_type": "stream",
     "text": [
      "M\n",
      "k\n",
      ".\n",
      "Mama! Just killed a man. Put a gun against his head. Pulled my triger, now he's dead.\n"
     ]
    }
   ],
   "source": [
    "# 파이썬을 하면서 자주 등장하는 말이 인덱싱과 슬라이싱이 있다.\n",
    "# 인덱싱 → 1개 꺼내기, 슬라이싱 → 범위를 지정해서 여러개 꺼내기.\n",
    "string = \"Mama! Just killed a man. Put a gun against his head. Pulled my triger, now he's dead.\"\n",
    "print(string[0])\n",
    "print(string[11])\n",
    "print(string[-1]) # 역순으로 돌기 때문에 제일 마지막으로 넘어간다.\n",
    "print(string)"
   ]
  },
  {
   "cell_type": "code",
   "execution_count": 26,
   "metadata": {},
   "outputs": [
    {
     "name": "stdout",
     "output_type": "stream",
     "text": [
      "Mama! \n",
      "Just killed a man. Put a gun against his head. Pulled my triger, now he's dead.\n"
     ]
    },
    {
     "data": {
      "text/plain": [
       "\"i.e.) string = 'Guod morning\\nstring[1] = 'o' # 오류발생\\n\""
      ]
     },
     "execution_count": 26,
     "metadata": {},
     "output_type": "execute_result"
    }
   ],
   "source": [
    "# 슬라이싱은 문자열의 시작위치부터 마지막의 전위치까지의 문자열을 얻어온다.\n",
    "# 시작위치를 지정하지 않으면 처음을 말하고, 끝을 생략하면 마지막까지를 의미한다.\n",
    "string = \"Mama! Just killed a man. Put a gun against his head. Pulled my triger, now he's dead.\"\n",
    "print(string[0:6])\n",
    "print(string[6:])\n",
    "# string의 경우 인덱싱이나 슬라이싱을 활용하여 안의 데이터를 수정할 수 없다.\n",
    "'''i.e.) string = 'Guod morning\n",
    "string[1] = 'o' # 오류발생\n",
    "'''"
   ]
  },
  {
   "cell_type": "code",
   "execution_count": null,
   "metadata": {},
   "outputs": [],
   "source": []
  }
 ],
 "metadata": {
  "kernelspec": {
   "display_name": "Python 3",
   "language": "python",
   "name": "python3"
  },
  "language_info": {
   "codemirror_mode": {
    "name": "ipython",
    "version": 3
   },
   "file_extension": ".py",
   "mimetype": "text/x-python",
   "name": "python",
   "nbconvert_exporter": "python",
   "pygments_lexer": "ipython3",
   "version": "3.7.6"
  }
 },
 "nbformat": 4,
 "nbformat_minor": 4
}
