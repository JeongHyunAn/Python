{
 "cells": [
  {
   "cell_type": "code",
   "execution_count": 12,
   "metadata": {},
   "outputs": [
    {
     "name": "stdout",
     "output_type": "stream",
     "text": [
      "만들 n * n 마방진의 규격을 입력하세요 : 17\n",
      "155 174 193 212 231 250 269 288   1  20  39  58  77  96 115 134 153 \n",
      "173 192 211 230 249 268 287  17  19  38  57  76  95 114 133 152 154 \n",
      "191 210 229 248 267 286  16  18  37  56  75  94 113 132 151 170 172 \n",
      "209 228 247 266 285  15  34  36  55  74  93 112 131 150 169 171 190 \n",
      "227 246 265 284  14  33  35  54  73  92 111 130 149 168 187 189 208 \n",
      "245 264 283  13  32  51  53  72  91 110 129 148 167 186 188 207 226 \n",
      "263 282  12  31  50  52  71  90 109 128 147 166 185 204 206 225 244 \n",
      "281  11  30  49  68  70  89 108 127 146 165 184 203 205 224 243 262 \n",
      " 10  29  48  67  69  88 107 126 145 164 183 202 221 223 242 261 280 \n",
      " 28  47  66  85  87 106 125 144 163 182 201 220 222 241 260 279   9 \n",
      " 46  65  84  86 105 124 143 162 181 200 219 238 240 259 278   8  27 \n",
      " 64  83 102 104 123 142 161 180 199 218 237 239 258 277   7  26  45 \n",
      " 82 101 103 122 141 160 179 198 217 236 255 257 276   6  25  44  63 \n",
      "100 119 121 140 159 178 197 216 235 254 256 275   5  24  43  62  81 \n",
      "118 120 139 158 177 196 215 234 253 272 274   4  23  42  61  80  99 \n",
      "136 138 157 176 195 214 233 252 271 273   3  22  41  60  79  98 117 \n",
      "137 156 175 194 213 232 251 270 289   2  21  40  59  78  97 116 135 \n"
     ]
    }
   ],
   "source": [
    "# 응용버전\n",
    "\n",
    "while True:\n",
    "    n = int(input(\"만들 n * n 마방진의 규격을 입력하세요 : \"))\n",
    "\n",
    "    if n > 2 and n % 2 == 1:\n",
    "        break\n",
    "\n",
    "    else:\n",
    "        print(\"n은 2이상인 홀수를 입력하세요: \")\n",
    "\n",
    "cube = [[0] * n for i in range(n)]\n",
    "num = 0 # 1에서 n * n 까지 1씩 증가하는 변수\n",
    "r = 0 # 행 시작 좌표\n",
    "c = n // 2 # 열 시작 좌표\n",
    "\n",
    "for num in range(1, n * n + 1):\n",
    "    cube[r][c] = num\n",
    "    \n",
    "    if num % n == 0:\n",
    "        r += 1\n",
    "    \n",
    "    else:\n",
    "        r -= 1\n",
    "        \n",
    "        if r == -1:\n",
    "            r = n - 1\n",
    "            \n",
    "        c += 1\n",
    "        \n",
    "        if c == n:\n",
    "            c = 0\n",
    "\n",
    "for i in range(n):\n",
    "    for j in range(n):\n",
    "        if num < 100:\n",
    "            print(\"{:2d}\".format(cube[i][j]), end = \" \")\n",
    "        elif num < 1000:\n",
    "            print(\"{:3d}\".format(cube[i][j]), end = \" \")\n",
    "        elif num < 10000:\n",
    "            print(\"{:4d}\".format(cube[i][j]), end = \" \")\n",
    "        elif num < 100000:\n",
    "            print(\"{:5d}\".format(cube[i][j]), end = \" \")\n",
    "        elif num < 1000000:\n",
    "            print(\"{:6d}\".format(cube[i][j]), end = \" \")\n",
    "        elif num < 10000000:\n",
    "            print(\"{:7d}\".format(cube[i][j]), end = \" \")\n",
    "        else:\n",
    "            print(\"{:8d}\".format(cube[i][j]), end = \" \")\n",
    "    print()"
   ]
  }
 ],
 "metadata": {
  "kernelspec": {
   "display_name": "Python 3",
   "language": "python",
   "name": "python3"
  },
  "language_info": {
   "codemirror_mode": {
    "name": "ipython",
    "version": 3
   },
   "file_extension": ".py",
   "mimetype": "text/x-python",
   "name": "python",
   "nbconvert_exporter": "python",
   "pygments_lexer": "ipython3",
   "version": "3.7.6"
  }
 },
 "nbformat": 4,
 "nbformat_minor": 4
}
