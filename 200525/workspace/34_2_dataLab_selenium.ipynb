{
 "cells": [
  {
   "cell_type": "code",
   "execution_count": 1,
   "metadata": {},
   "outputs": [],
   "source": [
    "from bs4 import BeautifulSoup\n",
    "# selenium을 사용하기 위해 selenium을 설치하고 import 한다.\n",
    "# !pip install selenium\n",
    "from selenium import webdriver"
   ]
  },
  {
   "cell_type": "code",
   "execution_count": 2,
   "metadata": {},
   "outputs": [],
   "source": [
    "url1 = \"https://datalab.naver.com/keyword/realtimeList.naver?age=\"; # 공통 부분1\n",
    "url2 = \"&entertainment=-2&groupingLevel=0&marketing=-2&news=-2&sports=-2&where=main\" # 공통 부분2\n",
    "ageList = {\"0\": \"all\", \"1\": \"10s\", \"2\": \"20s\", \"3\": \"30s\", \"4\": \"40s\", \"5\": \"50s\"}"
   ]
  },
  {
   "cell_type": "code",
   "execution_count": 6,
   "metadata": {},
   "outputs": [
    {
     "name": "stdout",
     "output_type": "stream",
     "text": [
      "연령대를 선택하세요(0 => 전체, 1 => 10대, 2 => 20대, 3 => 30대, 4 => 40대,     5 => 50대) : 1\n",
      " 1위 => 신동빈\n",
      " 2위 => 홍정환\n",
      " 3위 => 신동주\n",
      " 4위 => 아모레 서민정\n",
      " 5위 => 보광 홍정환\n",
      " 6위 => 문승영\n",
      " 7위 => 의정부시청\n",
      " 8위 => 이레\n",
      " 9위 => 랩지노믹스\n",
      "10위 => 채널a 온에어\n",
      "11위 => 알테오젠\n",
      "12위 => 만찢남녀\n",
      "13위 => 보광그룹\n",
      "14위 => 관찰카메라 24시간\n",
      "15위 => 엉덩이 걷기\n",
      "16위 => 신격호\n",
      "17위 => 채널A\n",
      "18위 => 보광\n",
      "19위 => 김민재\n",
      "20위 => 범죄도시2\n"
     ]
    }
   ],
   "source": [
    "age = input(\"연령대를 선택하세요(0 => 전체, 1 => 10대, 2 => 20대, 3 => 30대, 4 => 40대, \\\n",
    "    5 => 50대) : \")\n",
    "targetSite = '{}{}{}'.format(url1, ageList.get(age), url2)\n",
    "# print(targetSite)\n",
    "\n",
    "# selenium을 사용해 가상 크롬을 실행한다. => 최신 버전이 지원되지 않는다.\n",
    "driver = webdriver.Chrome(\"./chromedriver.exe\")\n",
    "# 가상 크롬에 크롤링할 타겟 사이트를 띄운다.\n",
    "driver.get(targetSite)\n",
    "\n",
    "html = driver.page_source\n",
    "soup = BeautifulSoup(html, \"html.parser\")\n",
    "# print(soup)\n",
    "\n",
    "# words = soup.findAll(\"span\", {\"class\": \"item_title\"})\n",
    "words = soup.select(\"span.item_title\")\n",
    "# print(words)\n",
    "for i in range(len(words)):\n",
    "    print(\"{0:2d}위 => {1}\".format(i + 1, words[i].text))"
   ]
  },
  {
   "cell_type": "code",
   "execution_count": null,
   "metadata": {},
   "outputs": [],
   "source": []
  },
  {
   "cell_type": "code",
   "execution_count": null,
   "metadata": {},
   "outputs": [],
   "source": []
  },
  {
   "cell_type": "code",
   "execution_count": null,
   "metadata": {},
   "outputs": [],
   "source": []
  },
  {
   "cell_type": "code",
   "execution_count": null,
   "metadata": {},
   "outputs": [],
   "source": []
  },
  {
   "cell_type": "code",
   "execution_count": null,
   "metadata": {},
   "outputs": [],
   "source": []
  }
 ],
 "metadata": {
  "kernelspec": {
   "display_name": "Python 3",
   "language": "python",
   "name": "python3"
  },
  "language_info": {
   "codemirror_mode": {
    "name": "ipython",
    "version": 3
   },
   "file_extension": ".py",
   "mimetype": "text/x-python",
   "name": "python",
   "nbconvert_exporter": "python",
   "pygments_lexer": "ipython3",
   "version": "3.6.8"
  }
 },
 "nbformat": 4,
 "nbformat_minor": 4
}
