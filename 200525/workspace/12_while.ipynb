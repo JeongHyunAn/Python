{
 "cells": [
  {
   "cell_type": "markdown",
   "metadata": {},
   "source": [
    "while 명령의 구조  \n",
    "while 조건식:  \n",
    "조건식이 참일 경우 실행할 문장   \n",
    "...  \n",
    "while문은 반복 횟수가 정해지지 않은 작업을 처리할 때 사용하기 좋음  \n",
    "/ 반복이 정해지면 for문을 사용  \n",
    "\n",
    "무한루프를 지정 시 빠져나오는 조건과 break를 활용하여 작성"
   ]
  },
  {
   "cell_type": "code",
   "execution_count": 13,
   "metadata": {},
   "outputs": [
    {
     "name": "stdout",
     "output_type": "stream",
     "text": [
      "1부터 합계를 구할 숫자를 입력하세요 : 100000000\n",
      "1 ~ 100000000까지 합 : 5000000050000000\n"
     ]
    }
   ],
   "source": [
    "i = 0 # 반복 횟수를 카운트하기 위한 변수\n",
    "num = 0 # 증가되는 수를 합하기 위한 변수\n",
    "n = int(input('1부터 합계를 구할 숫자를 입력하세요 : '))\n",
    "\n",
    "while i < n:\n",
    "    i += 1\n",
    "    # print(f'{i}차수의 i값 : {i}')\n",
    "    num += i\n",
    "    # print(f'{i}차수의 num값 : {num}', end = \"\\n\\n\")\n",
    "\n",
    "print(f'1 ~ {n}까지 합 : {num}')"
   ]
  },
  {
   "cell_type": "code",
   "execution_count": 2,
   "metadata": {},
   "outputs": [
    {
     "name": "stdout",
     "output_type": "stream",
     "text": [
      "========================================\n",
      " 1.입력  2.보기  3.수정  4.삭제  5.종료  \n",
      "========================================\n",
      "원하시는 메뉴를 입력하세요 : 1\n",
      "얼마를 입금하시겠습니까?0\n",
      "입금후 잔액 : 0\n",
      "========================================\n",
      " 1.입력  2.보기  3.수정  4.삭제  5.종료  \n",
      "========================================\n",
      "원하시는 메뉴를 입력하세요 : 5\n",
      "프로그램을 종료합니다.\n"
     ]
    }
   ],
   "source": [
    "deposit = 0;\n",
    "while True:\n",
    "    \n",
    "    while True:\n",
    "        print('=' * 40)\n",
    "        print(' 1.입력  2.보기  3.수정  4.삭제  5.종료  ')\n",
    "        print('=' * 40)\n",
    "        menu = int(input('원하시는 메뉴를 입력하세요 : '))\n",
    "        \n",
    "        if 0 < menu < 6:\n",
    "            break\n",
    "            \n",
    "        else:\n",
    "            print('잘못입력하셨습니다.\\n')\n",
    "            \n",
    "    if menu == 1:\n",
    "        saving = int(input('얼마를 입금하시겠습니까?'))\n",
    "        deposit += saving\n",
    "        print('입금후 잔액 : {}'.format(deposit))\n",
    "        \n",
    "    elif menu == 2:\n",
    "        print('현재 잔액 : {}'.format(deposit))\n",
    "        \n",
    "    elif menu == 3:\n",
    "        while True:\n",
    "            withdrawal = int(input('얼마를 출금하시겠습니까?'))\n",
    "            \n",
    "            if withdrawal < deposit:\n",
    "                deposit -= withdrawal\n",
    "                print('출금후 잔액 : {}'.format(deposit))\n",
    "                break\n",
    "                \n",
    "            else:\n",
    "                print('잔액이 부족합니다.')\n",
    "                \n",
    "    elif menu == 4:\n",
    "        while True:\n",
    "            choise = input('잔액을 0으로 초기화 하시겠습니까?(Y/N)')\n",
    "            choise = choise.upper()\n",
    "            \n",
    "            if choise == 'Y':\n",
    "                deposit = 0\n",
    "                print('초기화 되었습니다.')\n",
    "                break\n",
    "                \n",
    "            elif choise == 'N':\n",
    "                print('초기화 작업을 종료합니다.')\n",
    "                break\n",
    "                \n",
    "            else:\n",
    "                print('다시 입력하세요.')\n",
    "                \n",
    "    elif menu == 5:\n",
    "        print('프로그램을 종료합니다.')\n",
    "        break\n",
    "    \n",
    "    else:\n",
    "        print('잘못입력하셨습니다.')"
   ]
  },
  {
   "cell_type": "markdown",
   "metadata": {},
   "source": [
    "유클리드 호제법을 사용하는 최대공약수와 최소공배수 계산하기"
   ]
  },
  {
   "cell_type": "code",
   "execution_count": 10,
   "metadata": {},
   "outputs": [
    {
     "name": "stdout",
     "output_type": "stream",
     "text": [
      "최소공배수와 최대공약수를 구할 2개 수를 입력하세요 : 78696 19332\n",
      "두 수의 최대공약수는 36입니다.\n",
      "두 수의 최소공배수는 42259752입니다.\n"
     ]
    }
   ],
   "source": [
    "mod = 1; big = 0; small = 0; swap = 0; value = 0; times = 0\n",
    "\n",
    "while mod != 0:\n",
    "    num1, num2 = map(int, input('최소공배수와 최대공약수를 구할 2개 수를 입력하세요 : ').split())\n",
    "    big = max(num1, num2)\n",
    "    small = min(num1, num2)\n",
    "    swap = small\n",
    "    mod = big % small\n",
    "    \n",
    "    if mod == 0:\n",
    "        value = 1\n",
    "        \n",
    "    else:\n",
    "        value = mod\n",
    "    \n",
    "    while mod != 0:\n",
    "        mod = swap % value\n",
    "        \n",
    "        if mod == 0:\n",
    "            break\n",
    "            \n",
    "        else:\n",
    "            value = mod\n",
    "\n",
    "times = int(big * small / value)\n",
    "\n",
    "print('두 수의 최대공약수는 {}입니다.'.format(value))\n",
    "print('두 수의 최소공배수는 {}입니다.'.format(times))"
   ]
  }
 ],
 "metadata": {
  "kernelspec": {
   "display_name": "Python 3",
   "language": "python",
   "name": "python3"
  },
  "language_info": {
   "codemirror_mode": {
    "name": "ipython",
    "version": 3
   },
   "file_extension": ".py",
   "mimetype": "text/x-python",
   "name": "python",
   "nbconvert_exporter": "python",
   "pygments_lexer": "ipython3",
   "version": "3.7.6"
  }
 },
 "nbformat": 4,
 "nbformat_minor": 4
}
