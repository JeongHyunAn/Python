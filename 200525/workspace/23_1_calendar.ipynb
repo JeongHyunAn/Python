{
 "cells": [
  {
   "cell_type": "code",
   "execution_count": 1,
   "metadata": {},
   "outputs": [],
   "source": [
    "from calendarModule import *"
   ]
  },
  {
   "cell_type": "code",
   "execution_count": 55,
   "metadata": {},
   "outputs": [
    {
     "name": "stdout",
     "output_type": "stream",
     "text": [
      "달력을 출력할 년, 월, 일을 입력하세요 : 2020 10\n",
      "============================\n",
      "         2020년 10\n",
      "============================\n",
      " 일  월  화  수  목  금  토 \n",
      "============================\n",
      "                  1   2   3 \n",
      "  4   5   6   7   8   9  10 \n",
      " 11  12  13  14  15  16  17 \n",
      " 18  19  20  21  22  23  24 \n",
      " 25  26  27  28  29  30  31 \n",
      "============================\n"
     ]
    }
   ],
   "source": [
    "while True:\n",
    "    year, month = map(int, input(\"달력을 출력할 년, 월, 일을 입력하세요 : \").split())\n",
    "    if 12 >= month >= 1:\n",
    "        break\n",
    "    else:\n",
    "        print(\"월은 1 ~ 12 사이 값을 입력하세요.\")\n",
    "\n",
    "print(\"=\" * 28)\n",
    "print(\"         {:4d}년 {:02d}\".format(year, month))\n",
    "print(\"=\" * 28)\n",
    "print(\" 일  월  화  수  목  금  토 \")\n",
    "print(\"=\" * 28)\n",
    "\n",
    "# 1일이 출력될 요일을 맞추기 위한 공백 출력\n",
    "for i in range(weekDay(year, month, 1)):\n",
    "    print(\"    \", end=\"\")\n",
    "\n",
    "# 1일 부터 달력의 마지막 날까지 (i)출력\n",
    "for i in range(1, lastDay(year, month) + 1):\n",
    "    print(\" {:2d} \".format(i), end=\"\")\n",
    "    if weekDay(year, month, i) == 6 and i != lastDay(year, month): # 마지막 날짜가 토요일이면 줄바꿈 안함\n",
    "        print()\n",
    "\n",
    "print(\"\\n\" + \"=\" * 28)"
   ]
  }
 ],
 "metadata": {
  "kernelspec": {
   "display_name": "Python 3",
   "language": "python",
   "name": "python3"
  },
  "language_info": {
   "codemirror_mode": {
    "name": "ipython",
    "version": 3
   },
   "file_extension": ".py",
   "mimetype": "text/x-python",
   "name": "python",
   "nbconvert_exporter": "python",
   "pygments_lexer": "ipython3",
   "version": "3.7.6"
  }
 },
 "nbformat": 4,
 "nbformat_minor": 4
}
