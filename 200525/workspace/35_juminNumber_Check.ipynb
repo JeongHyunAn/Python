{
 "cells": [
  {
   "cell_type": "markdown",
   "metadata": {},
   "source": [
    "주민등록번호 유효성 검사  \n",
    "주민등록번호의 각 자리 숫자와 가중치(234567892345)의 각 자리수를 곱한 합계를 계산한다.  \n",
    "위 결과를 11로 나눈 나머지를 11에서 뺀 숫자의 일의자리가 주민등록번호의 마지막 자리와 일치하면 정상"
   ]
  },
  {
   "cell_type": "code",
   "execution_count": 12,
   "metadata": {},
   "outputs": [
    {
     "name": "stdout",
     "output_type": "stream",
     "text": [
      " 0 :   18\n",
      " 1 :   18\n",
      " 2 :   22\n",
      " 3 :   32\n",
      " 4 :   32\n",
      " 5 :   46\n",
      " 6 :   54\n",
      " 7 :   54\n",
      " 8 :   58\n",
      " 9 :   73\n",
      "10 :   97\n",
      "11 :  102\n",
      "8\n"
     ]
    }
   ],
   "source": [
    "temp = [9, 0, 1, 2, 0, 2, 1, 0, 2, 5, 6, 1, 8]\n",
    "value = [2, 3, 4, 5, 6, 7, 8, 9, 2, 3, 4, 5]\n",
    "total = 0\n",
    "\n",
    "for i in range(len(value)):\n",
    "    total = total + (temp[i] * value[i])\n",
    "    print(\"{:2d} : {:4d}\".format(i, total))\n",
    "\n",
    "print(11 - (total % 11 % 10))"
   ]
  },
  {
   "cell_type": "code",
   "execution_count": 44,
   "metadata": {},
   "outputs": [
    {
     "name": "stdout",
     "output_type": "stream",
     "text": [
      "주민등록번호를 입력하세요: 123456-1234567\n",
      "결과값 : 3\n",
      "정상적인 주민등록번호가 아닙니다.\n"
     ]
    }
   ],
   "source": [
    "def Check(num):\n",
    "    return (11 - num % 11) % 10\n",
    "\n",
    "value1 = \"2345670892345\"\n",
    "value2 = \"234567892345\"\n",
    "total = 0\n",
    "\n",
    "num = input(\"주민등록번호를 입력하세요: \")\n",
    "\n",
    "if \"-\" in num:\n",
    "    for i in range(len(value1)):\n",
    "        if i == 6: \n",
    "            pass\n",
    "        else:\n",
    "            total = total + (int(num[i]) * int(value1[i]))\n",
    "\n",
    "    if Check(total) != int(num[13]):\n",
    "        print(\"결과값 :\", Check(total))\n",
    "        print(\"정상적인 주민등록번호가 아닙니다.\")\n",
    "\n",
    "    else:\n",
    "        print(\"결과값 :\", Check(total))\n",
    "        print(\"정상적인 주민등록번호 입니다.\")\n",
    "\n",
    "else:\n",
    "    for i in range(len(value2)):\n",
    "        total = total + (int(num[i]) * int(value2[i]))\n",
    "\n",
    "    if Check(total) != int(num[12]):\n",
    "        print(\"결과값 :\", Check(total))\n",
    "        print(\"정상적인 주민등록번호가 아닙니다.\")\n",
    "\n",
    "    else:\n",
    "        print(\"결과값 :\", Check(total))\n",
    "        print(\"정상적인 주민등록번호 입니다.\")"
   ]
  },
  {
   "cell_type": "code",
   "execution_count": 64,
   "metadata": {},
   "outputs": [
    {
     "name": "stdout",
     "output_type": "stream",
     "text": [
      "주민등록번호를 입력하세요: 1234561234567\n",
      "결과값 : 3\n",
      "정상적인 주민등록번호가 아닙니다.\n"
     ]
    }
   ],
   "source": [
    "# 주민번호의 8번째 까지는 인덱스 + 2이고, 9번째 부터는 - 6인것을 이용한 소스코드\n",
    "\n",
    "def Check(num):\n",
    "    return (11 - num % 11) % 10\n",
    "\n",
    "total = 0\n",
    "\n",
    "num = input(\"주민등록번호를 입력하세요: \")\n",
    "\n",
    "if \"-\" in num:\n",
    "    for i in range(len(num) - 1):\n",
    "        if i == 6:\n",
    "            pass\n",
    "        else:\n",
    "            if 6 < i < 8:\n",
    "                total = total + (int(num[i]) * (i + 1))\n",
    "            elif i < 8:\n",
    "                total = total + (int(num[i]) * (i + 2))\n",
    "            else:\n",
    "                total = total + (int(num[i]) * (i - 7))\n",
    "\n",
    "    if Check(total) != int(num[13]):\n",
    "        print(\"결과값 :\", Check(total))\n",
    "        print(\"정상적인 주민등록번호가 아닙니다.\")\n",
    "\n",
    "    else:\n",
    "        print(\"결과값 :\", Check(total))\n",
    "        print(\"정상적인 주민등록번호 입니다.\")\n",
    "\n",
    "else:\n",
    "    for i in range(len(num) - 1):\n",
    "        if i < 8:\n",
    "            total = total + (int(num[i]) * (i + 2))\n",
    "        else:\n",
    "            total = total + (int(num[i]) * (i - 6))\n",
    "\n",
    "    if Check(total) != int(num[12]):\n",
    "        print(\"결과값 :\", Check(total))\n",
    "        print(\"정상적인 주민등록번호가 아닙니다.\")\n",
    "\n",
    "    else:\n",
    "        print(\"결과값 :\", Check(total))\n",
    "        print(\"정상적인 주민등록번호 입니다.\")"
   ]
  },
  {
   "cell_type": "code",
   "execution_count": 66,
   "metadata": {},
   "outputs": [
    {
     "name": "stdout",
     "output_type": "stream",
     "text": [
      "주민등록번호를 입력하세요: 123456-1234567\n",
      "결과값 : 3\n",
      "정상적인 주민등록번호가 아닙니다.\n"
     ]
    }
   ],
   "source": [
    "# 인덱스를 8로 나눈 나머지에 + 2를 하면 가중치가 나옴을 이용한 소스코드\n",
    "\n",
    "def Check(num):\n",
    "    return (11 - num % 11) % 10\n",
    "\n",
    "total = 0\n",
    "\n",
    "num = input(\"주민등록번호를 입력하세요: \")\n",
    "\n",
    "if \"-\" in num:\n",
    "    for i in range(len(num) - 1):\n",
    "        if i == 6:\n",
    "            pass\n",
    "        else:\n",
    "            if 6 < i < 9:\n",
    "                total = total + (int(num[i]) * (i % 9 + 1))\n",
    "            elif 8 < i:\n",
    "                total = total + (int(num[i]) * (i % 9 + 2))\n",
    "            else:\n",
    "                total = total + (int(num[i]) * (i % 8 + 2))\n",
    "\n",
    "    if Check(total) != int(num[13]):\n",
    "        print(\"결과값 :\", Check(total))\n",
    "        print(\"정상적인 주민등록번호가 아닙니다.\")\n",
    "\n",
    "    else:\n",
    "        print(\"결과값 :\", Check(total))\n",
    "        print(\"정상적인 주민등록번호 입니다.\")\n",
    "\n",
    "else:\n",
    "    for i in range(len(num) - 1):\n",
    "        total = total + (int(num[i]) * (i % 8 + 2))\n",
    "\n",
    "    if Check(total) != int(num[12]):\n",
    "        print(\"결과값 :\", Check(total))\n",
    "        print(\"정상적인 주민등록번호가 아닙니다.\")\n",
    "\n",
    "    else:\n",
    "        print(\"결과값 :\", Check(total))\n",
    "        print(\"정상적인 주민등록번호 입니다.\")"
   ]
  }
 ],
 "metadata": {
  "kernelspec": {
   "display_name": "Python 3",
   "language": "python",
   "name": "python3"
  },
  "language_info": {
   "codemirror_mode": {
    "name": "ipython",
    "version": 3
   },
   "file_extension": ".py",
   "mimetype": "text/x-python",
   "name": "python",
   "nbconvert_exporter": "python",
   "pygments_lexer": "ipython3",
   "version": "3.7.6"
  }
 },
 "nbformat": 4,
 "nbformat_minor": 4
}
