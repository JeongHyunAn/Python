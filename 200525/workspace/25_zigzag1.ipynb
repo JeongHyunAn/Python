{
 "cells": [
  {
   "cell_type": "code",
   "execution_count": 6,
   "metadata": {},
   "outputs": [
    {
     "name": "stdout",
     "output_type": "stream",
     "text": [
      "[0, 0, 0, 0, 0]\n"
     ]
    }
   ],
   "source": [
    "# 2차원 리스트\n",
    "data = [0 for i in range(5)] # 1차원 리스트\n",
    "\n",
    "print(data)"
   ]
  },
  {
   "cell_type": "code",
   "execution_count": 16,
   "metadata": {},
   "outputs": [
    {
     "name": "stdout",
     "output_type": "stream",
     "text": [
      "[[0, 1, 2], [0, 1, 2], [0, 1, 2], [0, 1, 2], [0, 1, 2]]\n",
      "[[0, 0, 0, 0], [1, 1, 1, 1], [2, 2, 2, 2], [3, 3, 3, 3], [4, 4, 4, 4]]\n",
      "\n",
      "[0, 0, 0, 0]\n",
      "[1, 1, 1, 1]\n",
      "[2, 2, 2, 2]\n",
      "[3, 3, 3, 3]\n",
      "[4, 4, 4, 4]\n",
      "\n",
      "0 0 0 0 \n",
      "1 1 1 1 \n",
      "2 2 2 2 \n",
      "3 3 3 3 \n",
      "4 4 4 4 \n"
     ]
    }
   ],
   "source": [
    "data2 = [[i for i in range(3)] for i in range(5)]\n",
    "data3 = [[i] * 4 for i in range(5)]\n",
    "\n",
    "print(data2)\n",
    "print(data3)\n",
    "\n",
    "print()\n",
    "\n",
    "for i in range(5):\n",
    "    print(data3[i])\n",
    "\n",
    "print()\n",
    "\n",
    "for i in range(5):\n",
    "    for j in range(4):\n",
    "        print(data3[i][j], end = \" \")\n",
    "    print()"
   ]
  },
  {
   "cell_type": "code",
   "execution_count": 42,
   "metadata": {},
   "outputs": [
    {
     "name": "stdout",
     "output_type": "stream",
     "text": [
      " 1  2  3  4  5 \n",
      "10  9  8  7  6 \n",
      "11 12 13 14 15 \n",
      "20 19 18 17 16 \n"
     ]
    }
   ],
   "source": [
    "# data = [[i for i in range(3)] for i in range(5)]\n",
    "#          └────────┬────────┘  └────────┬───────┘\n",
    "#                  행                   열\n",
    "\n",
    "data4 = [[i] * 5 for i in range(4)]\n",
    "num = 1\n",
    "\n",
    "for i in range(4):\n",
    "\n",
    "    if i % 2 == 0:\n",
    "        for j in range(5):\n",
    "            data4[i][j] = num\n",
    "            num += 1\n",
    "\n",
    "    elif i % 2 == 1:\n",
    "        for j in range(4, -1, -1):\n",
    "            data4[i][j] = num\n",
    "            num += 1\n",
    "\n",
    "for i in range(4):\n",
    "    for j in range(5):\n",
    "        print(\"{:2d}\".format(data4[i][j]), end = \" \")\n",
    "    print()"
   ]
  },
  {
   "cell_type": "code",
   "execution_count": 102,
   "metadata": {},
   "outputs": [
    {
     "name": "stdout",
     "output_type": "stream",
     "text": [
      " 1  2  3  4  5 \n",
      "10  9  8  7  6 \n",
      "11 12 13 14 15 \n",
      "20 19 18 17 16 \n"
     ]
    }
   ],
   "source": [
    "# 선생님 버전\n",
    "data5 = [[i] * 5 for i in range(4)]\n",
    "count = 0 # 1에서 20까지 1씩 증가하는 변수\n",
    "start = 0 # 리스트의 i번째 행에 숫자가 채워지기 시작하는 열(j)\n",
    "end = 4 # 리스트의 i번째 행에 숫자가 채워지는 마지막 열(j)\n",
    "sw = 1 # start 부터 end 까지 증가치(1 → -1 → 1 → -1 ...)\n",
    "\n",
    "for i in range(4): # 행\n",
    "    for j in range(start, end + sw, sw):\n",
    "        count += 1\n",
    "        data5[i][j] = count\n",
    "# 짝수행은 0번째 열부터 4번째 열 방향으로 숫자를 채워야 하고 홀수행은 4번째 열부터 0번째 열 방향으로 숫자를 채워야 함\n",
    "# 한 행에 숫자를 다 채우고 난 후 start와 end에 저장된 값을 교환\n",
    "    start, end = end, start\n",
    "# 행(i)이 짝수일 경우 start부터 end + sw까지 1씩 증가해야 하고 행이 홀수일 경우 start부터 end까지 1씩 감소해야 하므로\n",
    "# 리스트의 한 행에 숫자를 채우고 난 후 증가치(sw)의 부호를 변경해야 함\n",
    "    sw *= -1\n",
    "\n",
    "for i in range(4):\n",
    "    for j in range(5):\n",
    "        print(\"{:2d}\".format(data5[i][j]), end = \" \")\n",
    "    print()"
   ]
  },
  {
   "cell_type": "code",
   "execution_count": 105,
   "metadata": {},
   "outputs": [
    {
     "name": "stdout",
     "output_type": "stream",
     "text": [
      "만들 n * n 달팽이 배열의 n을 입력하세요 : 8\n",
      " 1  2  3  4  5  6  7  8 \n",
      "28 29 30 31 32 33 34  9 \n",
      "27 48 49 50 51 52 35 10 \n",
      "26 47 60 61 62 53 36 11 \n",
      "25 46 59 64 63 54 37 12 \n",
      "24 45 58 57 56 55 38 13 \n",
      "23 44 43 42 41 40 39 14 \n",
      "22 21 20 19 18 17 16 15 \n"
     ]
    }
   ],
   "source": [
    "# 응용버전\n",
    "col = int(input(\"만들 n * n 달팽이 배열의 n을 입력하세요 : \"))\n",
    "row = col\n",
    "count = col\n",
    "\n",
    "data6 = [[0] * col for i in range(row)]\n",
    "num = 0 # 1에서 n * n 까지 1씩 증가하는 변수\n",
    "r = 0 # 리스트의 i번째 행에 숫자가 채워지기 시작하는 열(j)\n",
    "c = -1 # 리스트의 i번째 행에 숫자가 채워지는 마지막 열(j)\n",
    "sw = 1 # start 부터 end 까지 증가치(1 → -1 → 1 → -1 ...)\n",
    "\n",
    "while True:\n",
    "\n",
    "    for route in range(count): # 행\n",
    "        num += 1\n",
    "        c += sw\n",
    "        data6[r][c] = num\n",
    "\n",
    "    count -= 1\n",
    "\n",
    "    if count > 0:\n",
    "        for route in range(count):\n",
    "            num += 1\n",
    "            r += sw\n",
    "            data6[r][c] = num\n",
    "\n",
    "    sw *= -1\n",
    "\n",
    "    if count <= 0:\n",
    "        break\n",
    "\n",
    "for i in range(row):\n",
    "    for j in range(col):\n",
    "        print(\"{:2d}\".format(data6[i][j]), end = \" \")\n",
    "    print()"
   ]
  },
  {
   "cell_type": "code",
   "execution_count": 112,
   "metadata": {},
   "outputs": [
    {
     "name": "stdout",
     "output_type": "stream",
     "text": [
      "만들 달팽이 배열의 행, 열을 입력하세요 : 3 4\n",
      "0 0\n",
      "0 1\n",
      "0 2\n",
      "0 3\n",
      "1 3\n",
      "2 3\n",
      "3 3\n"
     ]
    },
    {
     "ename": "IndexError",
     "evalue": "list index out of range",
     "output_type": "error",
     "traceback": [
      "\u001b[1;31m---------------------------------------------------------------------------\u001b[0m",
      "\u001b[1;31mIndexError\u001b[0m                                Traceback (most recent call last)",
      "\u001b[1;32m<ipython-input-112-ffe52df47b41>\u001b[0m in \u001b[0;36m<module>\u001b[1;34m\u001b[0m\n\u001b[0;32m     26\u001b[0m             \u001b[0mr\u001b[0m \u001b[1;33m+=\u001b[0m \u001b[0msw\u001b[0m\u001b[1;33m\u001b[0m\u001b[1;33m\u001b[0m\u001b[0m\n\u001b[0;32m     27\u001b[0m             \u001b[0mprint\u001b[0m\u001b[1;33m(\u001b[0m\u001b[0mr\u001b[0m\u001b[1;33m,\u001b[0m \u001b[0mc\u001b[0m\u001b[1;33m)\u001b[0m\u001b[1;33m\u001b[0m\u001b[1;33m\u001b[0m\u001b[0m\n\u001b[1;32m---> 28\u001b[1;33m             \u001b[0mdata7\u001b[0m\u001b[1;33m[\u001b[0m\u001b[0mr\u001b[0m\u001b[1;33m]\u001b[0m\u001b[1;33m[\u001b[0m\u001b[0mc\u001b[0m\u001b[1;33m]\u001b[0m \u001b[1;33m=\u001b[0m \u001b[0mnum\u001b[0m\u001b[1;33m\u001b[0m\u001b[1;33m\u001b[0m\u001b[0m\n\u001b[0m\u001b[0;32m     29\u001b[0m \u001b[1;33m\u001b[0m\u001b[0m\n\u001b[0;32m     30\u001b[0m     \u001b[0msw\u001b[0m \u001b[1;33m*=\u001b[0m \u001b[1;33m-\u001b[0m\u001b[1;36m1\u001b[0m\u001b[1;33m\u001b[0m\u001b[1;33m\u001b[0m\u001b[0m\n",
      "\u001b[1;31mIndexError\u001b[0m: list index out of range"
     ]
    }
   ],
   "source": [
    "# 응용버전2 / 미완성\n",
    "row, col = map(int, input(\"만들 달팽이 배열의 행, 열을 입력하세요 : \").split())\n",
    "count1 = col\n",
    "count2 = row\n",
    "\n",
    "data7 = [[0] * col for i in range(row)]\n",
    "num = 0 # 1에서 n * n 까지 1씩 증가하는 변수\n",
    "r = 0 # 리스트의 i번째 행에 숫자가 채워지기 시작하는 열(j)\n",
    "c = -1 # 리스트의 i번째 행에 숫자가 채워지는 마지막 열(j)\n",
    "sw = 1 # start 부터 end 까지 증가치(1 → -1 → 1 → -1 ...)\n",
    "\n",
    "while True:\n",
    "\n",
    "    if count2 > 0:\n",
    "        for route in range(count1): # 행\n",
    "            num += 1\n",
    "            c += sw\n",
    "            print(r, c)\n",
    "            data7[r][c] = num\n",
    "\n",
    "    count1 -= 1\n",
    "\n",
    "    if count1 > 0:\n",
    "        for route in range(count2):\n",
    "            num += 1\n",
    "            r += sw\n",
    "            print(r, c)\n",
    "            data7[r][c] = num\n",
    "\n",
    "    sw *= -1\n",
    "\n",
    "    if count1 <= 0 and count2 <= 0:\n",
    "        break\n",
    "\n",
    "for i in range(row):\n",
    "    for j in range(col):\n",
    "        print(\"{:2d}\".format(data7[i][j]), end = \" \")\n",
    "    print()"
   ]
  },
  {
   "cell_type": "code",
   "execution_count": 106,
   "metadata": {},
   "outputs": [
    {
     "name": "stdout",
     "output_type": "stream",
     "text": [
      " 1   2   3   4   5  \n",
      "16  17  18  19   6  \n",
      "15  24  25  20   7  \n",
      "14  23  22  21   8  \n",
      "13  12  11  10   9  \n"
     ]
    }
   ],
   "source": [
    "# 달팽이 배열 5 by 5 / 선생님 버전\n",
    "data = [[0] * 5 for i in range(5)]\n",
    "n = 0 # 1에서 25까지 1씩 증가할 변수\n",
    "s = 1 # 행(i)과 열(j)의 증가치로 사용할 변수(1 → -1 → 1 → -1 → ...)\n",
    "i = 0 # 행\n",
    "j = -1 # 열\n",
    "k = 5 # 행과 열에 숫자를 채우는 반봇 횟수\n",
    "\n",
    "while True:\n",
    "    # 행 방향 채우기\n",
    "    for p in range(k):\n",
    "        n += 1\n",
    "        j += s\n",
    "        data[i][j] = n\n",
    "\n",
    "    k -= 1\n",
    "\n",
    "    if k < 0:\n",
    "        break\n",
    "\n",
    "    # 열 방향 채우기\n",
    "    for p in range(k):\n",
    "        n += 1\n",
    "        i += s\n",
    "        data[i][j] = n\n",
    "\n",
    "    s *= -1\n",
    "\n",
    "for i in range(5):\n",
    "    for j in range(5):\n",
    "        print(\"{:2d} \".format(data[i][j]), end = \" \")\n",
    "    print()"
   ]
  }
 ],
 "metadata": {
  "kernelspec": {
   "display_name": "Python 3",
   "language": "python",
   "name": "python3"
  },
  "language_info": {
   "codemirror_mode": {
    "name": "ipython",
    "version": 3
   },
   "file_extension": ".py",
   "mimetype": "text/x-python",
   "name": "python",
   "nbconvert_exporter": "python",
   "pygments_lexer": "ipython3",
   "version": "3.7.6"
  }
 },
 "nbformat": 4,
 "nbformat_minor": 4
}
