{
 "cells": [
  {
   "cell_type": "code",
   "execution_count": 2,
   "metadata": {},
   "outputs": [
    {
     "name": "stdout",
     "output_type": "stream",
     "text": [
      "피보나치 수열을 출력할 숫자를 입력하세요 : 20\n",
      "[1, 1, 2, 3, 5, 8, 13]\n",
      "피보나치 수열의 합계 : 33\n"
     ]
    }
   ],
   "source": [
    "# n번째 까지 피보나치 수열 출력\n",
    "# 1, 1, 2, 3, 5, 8, 13\n",
    "num = int(input('피보나치 수열을 출력할 숫자를 입력하세요 : '))\n",
    "fibonacci = [1, 1]\n",
    "index = 2\n",
    "total = 2\n",
    "\n",
    "for i in range(2, num + 1):\n",
    "    if fibonacci[index-1] + fibonacci[index-2] > num:\n",
    "        break\n",
    "        \n",
    "    elif i == fibonacci[index-1] + fibonacci[index-2]:\n",
    "        fibonacci.append(i)\n",
    "        total += i\n",
    "        index += 1\n",
    "\n",
    "print(fibonacci)\n",
    "print('피보나치 수열의 합계 : {}'.format(total))"
   ]
  },
  {
   "cell_type": "code",
   "execution_count": 7,
   "metadata": {},
   "outputs": [
    {
     "name": "stdout",
     "output_type": "stream",
     "text": [
      "피보나치 수열의 합계를 계산할 항을 입력하세요 : 3\n",
      "피보나치 수열3번째 항 까지의 합계는 4입니다.\n"
     ]
    }
   ],
   "source": [
    "a = 1 # 피보나치 수열의 첫 번째 항\n",
    "b = 1 # 피보나치 수열의 두 번째 항\n",
    "# 첫 번째 항과 두 번째 항의 합계를 미리 계산해둔 n번째 항 까지의 합계를 계산할 변수\n",
    "total = 2\n",
    "\n",
    "n = int(input('피보나치 수열의 합계를 계산할 항을 입력하세요 : '))\n",
    "# 첫 번째 항과 두 번째 항의 합계는 이미 계산이 되어있다는 가정하에 시작하므로 세 번째 항부터 n번째 항 까지 반복하며 계산\n",
    "# 항 부터 n번째 항 까지 반복하며 계산\n",
    "for i in range(3, n + 1):\n",
    "    c = a + b\n",
    "    total += c\n",
    "\n",
    "    # 다음 항(n + 1항)의 값을 계산하기 위해 n - 2번째 값을 기억하는 변수에 n - 1번째 값을 기억하는 변수의 값을 넣어주고\n",
    "    # n - 1번째 값을 기억하는 변수에 n 번째 값을 기억하는 변수의 값을 넣어준다.\n",
    "    a = b\n",
    "    b = c\n",
    "    \n",
    "print('피보나치 수열{}번째 항 까지의 합계는 {}입니다.'.format(n, total))"
   ]
  }
 ],
 "metadata": {
  "kernelspec": {
   "display_name": "Python 3",
   "language": "python",
   "name": "python3"
  },
  "language_info": {
   "codemirror_mode": {
    "name": "ipython",
    "version": 3
   },
   "file_extension": ".py",
   "mimetype": "text/x-python",
   "name": "python",
   "nbconvert_exporter": "python",
   "pygments_lexer": "ipython3",
   "version": "3.7.6"
  }
 },
 "nbformat": 4,
 "nbformat_minor": 4
}
